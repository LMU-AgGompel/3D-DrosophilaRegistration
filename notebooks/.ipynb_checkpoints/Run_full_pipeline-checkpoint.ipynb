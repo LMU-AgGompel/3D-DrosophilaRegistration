{
 "cells": [
  {
   "cell_type": "markdown",
   "id": "a07cb409-d49a-4524-b01d-9c0f365c4cc2",
   "metadata": {},
   "source": [
    "# Registration of confocal images of Drosophila abdomens \n",
    "\n",
    "This notebook runs the entire pipeline to register the confocal images of fly abdomens.\n",
    "The analysis is divided in few steps. Most of the code to perform each step is packed into python functions saved in files in the src folder and its subfolders. The results of each step of the analysis are saved in subsequent subfolders of the data folder."
   ]
  },
  {
   "cell_type": "code",
   "execution_count": 1,
   "id": "21102829-4228-4f22-b824-ac2a914c1066",
   "metadata": {},
   "outputs": [],
   "source": [
    "# import packages \n",
    "\n",
    "import matplotlib.pyplot as plt\n",
    "import numpy as np\n",
    "import os\n",
    "import pandas as pd\n",
    "import sys\n",
    "\n",
    "root_dir = os.path.join(os.getcwd(), '..')\n",
    "sys.path.append(root_dir)"
   ]
  },
  {
   "cell_type": "code",
   "execution_count": 3,
   "id": "f769d103-75a1-46c2-a1f4-063949295d83",
   "metadata": {},
   "outputs": [
    {
     "name": "stdout",
     "output_type": "stream",
     "text": [
      "Preprocessing of raw images in progress:\n"
     ]
    },
    {
     "name": "stderr",
     "output_type": "stream",
     "text": [
      "  1%|▋                                          | 2/134 [00:21<24:04, 10.94s/it]/media/ceolin/Data/Lab Gompel/Projects/Fly_Abdomens/abdomens_registration/notebooks/../src/preprocess.py:210: UserWarning: Only one label was provided to `remove_small_objects`. Did you mean to use a boolean array?\n",
      "  biggest_object = morphology.remove_small_objects(label_image, min_size=size-1)>0\n",
      "100%|███████████████████████████████████████| 134/134 [1:15:37<00:00, 33.86s/it]\n"
     ]
    }
   ],
   "source": [
    "# Importing the preprocessing function from the preprocess.py file:\n",
    "\n",
    "from src.preprocess import preprocess_and_segment_images\n",
    "\n",
    "raw_data_folder = \"/media/ceolin/Data/Lab Gompel/Projects/Fly_Abdomens/data/01_raw\"\n",
    "destination_folder = \"/media/ceolin/Data/Lab Gompel/Projects/Fly_Abdomens/data/02_preprocessed\"\n",
    "#binning of confocal stacks along z,x,y:\n",
    "binning = (18, 6, 6)\n",
    "# bit depth of raw images (depending on detector settings may be 8, 12 or 16)\n",
    "bit_depth = 8\n",
    "# name of the excel file containing the list of images to be used in the analysis. \n",
    "db_name = 'DatasetInformation.xlsx'\n",
    "\n",
    "preprocess_and_segment_images(raw_data_folder, destination_folder, binning, bit_depth, only_on_new_files = True, database_filename = db_name)"
   ]
  },
  {
   "cell_type": "code",
   "execution_count": 4,
   "id": "cde195c7-32dd-4180-b4f3-32440c376dde",
   "metadata": {},
   "outputs": [
    {
     "ename": "ImportError",
     "evalue": "cannot import name 'register_images' from 'src.registration' (/media/ceolin/Data/Lab Gompel/Projects/Fly_Abdomens/abdomens_registration/notebooks/../src/registration.py)",
     "output_type": "error",
     "traceback": [
      "\u001b[0;31m---------------------------------------------------------------------------\u001b[0m",
      "\u001b[0;31mImportError\u001b[0m                               Traceback (most recent call last)",
      "\u001b[0;32m/tmp/ipykernel_36849/2823178884.py\u001b[0m in \u001b[0;36m<module>\u001b[0;34m\u001b[0m\n\u001b[1;32m      1\u001b[0m \u001b[0;31m# Importing the registration function from the registration.py file:\u001b[0m\u001b[0;34m\u001b[0m\u001b[0;34m\u001b[0m\u001b[0;34m\u001b[0m\u001b[0m\n\u001b[1;32m      2\u001b[0m \u001b[0;34m\u001b[0m\u001b[0m\n\u001b[0;32m----> 3\u001b[0;31m \u001b[0;32mfrom\u001b[0m \u001b[0msrc\u001b[0m\u001b[0;34m.\u001b[0m\u001b[0mregistration\u001b[0m \u001b[0;32mimport\u001b[0m \u001b[0mregister_images\u001b[0m\u001b[0;34m\u001b[0m\u001b[0;34m\u001b[0m\u001b[0m\n\u001b[0m\u001b[1;32m      4\u001b[0m \u001b[0;34m\u001b[0m\u001b[0m\n\u001b[1;32m      5\u001b[0m \u001b[0mraw_data_folder\u001b[0m \u001b[0;34m=\u001b[0m \u001b[0;34m\"/media/ceolin/Data/Lab Gompel/Projects/Fly_Abdomens/data/01_raw\"\u001b[0m\u001b[0;34m\u001b[0m\u001b[0;34m\u001b[0m\u001b[0m\n",
      "\u001b[0;31mImportError\u001b[0m: cannot import name 'register_images' from 'src.registration' (/media/ceolin/Data/Lab Gompel/Projects/Fly_Abdomens/abdomens_registration/notebooks/../src/registration.py)"
     ]
    }
   ],
   "source": [
    "# Importing the registration function from the registration.py file:\n",
    "\n",
    "from src.registration import registration_of_abdomens_3D\n",
    "\n",
    "raw_data_folder = \"/media/ceolin/Data/Lab Gompel/Projects/Fly_Abdomens/data/01_raw\"\n",
    "destination_folder = \"/media/ceolin/Data/Lab Gompel/Projects/Fly_Abdomens/data/02_preprocessed\"\n",
    "\n",
    "read_folder = \"/media/ceolin/Data/Lab Gompel/Projects/Fly_Abdomens/data/02_preprocessed\"\n",
    "destination_folder = \"/media/ceolin/Data/Lab Gompel/Projects/Fly_Abdomens/data/03_registered\"\n",
    "reference_fly_filename = \"/media/ceolin/Data/Lab Gompel/Projects/Fly_Abdomens/data/References_and_masks/Aligned_Reference.tif\"\n",
    "abdomen_mask_file = \"/media/ceolin/Data/Lab Gompel/Projects/Fly_Abdomens/data/References_and_masks/Abdomen_Mask.tif\"\n",
    "df_name = \"DatasetInformation.xlsx\"\n",
    "\n",
    "preprocessed_df = pd.read_excel(os.path.join(read_folder,df_name))\n",
    "registration_of_abdomens_3D(preprocessed_df, read_folder, reference_fly_filename, abdomen_mask_file, destination_folder)"
   ]
  },
  {
   "cell_type": "code",
   "execution_count": null,
   "id": "79ccfee3-8e27-4a57-871e-d820aa423d52",
   "metadata": {},
   "outputs": [],
   "source": []
  }
 ],
 "metadata": {
  "kernelspec": {
   "display_name": "Python 3 (ipykernel)",
   "language": "python",
   "name": "python3"
  },
  "language_info": {
   "codemirror_mode": {
    "name": "ipython",
    "version": 3
   },
   "file_extension": ".py",
   "mimetype": "text/x-python",
   "name": "python",
   "nbconvert_exporter": "python",
   "pygments_lexer": "ipython3",
   "version": "3.8.12"
  }
 },
 "nbformat": 4,
 "nbformat_minor": 5
}
