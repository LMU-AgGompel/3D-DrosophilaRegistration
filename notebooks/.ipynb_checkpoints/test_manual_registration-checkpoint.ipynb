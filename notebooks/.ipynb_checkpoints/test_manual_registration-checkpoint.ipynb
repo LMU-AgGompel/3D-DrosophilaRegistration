{
 "cells": [
  {
   "cell_type": "code",
   "execution_count": 1,
   "id": "a8b4d220-5903-49e8-8704-d26569a4263c",
   "metadata": {},
   "outputs": [
    {
     "name": "stdout",
     "output_type": "stream",
     "text": [
      "Jupyter environment detected. Enabling Open3D WebVisualizer.\n",
      "[Open3D INFO] WebRTC GUI backend enabled.\n",
      "[Open3D INFO] WebRTCWindowSystem: HTTP handshake server disabled.\n"
     ]
    }
   ],
   "source": [
    "# import packages \n",
    "import pandas as pd\n",
    "import os\n",
    "from io import StringIO\n",
    "from skimage import io, transform\n",
    "import numpy as np\n",
    "import open3d as o3d\n",
    "import copy\n",
    "import napari\n",
    "from skimage import morphology\n",
    "from skimage.measure import label, regionprops, block_reduce\n",
    "from scipy import stats, ndimage\n",
    "import matplotlib.pyplot as plt\n",
    "from tifffile import imsave\n",
    "from tqdm import tqdm\n",
    "import sys\n",
    "import os\n",
    "\n",
    "\n",
    "root_dir = os.path.join(os.getcwd(), '..')\n",
    "sys.path.append(root_dir)\n",
    "\n",
    "\n",
    "from src.aux_pcd_functions  import pcd_to_image, image_to_pcd"
   ]
  },
  {
   "cell_type": "code",
   "execution_count": 2,
   "id": "43a7a6c9-59a7-4f7b-b346-cc1a1e34192b",
   "metadata": {},
   "outputs": [],
   "source": [
    "def draw_registration_result(source, target, transformation):\n",
    "    source_temp = copy.deepcopy(source)\n",
    "    target_temp = copy.deepcopy(target)\n",
    "    source_temp.paint_uniform_color([1, 0.706, 0])\n",
    "    target_temp.paint_uniform_color([0, 0.651, 0.929])\n",
    "    source_temp.transform(transformation)\n",
    "    o3d.visualization.draw_geometries([source_temp, target_temp])\n",
    "\n",
    "def _manual_registration(source, source_values, target, target_values):\n",
    "    \n",
    "    mat_ground = o3d.visualization.Material(\"defaultLitSSR\")\n",
    "    mat_ground.scalar_properties['roughness'] = 0.15\n",
    "    mat_ground.scalar_properties['reflectance'] = 0.72\n",
    "    mat_ground.scalar_properties['transmission'] = 0.6\n",
    "    mat_ground.scalar_properties['thickness'] = 0.3\n",
    "    mat_ground.scalar_properties['absorption_distance'] = 0.1\n",
    "    \n",
    "    source_temp = copy.deepcopy(source)\n",
    "    target_temp = copy.deepcopy(target)\n",
    "    \n",
    "    bw_colors = 3*source_values/np.max(source_values)\n",
    "    source_temp.colors = o3d.utility.Vector3dVector(np.asarray([bw_colors, bw_colors, bw_colors]).T)\n",
    "\n",
    "    bw_colors = 3*target_values/np.max(target_values)\n",
    "    target_temp.colors = o3d.utility.Vector3dVector(np.asarray([bw_colors, bw_colors, bw_colors]).T)\n",
    "    \n",
    "    target_temp = target_temp.uniform_down_sample(every_k_points=50)\n",
    "    source_temp = source_temp.uniform_down_sample(every_k_points=50)\n",
    "    print(\"pcd ok\")\n",
    "    source_temp = o3d.geometry.TetraMesh.create_from_point_cloud(source_temp)\n",
    "    print(\"mesh created\")\n",
    "    #source_temp.material = mat_ground\n",
    "    print(\"mesh material ok\")\n",
    "\n",
    "    target_temp = o3d.geometry.TetraMesh.create_from_point_cloud(target_temp)\n",
    "    #target_temp.material = mat_ground\n",
    "    \n",
    "\n",
    "    # pick points from two point clouds and builds correspondences\n",
    "    picked_id_source = pick_points(source_temp)\n",
    "    picked_id_target = pick_points(target_temp)\n",
    "    \n",
    "    \n",
    "    assert (len(picked_id_source) >= 3 and len(picked_id_target) >= 3)\n",
    "    assert (len(picked_id_source) == len(picked_id_target))\n",
    "    corr = np.zeros((len(picked_id_source), 2))\n",
    "    corr[:, 0] = picked_id_source\n",
    "    corr[:, 1] = picked_id_target\n",
    "\n",
    "    # estimate transformation:\n",
    "    p2p = o3d.pipelines.registration.TransformationEstimationPointToPoint(with_scaling=True)\n",
    "    trans_init = p2p.compute_transformation(source, target, o3d.utility.Vector2iVector(corr))\n",
    "    source_transformed = copy.deepcopy(source)\n",
    "    source_transformed.transform(trans_init)\n",
    "    \n",
    "    draw_registration_result(source_transformed, target, np.identity(4))\n",
    "    \n",
    "    return source_transformed\n",
    "\n",
    "\n",
    "def pick_points(pcd):\n",
    "    # These are used to suppress the printed output from Open3D whil epicking points:\n",
    "    stdout_old = sys.stdout\n",
    "    sys.stdout = StringIO()\n",
    "    # Create Visualizer with editing:\n",
    "    vis = o3d.visualization.VisualizerWithEditing()\n",
    "    vis.create_window()\n",
    "    vis.add_geometry(pcd)\n",
    "    # user picks points\n",
    "    result = vis.run()  \n",
    "    vis.destroy_window()\n",
    "    # This restores the output:\n",
    "    sys.stdout = stdout_old\n",
    "    return vis.get_picked_points()"
   ]
  },
  {
   "cell_type": "markdown",
   "id": "3136635d",
   "metadata": {},
   "source": [
    "### test registration without color:"
   ]
  },
  {
   "cell_type": "code",
   "execution_count": 3,
   "id": "8158461b",
   "metadata": {},
   "outputs": [
    {
     "name": "stdout",
     "output_type": "stream",
     "text": [
      "pcd ok\n"
     ]
    },
    {
     "ename": "AssertionError",
     "evalue": "",
     "output_type": "error",
     "traceback": [
      "\u001b[0;31m---------------------------------------------------------------------------\u001b[0m",
      "\u001b[0;31mAssertionError\u001b[0m                            Traceback (most recent call last)",
      "\u001b[0;32m/tmp/ipykernel_23611/952685891.py\u001b[0m in \u001b[0;36m<module>\u001b[0;34m\u001b[0m\n\u001b[1;32m     19\u001b[0m \u001b[0mtarget\u001b[0m\u001b[0;34m,\u001b[0m \u001b[0mtarget_values\u001b[0m \u001b[0;34m=\u001b[0m \u001b[0mimage_to_pcd\u001b[0m\u001b[0;34m(\u001b[0m\u001b[0mReference_Image\u001b[0m\u001b[0;34m)\u001b[0m\u001b[0;34m\u001b[0m\u001b[0;34m\u001b[0m\u001b[0m\n\u001b[1;32m     20\u001b[0m \u001b[0;34m\u001b[0m\u001b[0m\n\u001b[0;32m---> 21\u001b[0;31m \u001b[0msource\u001b[0m \u001b[0;34m=\u001b[0m \u001b[0m_manual_registration\u001b[0m\u001b[0;34m(\u001b[0m\u001b[0msource\u001b[0m\u001b[0;34m,\u001b[0m \u001b[0msource_values\u001b[0m\u001b[0;34m,\u001b[0m \u001b[0mtarget\u001b[0m\u001b[0;34m,\u001b[0m \u001b[0mtarget_values\u001b[0m\u001b[0;34m)\u001b[0m\u001b[0;34m\u001b[0m\u001b[0;34m\u001b[0m\u001b[0m\n\u001b[0m",
      "\u001b[0;32m/tmp/ipykernel_23611/1004887800.py\u001b[0m in \u001b[0;36m_manual_registration\u001b[0;34m(source, source_values, target, target_values)\u001b[0m\n\u001b[1;32m     42\u001b[0m \u001b[0;34m\u001b[0m\u001b[0m\n\u001b[1;32m     43\u001b[0m \u001b[0;34m\u001b[0m\u001b[0m\n\u001b[0;32m---> 44\u001b[0;31m     \u001b[0;32massert\u001b[0m \u001b[0;34m(\u001b[0m\u001b[0mlen\u001b[0m\u001b[0;34m(\u001b[0m\u001b[0mpicked_id_source\u001b[0m\u001b[0;34m)\u001b[0m \u001b[0;34m>=\u001b[0m \u001b[0;36m3\u001b[0m \u001b[0;32mand\u001b[0m \u001b[0mlen\u001b[0m\u001b[0;34m(\u001b[0m\u001b[0mpicked_id_target\u001b[0m\u001b[0;34m)\u001b[0m \u001b[0;34m>=\u001b[0m \u001b[0;36m3\u001b[0m\u001b[0;34m)\u001b[0m\u001b[0;34m\u001b[0m\u001b[0;34m\u001b[0m\u001b[0m\n\u001b[0m\u001b[1;32m     45\u001b[0m     \u001b[0;32massert\u001b[0m \u001b[0;34m(\u001b[0m\u001b[0mlen\u001b[0m\u001b[0;34m(\u001b[0m\u001b[0mpicked_id_source\u001b[0m\u001b[0;34m)\u001b[0m \u001b[0;34m==\u001b[0m \u001b[0mlen\u001b[0m\u001b[0;34m(\u001b[0m\u001b[0mpicked_id_target\u001b[0m\u001b[0;34m)\u001b[0m\u001b[0;34m)\u001b[0m\u001b[0;34m\u001b[0m\u001b[0;34m\u001b[0m\u001b[0m\n\u001b[1;32m     46\u001b[0m     \u001b[0mcorr\u001b[0m \u001b[0;34m=\u001b[0m \u001b[0mnp\u001b[0m\u001b[0;34m.\u001b[0m\u001b[0mzeros\u001b[0m\u001b[0;34m(\u001b[0m\u001b[0;34m(\u001b[0m\u001b[0mlen\u001b[0m\u001b[0;34m(\u001b[0m\u001b[0mpicked_id_source\u001b[0m\u001b[0;34m)\u001b[0m\u001b[0;34m,\u001b[0m \u001b[0;36m2\u001b[0m\u001b[0;34m)\u001b[0m\u001b[0;34m)\u001b[0m\u001b[0;34m\u001b[0m\u001b[0;34m\u001b[0m\u001b[0m\n",
      "\u001b[0;31mAssertionError\u001b[0m: "
     ]
    }
   ],
   "source": [
    "# Test registration:\n",
    "\n",
    "# Read files and create point clouds\n",
    "reference_fly_filename = \"/media/ceolin/Data/Lab Gompel/Projects/Fly_Abdomens/data_2/References_and_masks/Reference_abdomen_binary_2_2_2.tif\"\n",
    "abdomen_mask_file = \"/media/ceolin/Data/Lab Gompel/Projects/Fly_Abdomens/data_2/References_and_masks/Reference_abdomen_mask_thick_2_2_2.tif\"\n",
    "\n",
    "source_file_name = \"/media/ceolin/Data/Lab Gompel/Projects/Fly_Abdomens/data_2/02_preprocessed/Preprocessed_C1-220320_D6xEn-Gal4_1.tif\"\n",
    "source_file_name_dsred = \"/media/ceolin/Data/Lab Gompel/Projects/Fly_Abdomens/data_2/02_preprocessed/Preprocessed_C2-220320_D6xEn-Gal4_1.tif\"\n",
    "\n",
    "Reference_Image = io.imread(reference_fly_filename)\n",
    "Abdomen_Mask = io.imread(abdomen_mask_file)\n",
    "Source_Image = io.imread(source_file_name)\n",
    "Source_dsred = io.imread(source_file_name_dsred)\n",
    "\n",
    "#Source_TL = segmented_image_TL\n",
    "source, source_values = image_to_pcd(Source_Image)\n",
    "source_dsred, source_values_dsred = image_to_pcd(Source_dsred)\n",
    "\n",
    "target, target_values = image_to_pcd(Reference_Image)\n",
    "\n",
    "source = _manual_registration(source, source_values, target, target_values)"
   ]
  },
  {
   "cell_type": "code",
   "execution_count": null,
   "id": "ac0244a8",
   "metadata": {},
   "outputs": [],
   "source": []
  }
 ],
 "metadata": {
  "kernelspec": {
   "display_name": "Python 3 (ipykernel)",
   "language": "python",
   "name": "python3"
  },
  "language_info": {
   "codemirror_mode": {
    "name": "ipython",
    "version": 3
   },
   "file_extension": ".py",
   "mimetype": "text/x-python",
   "name": "python",
   "nbconvert_exporter": "python",
   "pygments_lexer": "ipython3",
   "version": "3.8.12"
  }
 },
 "nbformat": 4,
 "nbformat_minor": 5
}
