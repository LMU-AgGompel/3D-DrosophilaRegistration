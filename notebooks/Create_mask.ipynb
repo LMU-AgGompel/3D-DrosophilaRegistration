{
 "cells": [
  {
   "cell_type": "code",
   "execution_count": 1,
   "id": "a8b4d220-5903-49e8-8704-d26569a4263c",
   "metadata": {},
   "outputs": [
    {
     "name": "stdout",
     "output_type": "stream",
     "text": [
      "Jupyter environment detected. Enabling Open3D WebVisualizer.\n",
      "[Open3D INFO] WebRTC GUI backend enabled.\n",
      "[Open3D INFO] WebRTCWindowSystem: HTTP handshake server disabled.\n"
     ]
    }
   ],
   "source": [
    "# import packages \n",
    "from skimage import io, transform\n",
    "import numpy as np\n",
    "import open3d as o3d\n",
    "import copy\n",
    "import napari\n",
    "import time\n",
    "import os\n",
    "\n",
    "from skimage import morphology\n",
    "from skimage.measure import label, regionprops, block_reduce\n",
    "from scipy import stats, ndimage\n",
    "import matplotlib.pyplot as plt\n",
    "import sys\n",
    "\n",
    "root_dir = os.path.join(os.getcwd(), '..')\n",
    "sys.path.append(root_dir)\n",
    "\n",
    "\n",
    "from src.preprocess import segmentation_with_optimized_thresh, image_padding, clean_up_segmented_image\n",
    "from src.registration import image_to_pcd, pcd_to_image"
   ]
  },
  {
   "cell_type": "code",
   "execution_count": 44,
   "id": "b5d931ae-3693-4322-a042-a77155c30e1c",
   "metadata": {},
   "outputs": [
    {
     "name": "stdout",
     "output_type": "stream",
     "text": [
      "Preprocessing of the image took:  37.63531303405762 seconds\n"
     ]
    }
   ],
   "source": [
    "t0 = time.time()\n",
    "\n",
    "# Read the image, only fluorescence channel is required:\n",
    "#reference_fly_filename = \"/media/ceolin/Data/Lab Gompel/Projects/Fly_Abdomens/data/References_and_masks/Reference_abdomen.tif\"\n",
    "#reference_fly_filename = \"/media/ceolin/Data/Lab Gompel/Projects/Fly_Abdomens/data/01_raw/output/C1-A0B0_male_1_20190706.tif\"\n",
    "reference_fly_filename = \"/media/ceolin/Data/Lab Gompel/Projects/Fly_Abdomens/data/01_raw/output/C1-0_male_1_20190604.tif\"\n",
    "image = io.imread(reference_fly_filename)\n",
    "\n",
    "# Downscaling:\n",
    "downscaling =  (12,4,4)\n",
    "image_downscaled = transform.downscale_local_mean(image, downscaling)[1:-2,1:-2,1:-2]\n",
    "\n",
    "# Segment:\n",
    "Thresholded_Image = segmentation_with_optimized_thresh(image_downscaled, fraction_range = [0.03, 0.04])\n",
    "#viewer = napari.view_image(thresholded)\n",
    "\n",
    "# Padding:\n",
    "Thresholded_Image  = image_padding(Thresholded_Image)\n",
    "\n",
    "# Clean up the segmentation with morphological transformations:\n",
    "Thresholded_Image = clean_up_segmented_image(Thresholded_Image)\n",
    "\n",
    "t1 = time.time()\n",
    "\n",
    "# print running time:\n",
    "\n",
    "print(\"Preprocessing of the image took: \", t1-t0, \"seconds\")\n",
    "\n",
    "viewer = napari.view_image(Thresholded_Image)"
   ]
  },
  {
   "cell_type": "code",
   "execution_count": 45,
   "id": "70a2dc91-45b8-436c-a13e-4c8893553cd5",
   "metadata": {},
   "outputs": [
    {
     "name": "stdout",
     "output_type": "stream",
     "text": [
      "-26.636975148478506 36.363024851521494\n",
      "-131.18881536350813 119.76843029429409\n",
      "-66.17375495337274 81.8353746015645\n",
      "10.0 73.0\n",
      "20.0 270.9572456578022\n",
      "10.0 158.00912955493723\n"
     ]
    }
   ],
   "source": [
    "def draw_pcd(pcd):\n",
    "    pcd_temp = copy.deepcopy(pcd)\n",
    "    pcd_temp.paint_uniform_color([1, 0.706, 0])\n",
    "    o3d.visualization.draw_geometries([pcd_temp])\n",
    "\n",
    "# Create a pcd:\n",
    "pcd, pcd_values = image_to_pcd(Thresholded_Image)\n",
    "\n",
    "# Translate and rotate the point cloud:\n",
    "pcd_mean, pcd_cov = pcd.compute_mean_and_covariance()\n",
    "_ , pcd_eigv = np.linalg.eig(pcd_cov)\n",
    "\n",
    "# Transform to a base given by the first eigenvector (a,b,c), (0,0,1) and their vector product: (b,-a,0)\n",
    "\n",
    "b = pcd_eigv[1,0]\n",
    "c = pcd_eigv[2,0]\n",
    "b, c = b/(b**2+c**2)**0.5, c/(b**2+c**2)**0.5\n",
    "\n",
    "temp = np.asarray([[1.0, 0.0, 0.0], [0.0, b, c], [0.0, c, -b]])\n",
    "transformation_pcd = np.eye(4)\n",
    "transformation_pcd[:3, :3] = np.linalg.inv(temp)\n",
    "    \n",
    "pcd.translate(-pcd_mean)\n",
    "pcd.transform(transformation_pcd)\n",
    "\n",
    "array = np.asarray(pcd.points)\n",
    "\n",
    "translation = [-min(array[:,0])+10,-min(array[:,1])+20, -min(array[:,2])+10]\n",
    "pcd.translate(translation)\n",
    "array = np.asarray(pcd.points)\n",
    "\n",
    "\n",
    "#draw_pcd(pcd)\n",
    "#o3d.visualization.draw_geometries([pcd])\n",
    "\n",
    "def skeletonize_slices(image_3d):\n",
    "    \n",
    "    result_1 = np.zeros(image_3d.shape)\n",
    "    #result_2 = np.zeros(image_3d.shape)\n",
    "    #result_3 = np.zeros(image_3d.shape)\n",
    "    \n",
    "    #for i in range(image_3d.shape[0]):\n",
    "    #    image = image_3d[i,:,:]\n",
    "    #    skeleton = morphology.skeletonize(image)\n",
    "    #    result_1[i,:,:] = skeleton\n",
    "    \n",
    "    for i in range(image_3d.shape[1]):\n",
    "        image = image_3d[:,i,:]\n",
    "        skeleton = morphology.skeletonize(image)\n",
    "        result_1[:,i,:] = skeleton\n",
    "        \n",
    "    #for i in range(image_3d.shape[2]):\n",
    "    #    image = image_3d[:,:,i]\n",
    "    #    skeleton = morphology.skeletonize(image)\n",
    "    #    result_3[:,:,i] = skeleton\n",
    "        \n",
    "        \n",
    "    return result_1#*result_2*result_3\n",
    "        \n",
    "\n",
    "new_reference = pcd_to_image(pcd, pcd_values, Thresholded_Image.shape)"
   ]
  },
  {
   "cell_type": "code",
   "execution_count": 46,
   "id": "9394a29a-72fe-41d6-888e-1f46d5fa397f",
   "metadata": {},
   "outputs": [],
   "source": [
    "#skeletonized = morphology.skeletonize_3d(new_reference)\n",
    "skeletonized = skeletonize_slices(new_reference)\n",
    "\n",
    "#viewer = napari.view_image(skeletonized+new_reference)\n",
    "\n",
    "skeleton_pcd, skeleton_values = image_to_pcd(skeletonized)\n",
    "\n",
    "\n",
    "\n",
    "uni_down_pcd = skeleton_pcd.uniform_down_sample(every_k_points=3)\n",
    "\n",
    "\n",
    "\n",
    "cleaned, ind = uni_down_pcd.remove_radius_outlier(nb_points=4, radius=3)\n",
    "cleaned, ind = cleaned.remove_radius_outlier(nb_points=4, radius=3)\n",
    "\n",
    "cleaned_values = np.ones(np.asarray(cleaned.points).shape[0])\n",
    "\n",
    "o3d.visualization.draw_geometries([cleaned])\n",
    "\n",
    "reference = pcd_to_image(cleaned, cleaned_values, Thresholded_Image.shape)\n",
    "#reference = morphology.dilation(reference, morphology.ball(3))\n",
    "\n",
    "#viewer = napari.view_image(new_reference+reference)"
   ]
  },
  {
   "cell_type": "code",
   "execution_count": 47,
   "id": "11307991-4b14-40a6-876b-f47166687194",
   "metadata": {},
   "outputs": [],
   "source": [
    "skeleton_pcd = cleaned\n",
    "#skeleton_pcd.normals = o3d.utility.Vector3dVector(np.zeros((1, 3)))  # invalidate existing normals\n",
    "\n",
    "skeleton_pcd.estimate_normals()\n",
    "skeleton_pcd.orient_normals_consistent_tangent_plane(k=30)\n",
    "o3d.visualization.draw_geometries([skeleton_pcd], point_show_normal=True)\n",
    "\n",
    "poisson_mesh = o3d.geometry.TriangleMesh.create_from_point_cloud_poisson(skeleton_pcd, depth=5, width=0, scale=1.2, linear_fit=True)[0]\n",
    "\n",
    "bbox = skeleton_pcd.get_axis_aligned_bounding_box()\n",
    "p_mesh_crop = poisson_mesh.crop(bbox)\n",
    "\n",
    "o3d.visualization.draw_geometries([skeleton_pcd, p_mesh_crop ])\n",
    "pcd = p_mesh_crop.sample_points_uniformly(number_of_points=50000)\n",
    "\n",
    "p2 = np.concatenate((skeleton_pcd.points, pcd.points), axis=0)\n",
    "\n",
    "pointSet2 = o3d.geometry.PointCloud()\n",
    "pointSet2.points = o3d.utility.Vector3dVector(p2)\n",
    "o3d.visualization.draw_geometries([pointSet2])\n",
    "\n",
    "pcd = pointSet2\n",
    "pcd_values = np.ones(np.asarray(pcd.points).shape[0])\n",
    "reference = pcd_to_image(pcd, pcd_values, Thresholded_Image.shape)\n",
    "reference = morphology.dilation(reference, morphology.ball(3))\n",
    "\n",
    "viewer = napari.view_image(new_reference+reference)"
   ]
  },
  {
   "cell_type": "code",
   "execution_count": 19,
   "id": "a6b03f91-1fcd-42ca-97f8-8a90b0ee5491",
   "metadata": {},
   "outputs": [
    {
     "data": {
      "text/plain": [
       "(115, 293, 293)"
      ]
     },
     "execution_count": 19,
     "metadata": {},
     "output_type": "execute_result"
    }
   ],
   "source": [
    "Thresholded_Image.shape"
   ]
  },
  {
   "cell_type": "code",
   "execution_count": 5,
   "id": "8cadd089-86e7-4611-8935-223a8418faf9",
   "metadata": {},
   "outputs": [],
   "source": [
    "# Save the new reference as tiff file\n",
    "from tifffile import imsave\n",
    "output_file_name = \"/media/ceolin/Data/Lab Gompel/Projects/Fly_Abdomens/data/References_and_masks/Reference_abdomen_12_4_4.tif\"\n",
    "imsave(output_file_name, skeletonized)"
   ]
  },
  {
   "cell_type": "code",
   "execution_count": null,
   "id": "50e6fae2-4d9c-4b45-b376-b73e23828a2d",
   "metadata": {},
   "outputs": [],
   "source": []
  }
 ],
 "metadata": {
  "kernelspec": {
   "display_name": "Python 3 (ipykernel)",
   "language": "python",
   "name": "python3"
  },
  "language_info": {
   "codemirror_mode": {
    "name": "ipython",
    "version": 3
   },
   "file_extension": ".py",
   "mimetype": "text/x-python",
   "name": "python",
   "nbconvert_exporter": "python",
   "pygments_lexer": "ipython3",
   "version": "3.8.12"
  }
 },
 "nbformat": 4,
 "nbformat_minor": 5
}
