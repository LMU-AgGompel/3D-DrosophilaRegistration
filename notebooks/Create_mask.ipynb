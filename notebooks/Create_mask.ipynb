{
 "cells": [
  {
   "cell_type": "code",
   "execution_count": 1,
   "id": "a8b4d220-5903-49e8-8704-d26569a4263c",
   "metadata": {},
   "outputs": [
    {
     "name": "stdout",
     "output_type": "stream",
     "text": [
      "Jupyter environment detected. Enabling Open3D WebVisualizer.\n",
      "[Open3D INFO] WebRTC GUI backend enabled.\n",
      "[Open3D INFO] WebRTCWindowSystem: HTTP handshake server disabled.\n"
     ]
    }
   ],
   "source": [
    "# import packages \n",
    "from skimage import io, transform\n",
    "import numpy as np\n",
    "import open3d as o3d\n",
    "import copy\n",
    "import napari\n",
    "import time\n",
    "import os\n",
    "\n",
    "from skimage import morphology\n",
    "from skimage.measure import label, regionprops, block_reduce\n",
    "from scipy import stats, ndimage\n",
    "import matplotlib.pyplot as plt\n",
    "import sys\n",
    "\n",
    "root_dir = os.path.join(os.getcwd(), '..')\n",
    "sys.path.append(root_dir)\n",
    "\n",
    "\n",
    "from src.preprocess import segmentation_with_optimized_thresh, image_padding, clean_up_segmented_image\n",
    "from src.registration import image_to_pcd, pcd_to_image"
   ]
  },
  {
   "cell_type": "code",
   "execution_count": 2,
   "id": "9ae575d5-a3ca-4d26-a83d-69b6c1f6e263",
   "metadata": {},
   "outputs": [
    {
     "name": "stdout",
     "output_type": "stream",
     "text": [
      "38\n",
      "0.014859255378515065\n",
      "Preprocessing of the image took:  19.20512318611145 seconds\n"
     ]
    }
   ],
   "source": [
    "t0 = time.time()\n",
    "\n",
    "# Read the image, only GFP channel is required:\n",
    "reference_fly_filename = \"/media/ceolin/Data/Lab Gompel/Projects/Fly_Abdomens/data_2/References_and_masks/C1-Reference_Abdomen.tif\"\n",
    "image = io.imread(reference_fly_filename)\n",
    "\n",
    "# Downscaling:\n",
    "downscaling =  (2,2,2)\n",
    "image_downscaled = transform.downscale_local_mean(image, downscaling)[1:-2,1:-2,1:-2]\n",
    "#image_downscaled = image\n",
    "\n",
    "# Segment:\n",
    "Thresholded_Image = segmentation_with_optimized_thresh(image_downscaled, fraction_range = [0.010, 0.015])\n",
    "#viewer = napari.view_image(thresholded)\n",
    "\n",
    "# Padding:\n",
    "Thresholded_Image  = image_padding(Thresholded_Image)\n",
    "\n",
    "# Clean up the segmentation with morphological transformations:\n",
    "Thresholded_Image = clean_up_segmented_image(Thresholded_Image)\n",
    "\n",
    "t1 = time.time()\n",
    "\n",
    "# print running time:\n",
    "\n",
    "print(\"Preprocessing of the image took: \", t1-t0, \"seconds\")"
   ]
  },
  {
   "cell_type": "code",
   "execution_count": 3,
   "id": "b482a9b6-8458-4171-bbf3-fa383d713903",
   "metadata": {},
   "outputs": [],
   "source": [
    "viewer = napari.view_image(Thresholded_Image)\n",
    "\n",
    "image_padded = image_padding(image_downscaled)\n",
    "\n",
    "viewer = napari.view_image(Thresholded_Image*image_padded)"
   ]
  },
  {
   "cell_type": "code",
   "execution_count": 4,
   "id": "70a2dc91-45b8-436c-a13e-4c8893553cd5",
   "metadata": {},
   "outputs": [],
   "source": [
    "# Convert to a pcd to rotate and align the image:\n",
    "\n",
    "def draw_pcd(pcd):\n",
    "    pcd_temp = copy.deepcopy(pcd)\n",
    "    pcd_temp.paint_uniform_color([1, 0.706, 0])\n",
    "    o3d.visualization.draw_geometries([pcd_temp])\n",
    "\n",
    "# Create a pcd:\n",
    "pcd, pcd_original_values  = image_to_pcd(Thresholded_Image*image_padded)\n",
    "\n",
    "# Translate and rotate the point cloud:\n",
    "pcd_mean, pcd_cov = pcd.compute_mean_and_covariance()\n",
    "_ , pcd_eigv = np.linalg.eig(pcd_cov)\n",
    "\n",
    "# Transform to a base given by the first eigenvector (a,b,c) which should be aligned with the abdomen,\n",
    "# the vertical versor (0,0,1) and their vector product: (b,-a,0)\n",
    "\n",
    "b = pcd_eigv[1,0]\n",
    "c = pcd_eigv[2,0]\n",
    "b, c = b/(b**2+c**2)**0.5, c/(b**2+c**2)**0.5\n",
    "\n",
    "temp = np.asarray([[1.0, 0.0, 0.0], [0.0, b, c], [0.0, c, -b]])\n",
    "transformation_pcd = np.eye(4)\n",
    "transformation_pcd[:3, :3] = np.linalg.inv(temp)\n",
    "    \n",
    "pcd.translate(-pcd_mean)\n",
    "pcd.transform(transformation_pcd)\n",
    "\n",
    "array = np.asarray(pcd.points)\n",
    "\n",
    "translation = [-min(array[:,0])+10,-min(array[:,1])+20, -min(array[:,2])+10]\n",
    "pcd.translate(translation)\n",
    "array = np.asarray(pcd.points)\n",
    "\n",
    "new_reference_colored = pcd_to_image(pcd, pcd_original_values, Thresholded_Image.shape)\n",
    "new_reference_binary = new_reference_colored > 0\n",
    "\n",
    "viewer = napari.view_image(new_reference_binary)"
   ]
  },
  {
   "cell_type": "code",
   "execution_count": 5,
   "id": "8cadd089-86e7-4611-8935-223a8418faf9",
   "metadata": {},
   "outputs": [],
   "source": [
    "# Save the new reference as tiff file\n",
    "from tifffile import imsave\n",
    "output_file_name = \"/media/ceolin/Data/Lab Gompel/Projects/Fly_Abdomens/data_2/References_and_masks/Reference_abdomen_2_2_2.tif\"\n",
    "imsave(output_file_name, new_reference_colored)\n",
    "\n",
    "output_file_name = \"/media/ceolin/Data/Lab Gompel/Projects/Fly_Abdomens/data_2/References_and_masks/Reference_abdomen_binary_2_2_2.tif\"\n",
    "imsave(output_file_name, new_reference_binary)"
   ]
  },
  {
   "cell_type": "code",
   "execution_count": null,
   "id": "50e6fae2-4d9c-4b45-b376-b73e23828a2d",
   "metadata": {},
   "outputs": [],
   "source": []
  }
 ],
 "metadata": {
  "kernelspec": {
   "display_name": "Python 3 (ipykernel)",
   "language": "python",
   "name": "python3"
  },
  "language_info": {
   "codemirror_mode": {
    "name": "ipython",
    "version": 3
   },
   "file_extension": ".py",
   "mimetype": "text/x-python",
   "name": "python",
   "nbconvert_exporter": "python",
   "pygments_lexer": "ipython3",
   "version": "3.8.12"
  }
 },
 "nbformat": 4,
 "nbformat_minor": 5
}
