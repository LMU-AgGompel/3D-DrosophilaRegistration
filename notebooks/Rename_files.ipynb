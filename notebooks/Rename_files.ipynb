{
 "cells": [
  {
   "cell_type": "code",
   "execution_count": 1,
   "id": "0d921525-358a-449d-9624-6d6a357201c3",
   "metadata": {},
   "outputs": [
    {
     "name": "stdout",
     "output_type": "stream",
     "text": [
      "25_2_D2xEn-Gal4_1.lif - TileScan_002 - C=0.tif\n",
      "C1-25_2_D2xEn-Gal4_1_TileScan_002.tif\n",
      "25_2_D2xEn-Gal4_1.lif - TileScan_002 - C=1.tif\n",
      "C2-25_2_D2xEn-Gal4_1_TileScan_002.tif\n",
      "28_2_D2xEn-Gal4_1.lif - C=0.tif\n",
      "C1-28_2_D2xEn-Gal4_1_C=0.tif\n",
      "28_2_D2xEn-Gal4_1.lif - C=1.tif\n",
      "C2-28_2_D2xEn-Gal4_1_C=1.tif\n",
      "28_2_D2xEn-Gal4_2.lif - C=0.tif\n",
      "C1-28_2_D2xEn-Gal4_2_C=0.tif\n",
      "28_2_D2xEn-Gal4_2.lif - C=1.tif\n",
      "C2-28_2_D2xEn-Gal4_2_C=1.tif\n",
      "28_2_D6xEn-Gal4_1.lif - C=0.tif\n",
      "C1-28_2_D6xEn-Gal4_1_C=0.tif\n",
      "28_2_D6xEn-Gal4_1.lif - C=1.tif\n",
      "C2-28_2_D6xEn-Gal4_1_C=1.tif\n"
     ]
    }
   ],
   "source": [
    "import os\n",
    "from copy import copy\n",
    "\n",
    "raw_data_folder = \"/media/ceolin/Data/Lab Gompel/Projects/Fly_Abdomens/data_2/01_raw/multiple\"\n",
    "\n",
    "os.chdir(raw_data_folder)\n",
    "\n",
    "\n",
    "for file in os.listdir():\n",
    "    if file.endswith(\".tif\"):\n",
    "        old_name = copy(file)\n",
    "        print(old_name)\n",
    "        if \"C=0\" in old_name:\n",
    "            new_name = \"C1-\"+old_name.replace(\".lif - \",\"_\").replace(\" - C=0\",\"\")\n",
    "            os.rename(old_name, new_name)\n",
    "            print(new_name)\n",
    "        if \"C=1\" in old_name:\n",
    "            new_name = \"C2-\"+old_name.replace(\".lif - \",\"_\").replace(\" - C=1\",\"\")\n",
    "            os.rename(old_name, new_name)\n",
    "            print(new_name)"
   ]
  },
  {
   "cell_type": "code",
   "execution_count": null,
   "id": "73d6d9b2-b019-4bb6-b2a8-01cddafa5c4f",
   "metadata": {},
   "outputs": [],
   "source": []
  },
  {
   "cell_type": "code",
   "execution_count": null,
   "id": "506909f7-8552-4783-a7c9-d9b39db9442f",
   "metadata": {},
   "outputs": [],
   "source": []
  }
 ],
 "metadata": {
  "kernelspec": {
   "display_name": "Python 3 (ipykernel)",
   "language": "python",
   "name": "python3"
  },
  "language_info": {
   "codemirror_mode": {
    "name": "ipython",
    "version": 3
   },
   "file_extension": ".py",
   "mimetype": "text/x-python",
   "name": "python",
   "nbconvert_exporter": "python",
   "pygments_lexer": "ipython3",
   "version": "3.8.12"
  }
 },
 "nbformat": 4,
 "nbformat_minor": 5
}
