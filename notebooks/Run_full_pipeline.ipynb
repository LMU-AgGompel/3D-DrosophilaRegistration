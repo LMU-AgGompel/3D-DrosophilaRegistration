{
 "cells": [
  {
   "cell_type": "markdown",
   "id": "a07cb409-d49a-4524-b01d-9c0f365c4cc2",
   "metadata": {},
   "source": [
    "# Registration of confocal images of Drosophila abdomens \n",
    "\n",
    "This notebook runs the entire pipeline to register the confocal images of fly abdomens.\n",
    "The analysis is divided in few steps. Most of the code to perform each step is packed into python functions saved in files in the src folder and its subfolders. The results of each step of the analysis are saved in subsequent subfolders of the data folder."
   ]
  },
  {
   "cell_type": "code",
   "execution_count": 1,
   "id": "21102829-4228-4f22-b824-ac2a914c1066",
   "metadata": {},
   "outputs": [],
   "source": [
    "# import packages \n",
    "\n",
    "import matplotlib.pyplot as plt\n",
    "import numpy as np\n",
    "import os\n",
    "import pandas as pd\n",
    "import sys\n",
    "\n",
    "root_dir = os.path.join(os.getcwd(), '..')\n",
    "sys.path.append(root_dir)"
   ]
  },
  {
   "cell_type": "code",
   "execution_count": 2,
   "id": "f769d103-75a1-46c2-a1f4-063949295d83",
   "metadata": {},
   "outputs": [
    {
     "name": "stdout",
     "output_type": "stream",
     "text": [
      "Jupyter environment detected. Enabling Open3D WebVisualizer.\n",
      "[Open3D INFO] WebRTC GUI backend enabled.\n",
      "[Open3D INFO] WebRTCWindowSystem: HTTP handshake server disabled.\n",
      "Preprocessing of raw images in progress:\n"
     ]
    },
    {
     "name": "stderr",
     "output_type": "stream",
     "text": [
      "100%|███████████████████████████████████████| 134/134 [00:00<00:00, 2511.77it/s]\n"
     ]
    }
   ],
   "source": [
    "# Importing the preprocessing function from the preprocess.py file:\n",
    "\n",
    "from src.preprocess import preprocess_and_segment_images\n",
    "\n",
    "raw_data_folder = \"/media/ceolin/Data/Lab Gompel/Projects/Fly_Abdomens/data/01_raw\"\n",
    "destination_folder = \"/media/ceolin/Data/Lab Gompel/Projects/Fly_Abdomens/data/02_preprocessed\"\n",
    "#binning of confocal stacks along z,x,y:\n",
    "binning = (18, 6, 6)\n",
    "# bit depth of raw images (depending on detector settings may be 8, 12 or 16)\n",
    "bit_depth = 8\n",
    "# name of the excel file containing the list of images to be used in the analysis. \n",
    "db_name = 'DatasetInformation.xlsx'\n",
    "\n",
    "preprocess_and_segment_images(raw_data_folder, destination_folder, binning, bit_depth, only_on_new_files = True, database_filename = db_name)"
   ]
  },
  {
   "cell_type": "code",
   "execution_count": 3,
   "id": "cde195c7-32dd-4180-b4f3-32440c376dde",
   "metadata": {},
   "outputs": [
    {
     "name": "stdout",
     "output_type": "stream",
     "text": [
      "Registration of 3D stacks in progress:\n"
     ]
    },
    {
     "name": "stderr",
     "output_type": "stream",
     "text": [
      "100%|█████████████████████████████████████████| 134/134 [11:31<00:00,  5.16s/it]\n"
     ]
    }
   ],
   "source": [
    "# Importing the registration function from the registration.py file:\n",
    "\n",
    "from src.registration import registration_of_abdomens_3D\n",
    "\n",
    "raw_data_folder = \"/media/ceolin/Data/Lab Gompel/Projects/Fly_Abdomens/data/01_raw\"\n",
    "destination_folder = \"/media/ceolin/Data/Lab Gompel/Projects/Fly_Abdomens/data/02_preprocessed\"\n",
    "\n",
    "read_folder = \"/media/ceolin/Data/Lab Gompel/Projects/Fly_Abdomens/data/02_preprocessed\"\n",
    "destination_folder = \"/media/ceolin/Data/Lab Gompel/Projects/Fly_Abdomens/data/03_registered\"\n",
    "reference_fly_filename = \"/media/ceolin/Data/Lab Gompel/Projects/Fly_Abdomens/data/References_and_masks/Aligned_Reference.tif\"\n",
    "abdomen_mask_file = \"/media/ceolin/Data/Lab Gompel/Projects/Fly_Abdomens/data/References_and_masks/Abdomen_Mask.tif\"\n",
    "df_name = \"DatasetInformation.xlsx\"\n",
    "\n",
    "preprocessed_df = pd.read_excel(os.path.join(read_folder,df_name))\n",
    "registration_of_abdomens_3D(preprocessed_df, read_folder, reference_fly_filename, abdomen_mask_file, destination_folder)"
   ]
  },
  {
   "cell_type": "code",
   "execution_count": 4,
   "id": "79ccfee3-8e27-4a57-871e-d820aa423d52",
   "metadata": {},
   "outputs": [
    {
     "name": "stdout",
     "output_type": "stream",
     "text": [
      "Projection of registered 3D stacks to 2D images in progress:\n"
     ]
    },
    {
     "name": "stderr",
     "output_type": "stream",
     "text": [
      "100%|█████████████████████████████████████████| 134/134 [00:43<00:00,  3.09it/s]\n"
     ]
    }
   ],
   "source": [
    "from src.projection import projections_of_abdomens\n",
    "\n",
    "read_folder = \"/media/ceolin/Data/Lab Gompel/Projects/Fly_Abdomens/data/03_registered\"\n",
    "destination_folder = \"/media/ceolin/Data/Lab Gompel/Projects/Fly_Abdomens/data/04_projected\"\n",
    "\n",
    "df_name = \"DatasetInformation.xlsx\"\n",
    "df = pd.read_excel(os.path.join(read_folder,df_name))\n",
    "projections_of_abdomens(df, read_folder, destination_folder)"
   ]
  },
  {
   "cell_type": "code",
   "execution_count": null,
   "id": "aff5259e-8fce-4d88-baeb-f1d40d62a1c5",
   "metadata": {},
   "outputs": [],
   "source": []
  }
 ],
 "metadata": {
  "kernelspec": {
   "display_name": "Python 3 (ipykernel)",
   "language": "python",
   "name": "python3"
  },
  "language_info": {
   "codemirror_mode": {
    "name": "ipython",
    "version": 3
   },
   "file_extension": ".py",
   "mimetype": "text/x-python",
   "name": "python",
   "nbconvert_exporter": "python",
   "pygments_lexer": "ipython3",
   "version": "3.8.12"
  }
 },
 "nbformat": 4,
 "nbformat_minor": 5
}
