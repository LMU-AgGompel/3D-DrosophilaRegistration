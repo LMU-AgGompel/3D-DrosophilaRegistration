{
 "cells": [
  {
   "cell_type": "markdown",
   "id": "a07cb409-d49a-4524-b01d-9c0f365c4cc2",
   "metadata": {},
   "source": [
    "# Registration of confocal images of Drosophila abdomens \n",
    "\n",
    "This notebook runs the entire pipeline to register the confocal images of fly abdomens.\n",
    "The analysis is divided in few steps. Most of the code to perform each step is packed into python functions saved in files in the src folder and its subfolders. \n",
    "\n",
    "The results of each step of the analysis are saved in a series of ordered subfolders of the data folder."
   ]
  },
  {
   "cell_type": "code",
   "execution_count": 1,
   "id": "21102829-4228-4f22-b824-ac2a914c1066",
   "metadata": {},
   "outputs": [],
   "source": [
    "# import packages \n",
    "\n",
    "import matplotlib.pyplot as plt\n",
    "import numpy as np\n",
    "import os\n",
    "import pandas as pd\n",
    "import sys\n",
    "\n",
    "root_dir = os.path.join(os.getcwd(), '..')\n",
    "sys.path.append(root_dir)"
   ]
  },
  {
   "cell_type": "markdown",
   "id": "ef71114d",
   "metadata": {},
   "source": [
    "## 1. Automated segmentation of the abdomens"
   ]
  },
  {
   "cell_type": "code",
   "execution_count": 2,
   "id": "f769d103-75a1-46c2-a1f4-063949295d83",
   "metadata": {
    "scrolled": true
   },
   "outputs": [
    {
     "name": "stdout",
     "output_type": "stream",
     "text": [
      "Jupyter environment detected. Enabling Open3D WebVisualizer.\n",
      "[Open3D INFO] WebRTC GUI backend enabled.\n",
      "[Open3D INFO] WebRTCWindowSystem: HTTP handshake server disabled.\n",
      "Preprocessing of raw images in progress:\n"
     ]
    },
    {
     "name": "stderr",
     "output_type": "stream",
     "text": [
      "100%|█████████████████████████████████████████| 52/52 [00:00<00:00, 2524.76it/s]\n"
     ]
    }
   ],
   "source": [
    "# Importing the preprocessing function from the preprocess.py file:\n",
    "\n",
    "from src.preprocess import preprocess_and_segment_images\n",
    "\n",
    "raw_data_folder = \"../../data_2/01_raw\"\n",
    "destination_folder = \"../../data_2/02_preprocessed\"\n",
    "\n",
    "#downscaling of confocal stacks along z,x,y:\n",
    "downscaling = (1, 2.5, 2.5)\n",
    "\n",
    "# bit depth of raw images (depending on detector settings may be 8, 12 or 16)\n",
    "bit_depth = 12\n",
    "\n",
    "# name of the excel file containing the list of images to be used in the analysis. \n",
    "db_name = 'DatasetInformation.xlsx'\n",
    "\n",
    "preprocess_and_segment_images(raw_data_folder, destination_folder, downscaling, bit_depth, only_on_new_files = True, database_filename = db_name)"
   ]
  },
  {
   "cell_type": "markdown",
   "id": "ab5d8776",
   "metadata": {},
   "source": [
    "## 2. Manual registration of the segmented 3D images\n"
   ]
  },
  {
   "cell_type": "code",
   "execution_count": 2,
   "id": "cde195c7-32dd-4180-b4f3-32440c376dde",
   "metadata": {},
   "outputs": [
    {
     "name": "stdout",
     "output_type": "stream",
     "text": [
      "Jupyter environment detected. Enabling Open3D WebVisualizer.\n",
      "[Open3D INFO] WebRTC GUI backend enabled.\n",
      "[Open3D INFO] WebRTCWindowSystem: HTTP handshake server disabled.\n",
      "Registration of 3D stacks in progress:\n"
     ]
    },
    {
     "name": "stderr",
     "output_type": "stream",
     "text": [
      "  2%|▊                                           | 1/52 [00:49<41:40, 49.03s/it]\n"
     ]
    },
    {
     "ename": "AssertionError",
     "evalue": "",
     "output_type": "error",
     "traceback": [
      "\u001b[0;31m---------------------------------------------------------------------------\u001b[0m",
      "\u001b[0;31mAssertionError\u001b[0m                            Traceback (most recent call last)",
      "\u001b[0;32m/tmp/ipykernel_9480/2752763653.py\u001b[0m in \u001b[0;36m<module>\u001b[0;34m\u001b[0m\n\u001b[1;32m     24\u001b[0m \u001b[0;34m\u001b[0m\u001b[0m\n\u001b[1;32m     25\u001b[0m \u001b[0mpreprocessed_df\u001b[0m \u001b[0;34m=\u001b[0m \u001b[0mpd\u001b[0m\u001b[0;34m.\u001b[0m\u001b[0mread_excel\u001b[0m\u001b[0;34m(\u001b[0m\u001b[0mos\u001b[0m\u001b[0;34m.\u001b[0m\u001b[0mpath\u001b[0m\u001b[0;34m.\u001b[0m\u001b[0mjoin\u001b[0m\u001b[0;34m(\u001b[0m\u001b[0mread_folder\u001b[0m\u001b[0;34m,\u001b[0m\u001b[0mdf_name\u001b[0m\u001b[0;34m)\u001b[0m\u001b[0;34m)\u001b[0m\u001b[0;34m\u001b[0m\u001b[0;34m\u001b[0m\u001b[0m\n\u001b[0;32m---> 26\u001b[0;31m \u001b[0mregistration_of_abdomens_3D\u001b[0m\u001b[0;34m(\u001b[0m\u001b[0mpreprocessed_df\u001b[0m\u001b[0;34m,\u001b[0m \u001b[0mread_folder\u001b[0m\u001b[0;34m,\u001b[0m \u001b[0mreference_fly_filename\u001b[0m\u001b[0;34m,\u001b[0m \u001b[0mabdomen_mask_file\u001b[0m\u001b[0;34m,\u001b[0m \u001b[0mdestination_folder\u001b[0m\u001b[0;34m,\u001b[0m \u001b[0monly_on_new_files\u001b[0m \u001b[0;34m=\u001b[0m \u001b[0;32mTrue\u001b[0m\u001b[0;34m)\u001b[0m\u001b[0;34m\u001b[0m\u001b[0;34m\u001b[0m\u001b[0m\n\u001b[0m",
      "\u001b[0;32m/media/ceolin/Data/Lab Gompel/Projects/Fly_Abdomens/abdomens_registration_2/notebooks/../src/registration.py\u001b[0m in \u001b[0;36mregistration_of_abdomens_3D\u001b[0;34m(preprocessed_data_df, preprocessed_folder, reference_fly_filename, abdomen_mask_filename, destination_folder, only_on_new_files, database_filename)\u001b[0m\n\u001b[1;32m     74\u001b[0m         \u001b[0;32mfor\u001b[0m \u001b[0mindex\u001b[0m\u001b[0;34m,\u001b[0m \u001b[0mrow\u001b[0m \u001b[0;32min\u001b[0m \u001b[0mpreprocessed_data_df\u001b[0m\u001b[0;34m.\u001b[0m\u001b[0miterrows\u001b[0m\u001b[0;34m(\u001b[0m\u001b[0;34m)\u001b[0m\u001b[0;34m:\u001b[0m\u001b[0;34m\u001b[0m\u001b[0;34m\u001b[0m\u001b[0m\n\u001b[1;32m     75\u001b[0m \u001b[0;34m\u001b[0m\u001b[0m\n\u001b[0;32m---> 76\u001b[0;31m             \u001b[0mresult\u001b[0m \u001b[0;34m=\u001b[0m \u001b[0mregister_and_save\u001b[0m\u001b[0;34m(\u001b[0m\u001b[0mrow\u001b[0m\u001b[0;34m[\u001b[0m\u001b[0;34m\"image file name\"\u001b[0m\u001b[0;34m]\u001b[0m\u001b[0;34m,\u001b[0m \u001b[0mrow\u001b[0m\u001b[0;34m[\u001b[0m\u001b[0;34m\"filename_gfp\"\u001b[0m\u001b[0;34m]\u001b[0m\u001b[0;34m,\u001b[0m \u001b[0mrow\u001b[0m\u001b[0;34m[\u001b[0m\u001b[0;34m\"filename_dsred\"\u001b[0m\u001b[0;34m]\u001b[0m\u001b[0;34m,\u001b[0m \u001b[0mrow\u001b[0m\u001b[0;34m[\u001b[0m\u001b[0;34m\"filename_tl\"\u001b[0m\u001b[0;34m]\u001b[0m\u001b[0;34m,\u001b[0m \u001b[0mpreprocessed_folder\u001b[0m\u001b[0;34m,\u001b[0m \u001b[0mreference_fly\u001b[0m\u001b[0;34m,\u001b[0m \u001b[0mdestination_folder\u001b[0m\u001b[0;34m,\u001b[0m \u001b[0mDatasetInfoRegistered\u001b[0m\u001b[0;34m)\u001b[0m\u001b[0;34m\u001b[0m\u001b[0;34m\u001b[0m\u001b[0m\n\u001b[0m\u001b[1;32m     77\u001b[0m \u001b[0;34m\u001b[0m\u001b[0m\n\u001b[1;32m     78\u001b[0m             \u001b[0;32mif\u001b[0m \u001b[0mresult\u001b[0m \u001b[0;32mis\u001b[0m \u001b[0;32mnot\u001b[0m \u001b[0;32mNone\u001b[0m\u001b[0;34m:\u001b[0m\u001b[0;34m\u001b[0m\u001b[0;34m\u001b[0m\u001b[0m\n",
      "\u001b[0;32m/media/ceolin/Data/Lab Gompel/Projects/Fly_Abdomens/abdomens_registration_2/notebooks/../src/registration.py\u001b[0m in \u001b[0;36mregister_and_save\u001b[0;34m(image_file_name, filename_gfp, filename_dsred, filename_tl, folder, reference_fly, destination_folder, DatasetInfoRegistered)\u001b[0m\n\u001b[1;32m    145\u001b[0m     \u001b[0mtarget\u001b[0m\u001b[0;34m,\u001b[0m \u001b[0mtarget_values\u001b[0m \u001b[0;34m=\u001b[0m \u001b[0mimage_to_pcd\u001b[0m\u001b[0;34m(\u001b[0m\u001b[0mreference_fly\u001b[0m\u001b[0;34m)\u001b[0m\u001b[0;34m\u001b[0m\u001b[0;34m\u001b[0m\u001b[0m\n\u001b[1;32m    146\u001b[0m \u001b[0;34m\u001b[0m\u001b[0m\n\u001b[0;32m--> 147\u001b[0;31m     \u001b[0mtransformation\u001b[0m \u001b[0;34m=\u001b[0m \u001b[0m_manual_registration\u001b[0m\u001b[0;34m(\u001b[0m\u001b[0msource_gfp\u001b[0m\u001b[0;34m,\u001b[0m \u001b[0msource_values_gfp\u001b[0m\u001b[0;34m,\u001b[0m \u001b[0mtarget\u001b[0m\u001b[0;34m,\u001b[0m \u001b[0mtarget_values\u001b[0m\u001b[0;34m)\u001b[0m\u001b[0;34m\u001b[0m\u001b[0;34m\u001b[0m\u001b[0m\n\u001b[0m\u001b[1;32m    148\u001b[0m \u001b[0;34m\u001b[0m\u001b[0m\n\u001b[1;32m    149\u001b[0m     \u001b[0msource_gfp\u001b[0m\u001b[0;34m.\u001b[0m\u001b[0mtransform\u001b[0m\u001b[0;34m(\u001b[0m\u001b[0mtransformation\u001b[0m\u001b[0;34m)\u001b[0m\u001b[0;34m\u001b[0m\u001b[0;34m\u001b[0m\u001b[0m\n",
      "\u001b[0;32m/media/ceolin/Data/Lab Gompel/Projects/Fly_Abdomens/abdomens_registration_2/notebooks/../src/registration.py\u001b[0m in \u001b[0;36m_manual_registration\u001b[0;34m(source, source_values, target, target_values)\u001b[0m\n\u001b[1;32m    248\u001b[0m \u001b[0;34m\u001b[0m\u001b[0m\n\u001b[1;32m    249\u001b[0m     \u001b[0;32massert\u001b[0m \u001b[0;34m(\u001b[0m\u001b[0mlen\u001b[0m\u001b[0;34m(\u001b[0m\u001b[0mpicked_id_source\u001b[0m\u001b[0;34m)\u001b[0m \u001b[0;34m>=\u001b[0m \u001b[0;36m3\u001b[0m \u001b[0;32mand\u001b[0m \u001b[0mlen\u001b[0m\u001b[0;34m(\u001b[0m\u001b[0mpicked_id_target\u001b[0m\u001b[0;34m)\u001b[0m \u001b[0;34m>=\u001b[0m \u001b[0;36m3\u001b[0m\u001b[0;34m)\u001b[0m\u001b[0;34m\u001b[0m\u001b[0;34m\u001b[0m\u001b[0m\n\u001b[0;32m--> 250\u001b[0;31m     \u001b[0;32massert\u001b[0m \u001b[0;34m(\u001b[0m\u001b[0mlen\u001b[0m\u001b[0;34m(\u001b[0m\u001b[0mpicked_id_source\u001b[0m\u001b[0;34m)\u001b[0m \u001b[0;34m==\u001b[0m \u001b[0mlen\u001b[0m\u001b[0;34m(\u001b[0m\u001b[0mpicked_id_target\u001b[0m\u001b[0;34m)\u001b[0m\u001b[0;34m)\u001b[0m\u001b[0;34m\u001b[0m\u001b[0;34m\u001b[0m\u001b[0m\n\u001b[0m\u001b[1;32m    251\u001b[0m     \u001b[0mcorr\u001b[0m \u001b[0;34m=\u001b[0m \u001b[0mnp\u001b[0m\u001b[0;34m.\u001b[0m\u001b[0mzeros\u001b[0m\u001b[0;34m(\u001b[0m\u001b[0;34m(\u001b[0m\u001b[0mlen\u001b[0m\u001b[0;34m(\u001b[0m\u001b[0mpicked_id_source\u001b[0m\u001b[0;34m)\u001b[0m\u001b[0;34m,\u001b[0m \u001b[0;36m2\u001b[0m\u001b[0;34m)\u001b[0m\u001b[0;34m)\u001b[0m\u001b[0;34m\u001b[0m\u001b[0;34m\u001b[0m\u001b[0m\n\u001b[1;32m    252\u001b[0m     \u001b[0mcorr\u001b[0m\u001b[0;34m[\u001b[0m\u001b[0;34m:\u001b[0m\u001b[0;34m,\u001b[0m \u001b[0;36m0\u001b[0m\u001b[0;34m]\u001b[0m \u001b[0;34m=\u001b[0m \u001b[0mpicked_id_source\u001b[0m\u001b[0;34m\u001b[0m\u001b[0;34m\u001b[0m\u001b[0m\n",
      "\u001b[0;31mAssertionError\u001b[0m: "
     ]
    }
   ],
   "source": [
    "# Importing the registration function from the registration.py file:\n",
    "\n",
    "from src.registration import registration_of_abdomens_3D\n",
    "\n",
    "\"\"\"\n",
    "# USER INPUT IS REQUIRED, a series of 3D viewer windows will pop-up for each image in the dataset.\n",
    "\n",
    "For each couple of images:\n",
    "1)  Please pick at least three correspondences using [shift + left click]\n",
    "    Press [shift + right click] to undo point picking)\n",
    "2)  After picking points, press 'Q' to close the window\n",
    "3)  Repeat points 1 and 2 for the second image.\n",
    "4)  The next window will show the result of the registration, press 'Q' to close the window\n",
    "\n",
    "\"\"\"\n",
    "\n",
    "read_folder = \"../../data_2/02_preprocessed\"\n",
    "destination_folder = \"../../data_2/03_registered\"\n",
    "\n",
    "reference_fly_filename = \"../../data_2/References_and_masks/C1_Reference_iso.tif\"\n",
    "abdomen_mask_file = \"../../data_2/References_and_masks/Reference_abdomen_mask_iso.tif\"\n",
    "\n",
    "df_name = \"DatasetInformation.xlsx\"\n",
    "\n",
    "preprocessed_df = pd.read_excel(os.path.join(read_folder,df_name))\n",
    "registration_of_abdomens_3D(preprocessed_df, read_folder, reference_fly_filename, abdomen_mask_file, destination_folder, only_on_new_files = True)"
   ]
  },
  {
   "cell_type": "markdown",
   "id": "b256590d",
   "metadata": {},
   "source": [
    "## 3. Automated 2D projection of registered 3D images "
   ]
  },
  {
   "cell_type": "code",
   "execution_count": 5,
   "id": "79ccfee3-8e27-4a57-871e-d820aa423d52",
   "metadata": {},
   "outputs": [
    {
     "name": "stdout",
     "output_type": "stream",
     "text": [
      "Projection of registered 3D stacks to 2D images in progress:\n"
     ]
    },
    {
     "name": "stderr",
     "output_type": "stream",
     "text": [
      "100%|███████████████████████████████████████████| 52/52 [03:31<00:00,  4.08s/it]\n"
     ]
    }
   ],
   "source": [
    "from src.projection import projections_of_abdomens\n",
    "\n",
    "read_folder = \"../../data_2/03_registered\"\n",
    "destination_folder = \"../../data_2/04_projected\"\n",
    "landmark_folder = \"../../data_2/05_landmarks/data\"\n",
    "abdomen_mask_file = \"../../data_2/References_and_masks/Reference_abdomen_mask_thick_B_2_2_2.tif\"\n",
    "\n",
    "df_name = \"DatasetInformation.xlsx\"\n",
    "df = pd.read_excel(os.path.join(read_folder,df_name))\n",
    "projections_of_abdomens(df, read_folder, destination_folder, landmark_folder, abdomen_mask_file)"
   ]
  },
  {
   "cell_type": "markdown",
   "id": "d5495686",
   "metadata": {},
   "source": [
    "##  4. Annotation and warping of the 2D projected images\n",
    "\n",
    "After the projection from 3D to 2D, images are already roughly aligned. However, the alignment up to this point was only performed by applying a global rescaling and rigid rotations/translations of the original stacks.\n",
    "\n",
    "To fine tune the registration we need to manually place landmarks on the 2D projected images.\n",
    "\n",
    "Run the image annotation software, open the annotation project, add the new images found in the folder 05_landmarks/data to the project.\n",
    "\n",
    "Annotate the new images and run the registration, save the results in the folder 06_warped."
   ]
  },
  {
   "cell_type": "markdown",
   "id": "d50b2e2f",
   "metadata": {},
   "source": [
    "## 5. Final touch: smoothing and masking\n"
   ]
  },
  {
   "cell_type": "code",
   "execution_count": 6,
   "id": "cebb4d65",
   "metadata": {},
   "outputs": [
    {
     "name": "stdout",
     "output_type": "stream",
     "text": [
      "Preprocessing of registered raw images in progress:\n"
     ]
    },
    {
     "name": "stderr",
     "output_type": "stream",
     "text": [
      "100%|█████████████████████████████████████████| 141/141 [00:01<00:00, 78.25it/s]\n"
     ]
    }
   ],
   "source": [
    "from src.masking_smoothing import preprocess_registered_images\n",
    "\n",
    "destination_folder = \"/media/ceolin/Data/Lab Gompel/Projects/Fly_Abdomens/data_2/07_masked_and_smooth\"\n",
    "read_folder = \"/media/ceolin/Data/Lab Gompel/Projects/Fly_Abdomens/data_2/06_warped\"\n",
    "mask = '/media/ceolin/Data/Lab Gompel/Projects/Fly_Abdomens/data_2/References_and_masks/2D_mask_abdomen_2.tif'\n",
    "database_registered_images = \"/media/ceolin/Data/Lab Gompel/Projects/Fly_Abdomens/data_2/06_warped/dataframe_info.csv\"\n",
    "database_info = \"/media/ceolin/Data/Lab Gompel/Projects/Fly_Abdomens/data_2/04_projected/DatasetInformation.xlsx\"\n",
    "\n",
    "\n",
    "preprocess_registered_images(read_folder, destination_folder, database_registered_images, database_info, mask_filename = mask, smoothing_sigma=4, binning=1)"
   ]
  },
  {
   "cell_type": "code",
   "execution_count": null,
   "id": "022629ae",
   "metadata": {},
   "outputs": [],
   "source": []
  }
 ],
 "metadata": {
  "kernelspec": {
   "display_name": "Python 3 (ipykernel)",
   "language": "python",
   "name": "python3"
  },
  "language_info": {
   "codemirror_mode": {
    "name": "ipython",
    "version": 3
   },
   "file_extension": ".py",
   "mimetype": "text/x-python",
   "name": "python",
   "nbconvert_exporter": "python",
   "pygments_lexer": "ipython3",
   "version": "3.8.12"
  }
 },
 "nbformat": 4,
 "nbformat_minor": 5
}
