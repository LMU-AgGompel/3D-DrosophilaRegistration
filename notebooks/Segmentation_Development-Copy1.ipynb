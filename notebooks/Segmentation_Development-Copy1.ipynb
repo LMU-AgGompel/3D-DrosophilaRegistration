{
 "cells": [
  {
   "cell_type": "code",
   "execution_count": 1,
   "id": "a8b4d220-5903-49e8-8704-d26569a4263c",
   "metadata": {},
   "outputs": [
    {
     "name": "stdout",
     "output_type": "stream",
     "text": [
      "Jupyter environment detected. Enabling Open3D WebVisualizer.\n",
      "[Open3D INFO] WebRTC GUI backend enabled.\n",
      "[Open3D INFO] WebRTCWindowSystem: HTTP handshake server disabled.\n"
     ]
    }
   ],
   "source": [
    "# import packages \n",
    "from skimage import io, transform\n",
    "import numpy as np\n",
    "import open3d as o3d\n",
    "import copy\n",
    "import napari\n",
    "import time\n",
    "import os\n",
    "\n",
    "from skimage import morphology\n",
    "from skimage.measure import label, regionprops, block_reduce\n",
    "from scipy import stats, ndimage\n",
    "import matplotlib.pyplot as plt\n",
    "import sys\n",
    "\n",
    "root_dir = os.path.join(os.getcwd(), '..')\n",
    "sys.path.append(root_dir)\n",
    "\n",
    "\n",
    "from src.preprocess import segmentation_with_optimized_thresh, image_padding\n",
    "from src.registration import image_to_pcd, pcd_to_image"
   ]
  },
  {
   "cell_type": "code",
   "execution_count": 3,
   "id": "661869ed-6f47-49af-ab59-a0e1790396a3",
   "metadata": {},
   "outputs": [],
   "source": [
    "# Read the image, only fluorescence channel is required:\n",
    "#reference_fly_filename = \"/media/ceolin/Data/Lab Gompel/Projects/Fly_Abdomens/data_2/01_raw/multiple/C1-220228_D2xEn-Gal4_1.tif\"\n",
    "#reference_fly_filename = \"/media/ceolin/Data/Lab Gompel/Projects/Fly_Abdomens/data_2/01_raw/multiple/C1-220312_D2xEn-Gal4_2.tif\"\n",
    "#reference_fly_filename = \"/media/ceolin/Data/Lab Gompel/Projects/Fly_Abdomens/data_2/01_raw/multiple/C1-220320_D6xEn-Gal4_2.tif\"\n",
    "reference_fly_filename = \"../../data_2/01_raw/multiple/C1-220528_D3-4xEn-Gal4_1.tif\"\n",
    "#reference_fly_filename = \"/media/ceolin/Data/Lab Gompel/Projects/Fly_Abdomens/data_2/01_raw/multiple/C1-220228_D6xEn-Gal4_1.tif\"\n",
    "\n",
    "image = io.imread(reference_fly_filename)\n",
    "\n",
    "# Downscaling:\n",
    "downscaling =  (1,2.5,2.5)\n",
    "new_image_shape = [int(image.shape[i]/downscaling[i]) for i in range(3)]\n",
    "image_downscaled = transform.resize(image, new_image_shape, preserve_range = True, anti_aliasing=True)\n",
    "#image_downscaled = transform.downscale_local_mean(image, downscaling)[1:-2,1:-2,1:-2]\n",
    "viewer = napari.view_image(image_downscaled)"
   ]
  },
  {
   "cell_type": "code",
   "execution_count": 12,
   "id": "952aa3e4-e2db-4b1a-ad04-9f695c0e7652",
   "metadata": {},
   "outputs": [
    {
     "name": "stdout",
     "output_type": "stream",
     "text": [
      "Preprocessing of the image took:  10.044838428497314 seconds\n"
     ]
    },
    {
     "data": {
      "text/plain": [
       "'\\n\\n'"
      ]
     },
     "execution_count": 12,
     "metadata": {},
     "output_type": "execute_result"
    }
   ],
   "source": [
    "t0 = time.time()\n",
    "# Segment:\n",
    "Thresholded_Image = segmentation_with_optimized_thresh(image_downscaled, fraction_range = [0.04, 0.05])\n",
    "#viewer = napari.view_image(Thresholded_Image)\n",
    "\n",
    "# Padding:\n",
    "Thresholded_Image  = image_padding(Thresholded_Image)\n",
    "Image_padded = image_padding(image_downscaled)\n",
    "\n",
    "# Clean up the segmentation with morphological transformations:\n",
    "closing_r1 = 4\n",
    "\n",
    "# Dilate and erode again to fill small holes:\n",
    "filled = morphology.closing(Thresholded_Image, morphology.ball(closing_r1))\n",
    "\n",
    "label_image = label(filled)\n",
    "rp = regionprops(label_image)\n",
    "size = max([i.area for i in rp])\n",
    "\n",
    "biggest_objects = morphology.remove_small_objects(label_image, min_size=size/10)>0\n",
    "Thresholded_Image = biggest_objects\n",
    "\n",
    "# fill small holes in the segmented image:\n",
    "from scipy.signal import find_peaks\n",
    "\n",
    "def local_maxima_z(image, dist):\n",
    "    # maxima along z\n",
    "    result = np.zeros(image.shape)\n",
    "    \n",
    "    for i in range(image.shape[1]):\n",
    "        for j in range(image.shape[2]):\n",
    "            peaks, _ = find_peaks(image[:,i,j], distance = dist)\n",
    "            for p in peaks:\n",
    "                result[p,i,j] = 1\n",
    "    \n",
    "    return result\n",
    "\n",
    "Thresholded_Image = local_maxima_z(Thresholded_Image*Image_padded, 100)\n",
    "#reduced = morphology.dilation(reduced, morphology.ball(10))\n",
    "\n",
    "t1 = time.time()\n",
    "viewer = napari.view_image(Thresholded_Image)\n",
    "# print running time:\n",
    "\n",
    "print(\"Preprocessing of the image took: \", t1-t0, \"seconds\")\n",
    "\"\"\"\n",
    "\n",
    "\"\"\""
   ]
  },
  {
   "cell_type": "code",
   "execution_count": 13,
   "id": "70a2dc91-45b8-436c-a13e-4c8893553cd5",
   "metadata": {},
   "outputs": [],
   "source": [
    "def custom_draw(pcd):\n",
    "    # The following code achieves the same effect as:\n",
    "    # o3d.visualization.draw_geometries([pcd])\n",
    "    vis = o3d.visualization.Visualizer()\n",
    "    vis.create_window()\n",
    "    opt = vis.get_render_option()\n",
    "    opt.background_color = np.asarray([0, 0, 0])\n",
    "    vis.add_geometry(pcd)\n",
    "    vis.run()\n",
    "    vis.destroy_window()\n",
    "    \n",
    "def custom_draw_w_mesh(pcd, mesh):\n",
    "    # The following code achieves the same effect as:\n",
    "    # o3d.visualization.draw_geometries([pcd])\n",
    "    vis = o3d.visualization.Visualizer()\n",
    "    vis.create_window()\n",
    "    opt = vis.get_render_option()\n",
    "    opt.background_color = np.asarray([0, 0, 0])\n",
    "    vis.add_geometry(pcd)\n",
    "    vis.add_geometry(mesh)\n",
    "    vis.run()\n",
    "    vis.destroy_window()\n",
    "    \n",
    "def draw_pcd(pcd):\n",
    "    pcd_temp = copy.deepcopy(pcd)\n",
    "    pcd_temp.paint_uniform_color([1, 0.706, 0])\n",
    "    o3d.visualization.draw_geometries([pcd_temp])\n",
    "    \n",
    "\n",
    "def skeletonize_on_slices(image_3d):\n",
    "    \n",
    "    result = np.zeros(image_3d.shape)\n",
    "    \n",
    "    for i in range(image_3d.shape[1]):\n",
    "        image = image_3d[:,i,:]\n",
    "        skeleton = morphology.skeletonize(image)\n",
    "        result[:,i,:] = skeleton\n",
    "\n",
    "    return result\n",
    "    \n",
    "\n",
    "# Create a pcd from the skeletonized image\n",
    "pcd, pcd_values = image_to_pcd(Thresholded_Image)\n",
    "custom_draw(pcd)\n",
    "\n",
    "# Remove outliers from the skeletonized pcd, based on n_neighbrours within a radius:\n",
    "uni_down_pcd = pcd.uniform_down_sample(every_k_points=3)\n",
    "custom_draw(uni_down_pcd)\n",
    "cleaned_pcd, ind = uni_down_pcd.remove_radius_outlier(nb_points=4, radius=4)\n",
    "cleaned_pcd, ind = cleaned_pcd.remove_radius_outlier(nb_points=4, radius=4)\n",
    "cleaned_pcd, ind = cleaned_pcd.remove_radius_outlier(nb_points=4, radius=3)\n",
    "\n",
    "# downsampling\n",
    "cleaned_pcd = cleaned_pcd.voxel_down_sample(voxel_size=5)\n",
    "\n",
    "custom_draw(cleaned_pcd)"
   ]
  },
  {
   "cell_type": "code",
   "execution_count": 14,
   "id": "11307991-4b14-40a6-876b-f47166687194",
   "metadata": {},
   "outputs": [],
   "source": [
    "# Create a mesh that fits through the cleaned points to fill potential holes:\n",
    "cleaned_pcd.estimate_normals()\n",
    "cleaned_pcd.orient_normals_consistent_tangent_plane(k=30)\n",
    "\n",
    "#flip normals:\n",
    "normals = -np.asarray(cleaned_pcd.normals)\n",
    "cleaned_pcd.normals = o3d.utility.Vector3dVector(normals)\n",
    "\n",
    "#visualize normals:\n",
    "#o3d.visualization.draw_geometries([cleaned_pcd], point_show_normal=True)\n",
    "\n",
    "radii = [30]\n",
    "ball_mesh = o3d.geometry.TriangleMesh.create_from_point_cloud_ball_pivoting(cleaned_pcd, o3d.utility.DoubleVector(radii))\n",
    "bbox = cleaned_pcd.get_axis_aligned_bounding_box()\n",
    "ball_mesh_crop = ball_mesh.crop(bbox)\n",
    "ball_mesh_crop.paint_uniform_color([1,1,1])\n",
    "\n",
    "custom_draw_w_mesh(cleaned_pcd, ball_mesh_crop)\n",
    "resampled_pcd = ball_mesh_crop.sample_points_uniformly(number_of_points = 50000)\n",
    "custom_draw(resampled_pcd)\n",
    "#final_pcd = ball_mesh_crop.sample_points_uniformly(number_of_points = 5000)\n",
    "\n",
    "final_pcd = o3d.geometry.PointCloud()\n",
    "final_pcd.points = o3d.utility.Vector3dVector( np.concatenate((pcd.points, resampled_pcd.points), axis=0) )\n",
    "\n",
    "custom_draw(final_pcd)\n",
    "\n",
    "#o3d.visualization.draw_geometries([cleaned_pcd, p_mesh_crop])"
   ]
  },
  {
   "cell_type": "code",
   "execution_count": 15,
   "id": "edd043b9",
   "metadata": {},
   "outputs": [],
   "source": [
    "final_pcd_values = np.ones(np.asarray(final_pcd.points).shape[0])\n",
    "final_image = pcd_to_image(final_pcd, final_pcd_values, Thresholded_Image.shape)\n",
    "final_image = morphology.dilation(final_image, morphology.ball(8))"
   ]
  },
  {
   "cell_type": "code",
   "execution_count": 16,
   "id": "2145313e",
   "metadata": {},
   "outputs": [],
   "source": [
    "viewer = napari.view_image(final_image*Image_padded)"
   ]
  },
  {
   "cell_type": "code",
   "execution_count": 17,
   "id": "5dc1b1d5",
   "metadata": {},
   "outputs": [],
   "source": [
    "# Save it as reference\n",
    "from tifffile import imsave\n",
    "imsave(\"../../data_2/References_and_masks/C1_Reference_iso.tiff\", (final_image*Image_padded).astype(np.uint16))"
   ]
  },
  {
   "cell_type": "code",
   "execution_count": 28,
   "id": "829c2eab",
   "metadata": {},
   "outputs": [],
   "source": [
    "### Testing prealignment and how to make the segmented volume thinner:\n",
    "segmented_image = (final_image*Image_padded).astype(np.uint16)\n",
    "from scipy.signal import find_peaks\n",
    "\n",
    "def local_maxima_xyz(image, dist):\n",
    "    # maxima along z\n",
    "    result = np.zeros(image.shape)\n",
    "    \n",
    "    for i in range(image.shape[1]):\n",
    "        for j in range(image.shape[2]):\n",
    "            peaks, _ = find_peaks(image[:,i,j], distance = dist)\n",
    "            for p in peaks:\n",
    "                result[p,i,j] = 1\n",
    "    \n",
    "#    for i in range(image.shape[0]):\n",
    "#        for j in range(image.shape[2]):\n",
    "#            peaks, _ = find_peaks(image[i,:,j], distance = dist)\n",
    "#            for p in peaks:\n",
    "#                result[i,p,j] = 1\n",
    "#                \n",
    "#    for i in range(image.shape[0]):\n",
    "#        for j in range(image.shape[1]):\n",
    "#            peaks, _ = find_peaks(image[i,j,:], distance = dist)\n",
    "#            for p in peaks:\n",
    "#                result[i,j,p] = 1\n",
    "    \n",
    "    return result\n",
    "\n",
    "reduced = local_maxima_xyz(segmented_image, 100)\n",
    "reduced = morphology.dilation(reduced, morphology.ball(12))\n",
    "viewer = napari.view_image(reduced)"
   ]
  },
  {
   "cell_type": "code",
   "execution_count": 69,
   "id": "03613b7a",
   "metadata": {},
   "outputs": [
    {
     "name": "stdout",
     "output_type": "stream",
     "text": [
      "[[-0.98360356 -0.18034423]\n",
      " [ 0.18034423 -0.98360356]]\n"
     ]
    },
    {
     "data": {
      "text/plain": [
       "<matplotlib.image.AxesImage at 0x7f69bff42ac0>"
      ]
     },
     "execution_count": 69,
     "metadata": {},
     "output_type": "execute_result"
    },
    {
     "data": {
      "image/png": "[encoded data removed]",
      "text/plain": [
       "<Figure size 432x288 with 1 Axes>"
      ]
     },
     "metadata": {
      "needs_background": "light"
     },
     "output_type": "display_data"
    }
   ],
   "source": [
    "### Testing prealignment and how to make the segmented volume thinner:\n",
    "\n",
    "segmented_image = (final_image*Image_padded).astype(np.uint16)\n",
    "z_projected = np.max(segmented_image, axis= 0)\n",
    "xy = np.argwhere(z_projected>1)\n",
    "cov_xy = np.cov(xy.T)\n",
    "_ , eigv = np.linalg.eig(cov_xy)\n",
    "print(eigv)\n",
    "plt.imshow(z_projected)"
   ]
  },
  {
   "cell_type": "code",
   "execution_count": 70,
   "id": "cf796d0f",
   "metadata": {},
   "outputs": [
    {
     "data": {
      "text/plain": [
       "<matplotlib.image.AxesImage at 0x7f69c83af310>"
      ]
     },
     "execution_count": 70,
     "metadata": {},
     "output_type": "execute_result"
    },
    {
     "data": {
      "image/png": "[encoded data removed]",
      "text/plain": [
       "<Figure size 432x288 with 1 Axes>"
      ]
     },
     "metadata": {
      "needs_background": "light"
     },
     "output_type": "display_data"
    }
   ],
   "source": [
    "angle = -10*(np.pi)/180\n",
    "angle = np.arctan2(eigv[1,0],eigv[0,0])\n",
    "\n",
    "cth = np.cos(angle)\n",
    "sth = np.sin(angle)\n",
    "\n",
    "new_x = cth*np.mean(xy[:,0])-sth*np.mean(xy[:,1])\n",
    "new_y = sth*np.mean(xy[:,0])+cth*np.mean(xy[:,1])\n",
    "delta_x = z_projected.shape[0]/2-new_x\n",
    "delta_y = z_projected.shape[1]/2-new_y\n",
    "\n",
    "Matrix = np.array([[1, 0, 0, 0], \n",
    "                   [0,  cth, -sth, delta_x], \n",
    "                   [0, sth, cth, delta_y], \n",
    "                   [0, 0, 0, 1]])\n",
    "\n",
    "rotated_image = ndimage.affine_transform(segmented_image, Matrix)\n",
    "z_rot_projected = np.max(rotated_image, axis= 0)\n",
    "plt.imshow(rotated_image[20,:,:])"
   ]
  },
  {
   "cell_type": "code",
   "execution_count": 74,
   "id": "08ea63de",
   "metadata": {},
   "outputs": [
    {
     "data": {
      "text/plain": [
       "223"
      ]
     },
     "execution_count": 74,
     "metadata": {},
     "output_type": "execute_result"
    }
   ],
   "source": [
    "np.argmax(np.bincount((segmented_image[segmented_image>0])))"
   ]
  },
  {
   "cell_type": "code",
   "execution_count": 77,
   "id": "cba16ab3",
   "metadata": {},
   "outputs": [
    {
     "data": {
      "text/plain": [
       "<matplotlib.image.AxesImage at 0x7f69bfe21760>"
      ]
     },
     "execution_count": 77,
     "metadata": {},
     "output_type": "execute_result"
    },
    {
     "data": {
      "image/png": "[encoded data removed]",
      "text/plain": [
       "<Figure size 432x288 with 1 Axes>"
      ]
     },
     "metadata": {
      "needs_background": "light"
     },
     "output_type": "display_data"
    }
   ],
   "source": [
    "rotated_image[rotated_image<230] = 0\n",
    "plt.imshow(rotated_image[20,:,:])"
   ]
  },
  {
   "cell_type": "code",
   "execution_count": null,
   "id": "7e3ca5c8",
   "metadata": {},
   "outputs": [],
   "source": [
    "from tifffile import imsave\n",
    "output_file_name = \"/media/ceolin/Data/Lab Gompel/Projects/Fly_Abdomens/data_2/temp/temp_final.tif\"\n",
    "imsave(output_file_name, final_image)\n",
    "\n",
    "output_file_name = \"/media/ceolin/Data/Lab Gompel/Projects/Fly_Abdomens/data_2/temp/temp_final_colored.tif\"\n",
    "imsave(output_file_name, final_image*Image_padded)"
   ]
  },
  {
   "cell_type": "code",
   "execution_count": null,
   "id": "43a7a6c9-59a7-4f7b-b346-cc1a1e34192b",
   "metadata": {},
   "outputs": [],
   "source": [
    "def prealignment(source, target_pcd, force_flipping = False):\n",
    "    target_mean, target_cov = target_pcd.compute_mean_and_covariance()\n",
    "    source_mean, source_cov = source.compute_mean_and_covariance()\n",
    "    _ , source_eigv = np.linalg.eig(source_cov)\n",
    "\n",
    "    # transform to a base given by the x-y projection of the first eigenvector (0,b,c), \n",
    "    # the z-direction (0,0,1) and their vector product: (0,c,-b)\n",
    "    \n",
    "    b = source_eigv[1,0]\n",
    "    c = source_eigv[2,0]\n",
    "    b, c = b/(b**2+c**2)**0.5, c/(b**2+c**2)**0.5\n",
    "    temp = np.asarray([[1.0, 0.0, 0.0], [0.0, b, c], [0.0, c, -b]])\n",
    "    transformation_1 = np.eye(4)\n",
    "    transformation_1[:3, :3] = np.linalg.inv(temp)\n",
    "    \n",
    "    temp = np.asarray([[1.0, 0.0, 0.0], [0.0, -b, -c], [0.0, -c, b]])\n",
    "    transformation_2 = np.eye(4)\n",
    "    transformation_2[:3, :3] = np.linalg.inv(temp)\n",
    "    \n",
    "    test_1 = copy.deepcopy(source)\n",
    "    test_1.translate(-source_mean)\n",
    "    test_1.transform(transformation_1)\n",
    "    test_1.translate(target_mean)\n",
    "    \n",
    "    distances = test_1.compute_point_cloud_distance(target_pcd)\n",
    "    dist_1 = np.sum(np.asarray(distances))\n",
    "    \n",
    "    test_2 = copy.deepcopy(source)\n",
    "    test_2.translate(-source_mean)\n",
    "    test_2.transform(transformation_2)\n",
    "    test_2.translate(target_mean)\n",
    "    \n",
    "    distances = test_2.compute_point_cloud_distance(target_pcd)\n",
    "    dist_2 = np.sum(np.asarray(distances))\n",
    "\n",
    "    \n",
    "    orientation = _choose_best_orientation_gui(test_1, test_2, target_pcd)\n",
    "    print(orientation)\n",
    "    if orientation == 1:\n",
    "        return test_1\n",
    "    else:\n",
    "        return test_2\n",
    "    \n",
    "    \n",
    "def refine_registration(source, target, threshold):\n",
    "    result = o3d.pipelines.registration.registration_icp(\n",
    "        source, target, threshold, np.identity(4),\n",
    "        o3d.pipelines.registration.TransformationEstimationPointToPoint(with_scaling=False))\n",
    "    return result\n",
    "\n",
    "def draw_registration_result(source, target, transformation):\n",
    "    source_temp = copy.deepcopy(source)\n",
    "    target_temp = copy.deepcopy(target)\n",
    "    source_temp =  source_temp.voxel_down_sample(voxel_size=4)\n",
    "    target_temp =  target_temp.voxel_down_sample(voxel_size=4)\n",
    "    source_temp.paint_uniform_color([1, 0.706, 0])\n",
    "    target_temp.paint_uniform_color([0, 0.651, 0.929])\n",
    "    source_temp.transform(transformation)\n",
    "    vis = o3d.visualization.Visualizer()\n",
    "    vis.create_window()\n",
    "    opt = vis.get_render_option()\n",
    "    opt.background_color = np.asarray([0, 0, 0])\n",
    "    vis.add_geometry(source_temp)\n",
    "    vis.add_geometry(target_temp)\n",
    "    vis.run()\n",
    "    vis.destroy_window()\n",
    "\n",
    "\n",
    "def pcd_to_image(pcd,values, image_shape):\n",
    "    array = np.asarray(pcd.points).T.astype(int)\n",
    "    image = np.zeros(image_shape)\n",
    "    count = np.zeros(image_shape)\n",
    "    for i in range(array.shape[-1]):\n",
    "        pos = tuple(array[...,i])\n",
    "        image[pos] += values[i]\n",
    "        count[pos] += 1\n",
    "    image[count>1] = image[count>1]/count[count>1]\n",
    "    mask = morphology.closing(image>0, morphology.ball(2))\n",
    "    image_median = ndimage.median_filter(image, size=3)\n",
    "    image[count==0] = image_median[count==0]\n",
    "    image = image*mask\n",
    "    return image\n",
    "\n",
    "def image_to_pcd(image):\n",
    "    indexes = np.nonzero(image > 0)\n",
    "    pcd_points = np.array(indexes).T\n",
    "    pcd_values = image[indexes]\n",
    "    pcd = o3d.geometry.PointCloud()\n",
    "    pcd.points = o3d.utility.Vector3dVector(pcd_points)\n",
    "    return pcd, pcd_values\n",
    "\n",
    "def custom_draw_2(pcd):\n",
    "    # The following code achieves the same effect as:\n",
    "    # o3d.visualization.draw_geometries([pcd])\n",
    "    pcd_tmp = copy.deepcopy(pcd)\n",
    "    pcd_tmp =  pcd.voxel_down_sample(voxel_size=4)\n",
    "    vis = o3d.visualization.Visualizer()\n",
    "    vis.create_window()\n",
    "    opt = vis.get_render_option()\n",
    "    opt.background_color = np.asarray([0, 0, 0])\n",
    "    vis.add_geometry(pcd_tmp)\n",
    "    vis.run()\n",
    "    vis.destroy_window()\n",
    "\n",
    "def _choose_best_orientation_gui(source_1, source_2, target):\n",
    "\n",
    "    source_1_temp = copy.deepcopy(source_1)\n",
    "    source_2_temp = copy.deepcopy(source_2)\n",
    "    target_temp = copy.deepcopy(target)\n",
    "    \n",
    "    source_1_temp =  source_1_temp.voxel_down_sample(voxel_size=10)\n",
    "    source_2_temp =  source_2_temp.voxel_down_sample(voxel_size=10)\n",
    "    target_temp =  target_temp.voxel_down_sample(voxel_size=10)\n",
    "    \n",
    "    source_1_temp.paint_uniform_color([1, 0.706, 0])\n",
    "    source_2_temp.paint_uniform_color([1, 0.606, 0])\n",
    "    target_temp.paint_uniform_color([0, 0.651, 0.929])\n",
    "    \n",
    "    \n",
    "    vis = o3d.visualization.VisualizerWithKeyCallback()\n",
    "    \n",
    "    def press_1(vis, action, mods):\n",
    "        nonlocal orientation\n",
    "        orientation = 1\n",
    "        try:\n",
    "            vis.remove_geometry(source_2_temp)\n",
    "        except:\n",
    "            pass\n",
    "            \n",
    "        vis.add_geometry(source_1_temp)\n",
    "        #vis.update_geometry()\n",
    "        return\n",
    "    \n",
    "    def press_2(vis, action, mods):\n",
    "        nonlocal orientation\n",
    "        orientation = 2\n",
    "        try:\n",
    "            vis.remove_geometry(source_1_temp)\n",
    "        except:\n",
    "            pass\n",
    "        vis.add_geometry(source_2_temp)\n",
    "        #vis.update_geometry()\n",
    "        return\n",
    "\n",
    "    # key_action_callback will be triggered when there's a keyboard press, release or repeat event\n",
    "    # for on of the following keys, correspondence based on GLFW keyboard keys \n",
    "    # (https://www.glfw.org/docs/latest/group__keys.html) :\n",
    "    vis.register_key_action_callback(49, press_1)  # pressing key 1\n",
    "    vis.register_key_action_callback(50, press_2)  # pressing key 2\n",
    "\n",
    "    vis.create_window()\n",
    "    \n",
    "    orientation = 1\n",
    "    vis.add_geometry(source_1_temp)\n",
    "    vis.add_geometry(target_temp)\n",
    "    vis.run()\n",
    "    \n",
    "    return orientation"
   ]
  },
  {
   "cell_type": "markdown",
   "id": "3136635d",
   "metadata": {},
   "source": [
    "### test registration without color:"
   ]
  },
  {
   "cell_type": "code",
   "execution_count": null,
   "id": "423804cf-3572-4a8d-aff6-e9b8684a7398",
   "metadata": {},
   "outputs": [],
   "source": [
    "# Test registration:\n",
    "\n",
    "# Read files and create point clouds\n",
    "reference_fly_filename = \"/media/ceolin/Data/Lab Gompel/Projects/Fly_Abdomens/data_2/References_and_masks/Reference_abdomen_binary_2_2_2.tif\"\n",
    "abdomen_mask_file = \"/media/ceolin/Data/Lab Gompel/Projects/Fly_Abdomens/data_2/References_and_masks/Reference_abdomen_mask_thick_2_2_2.tif\"\n",
    "\n",
    "#source_file_name = \"/media/ceolin/Data/Lab Gompel/Projects/Fly_Abdomens/data_2/temp/temp_final.tif\"\n",
    "#source_file_name = \"/media/ceolin/Data/Lab Gompel/Projects/Fly_Abdomens/data_2/02_preprocessed/Preprocessed_C1-25_2_D2xEn-Gal4_1.tif\"\n",
    "#source_file_name = \"/media/ceolin/Data/Lab Gompel/Projects/Fly_Abdomens/data_2/02_preprocessed/Preprocessed_C1-28_2_D2xEn-Gal4_1.tif\"\n",
    "source_file_name = \"/media/ceolin/Data/Lab Gompel/Projects/Fly_Abdomens/data_2/02_preprocessed/Preprocessed_C1-28_2_D2xEn-Gal4_2.tif\"\n",
    "#source_file_name = \"/media/ceolin/Data/Lab Gompel/Projects/Fly_Abdomens/data_2/02_preprocessed/Preprocessed_C1-28_2_D6xEn-Gal4_1.tif\"\n",
    "#source_file_name = \"/media/ceolin/Data/Lab Gompel/Projects/Fly_Abdomens/data_2/02_preprocessed/Preprocessed_C1-220313_D6xEn-Gal4_1.tif\"\n",
    "#source_file_name = \"/media/ceolin/Data/Lab Gompel/Projects/Fly_Abdomens/data_2/02_preprocessed/Preprocessed_C1-220313_D2xEn-Gal4_1.tif\"\n",
    "\n",
    "#source_file_name_dsred = \"/media/ceolin/Data/Lab Gompel/Projects/Fly_Abdomens/data_2/temp/temp_final.tif\"\n",
    "#source_file_name_dsred = \"/media/ceolin/Data/Lab Gompel/Projects/Fly_Abdomens/data_2/02_preprocessed/Preprocessed_C2-25_2_D2xEn-Gal4_1.tif\"\n",
    "#source_file_name_dsred = \"/media/ceolin/Data/Lab Gompel/Projects/Fly_Abdomens/data_2/02_preprocessed/Preprocessed_C2-28_2_D2xEn-Gal4_1.tif\"\n",
    "source_file_name_dsred = \"/media/ceolin/Data/Lab Gompel/Projects/Fly_Abdomens/data_2/02_preprocessed/Preprocessed_C2-28_2_D2xEn-Gal4_2.tif\"\n",
    "#source_file_name_dsred = \"/media/ceolin/Data/Lab Gompel/Projects/Fly_Abdomens/data_2/02_preprocessed/Preprocessed_C2-28_2_D6xEn-Gal4_1.tif\"\n",
    "#source_file_name_dsred = \"/media/ceolin/Data/Lab Gompel/Projects/Fly_Abdomens/data_2/02_preprocessed/Preprocessed_C2-220313_D6xEn-Gal4_1.tif\"\n",
    "#source_file_name_dsred = \"/media/ceolin/Data/Lab Gompel/Projects/Fly_Abdomens/data_2/02_preprocessed/Preprocessed_C2-220313_D2xEn-Gal4_1.tif\"\n",
    "\n",
    "\n",
    "Reference_Image = io.imread(reference_fly_filename)\n",
    "Abdomen_Mask = io.imread(abdomen_mask_file)\n",
    "Source_Image = io.imread(source_file_name)\n",
    "Source_dsred = io.imread(source_file_name_dsred)\n",
    "\n",
    "#Source_TL = segmented_image_TL\n",
    "source, Source_values = image_to_pcd(Source_Image)\n",
    "source_dsred, Source_values_dsred = image_to_pcd(Source_dsred)\n",
    "\n",
    "target, Target_values = image_to_pcd(Reference_Image)\n",
    "\n",
    "source.paint_uniform_color([1, 0.706, 0])\n",
    "target.paint_uniform_color([0, 0.651, 0.929])\n",
    "\n",
    "source = prealignment(source,target, force_flipping = True)"
   ]
  },
  {
   "cell_type": "code",
   "execution_count": null,
   "id": "344c3682-7e72-4016-ab8b-2d22fa9b95dc",
   "metadata": {},
   "outputs": [],
   "source": [
    "# Preliminary alignment:\n",
    "#source = prealignment(source,target, force_flipping = True)\n",
    "#radius = 10\n",
    "source_down = source.voxel_down_sample(radius)\n",
    "target_down = target.voxel_down_sample(radius)\n",
    "\n",
    "#custom_draw_2(source_down)\n",
    "\n",
    "draw_registration_result(source_down, target_down, np.eye(4))"
   ]
  },
  {
   "cell_type": "code",
   "execution_count": null,
   "id": "3dbab1ba-f5de-409f-8f2e-255a92b0a9aa",
   "metadata": {},
   "outputs": [],
   "source": [
    "def refine_registration_PointToPlane(source, target, threshold, downsampling_radius):\n",
    "    # downsampling to accelerate computation:\n",
    "    source_down = source.voxel_down_sample(downsampling_radius)\n",
    "    target_down = target.voxel_down_sample(downsampling_radius)\n",
    "    \n",
    "    # computing the normals for each point:\n",
    "    source_down.estimate_normals()\n",
    "    source_down.orient_normals_consistent_tangent_plane(k=30)\n",
    "\n",
    "    target_down.estimate_normals()\n",
    "    target_down.orient_normals_consistent_tangent_plane(k=30)\n",
    "    \n",
    "    result = o3d.pipelines.registration.registration_icp(\n",
    "        source_down, target_down, threshold, np.identity(4),\n",
    "        o3d.pipelines.registration.TransformationEstimationPointToPlane(),\n",
    "        o3d.pipelines.registration.ICPConvergenceCriteria(max_iteration=500))\n",
    "    return result\n",
    "\n",
    "def refine_registration_PoinToPoint_Scaling(source, target, threshold):\n",
    "    result = o3d.pipelines.registration.registration_icp(\n",
    "        source, target, threshold, np.identity(4),\n",
    "        o3d.pipelines.registration.TransformationEstimationPointToPoint(with_scaling=True))\n",
    "    return result\n",
    "\n",
    "# Refine registration with Point to plane ICP:\n",
    "result_icp = refine_registration_PointToPlane(source, target, 50, 5)\n",
    "\n",
    "print(result_icp)\n",
    "after_icp = copy.deepcopy(source_down)\n",
    "after_icp.transform(result_icp.transformation)\n",
    "draw_registration_result(after_icp, target_down, np.eye(4))\n",
    "\n",
    "registered_source_image = pcd_to_image(after_icp, Source_values, Reference_Image.shape)\n",
    "registered_source_image_dsred = pcd_to_image(after_icp, Source_values_dsred, Reference_Image.shape)\n",
    "\n",
    "final_image = registered_source_image*Abdomen_Mask\n",
    "final_image_dsred = registered_source_image_dsred*Abdomen_Mask\n",
    "\n",
    "#viewer1 = napari.view_image(final_image)\n",
    "#viewer2 = napari.view_image(final_image_dsred)\n"
   ]
  },
  {
   "cell_type": "code",
   "execution_count": null,
   "id": "a1eb0525",
   "metadata": {},
   "outputs": [],
   "source": [
    "from tifffile import imsave\n",
    "output_file_name = \"/media/ceolin/Data/Lab Gompel/Projects/Fly_Abdomens/data_2/temp/Registered_C1-220313_D2xEn-Gal4_1.tif\"\n",
    "imsave(output_file_name, final_image)\n",
    "\n",
    "output_file_name = \"/media/ceolin/Data/Lab Gompel/Projects/Fly_Abdomens/data_2/temp/Registered_C2-220313_D2xEn-Gal4_1.tif\"\n",
    "imsave(output_file_name, final_image_dsred)"
   ]
  },
  {
   "cell_type": "code",
   "execution_count": null,
   "id": "23bccf25",
   "metadata": {},
   "outputs": [],
   "source": [
    "draw_registration_result(after_icp, target, np.eye(4))"
   ]
  },
  {
   "cell_type": "markdown",
   "id": "4a9b39e1",
   "metadata": {},
   "source": [
    "### Testing colored registration"
   ]
  },
  {
   "cell_type": "code",
   "execution_count": null,
   "id": "ba1f7b69",
   "metadata": {},
   "outputs": [],
   "source": [
    "# Test registration:\n",
    "\n",
    "# Read files and create point clouds\n",
    "reference_fly_filename = \"/media/ceolin/Data/Lab Gompel/Projects/Fly_Abdomens/data_2/References_and_masks/Reference_abdomen_2_2_2.tif\"\n",
    "abdomen_mask_file = \"/media/ceolin/Data/Lab Gompel/Projects/Fly_Abdomens/data_2/References_and_masks/Reference_abdomen_mask_2_2_2.tif\"\n",
    "source_file_name = \"/media/ceolin/Data/Lab Gompel/Projects/Fly_Abdomens/data_2/temp/temp_final_colored.tif\"\n",
    "\n",
    "Reference_Image = io.imread(reference_fly_filename)\n",
    "Abdomen_Mask = io.imread(abdomen_mask_file)\n",
    "Source_Image = io.imread(source_file_name)\n",
    "#Source_DsRed = \n",
    "\n",
    "source, Source_values = image_to_pcd(Source_Image)\n",
    "bw_colors = Source_values/np.max(Source_values)\n",
    "source.colors = o3d.utility.Vector3dVector(np.asarray([bw_colors, bw_colors, bw_colors]).T)\n",
    "\n",
    "#source_DsRed, Source_values_DsRed = image_to_pcd(Source_DsRed)\n",
    "\n",
    "target, Target_values = image_to_pcd(Reference_Image)\n",
    "bw_colors = Target_values/np.max(Target_values)\n",
    "target.colors = o3d.utility.Vector3dVector(np.asarray([bw_colors, bw_colors, bw_colors]).T)\n",
    "\n",
    "o3d.visualization.draw_geometries([source, target])"
   ]
  },
  {
   "cell_type": "code",
   "execution_count": null,
   "id": "74143484",
   "metadata": {},
   "outputs": [],
   "source": [
    "# Preliminary alignment:\n",
    "source = prealignment(source,target)\n",
    "radius = 20\n",
    "source_down = source.voxel_down_sample(radius)\n",
    "target_down = target.voxel_down_sample(radius)\n",
    "\n",
    "draw_registration_result(source_down, target_down, np.eye(4))"
   ]
  },
  {
   "cell_type": "code",
   "execution_count": null,
   "id": "0678bfc2",
   "metadata": {},
   "outputs": [],
   "source": [
    "def refine_registration_PointToPlane(source, target, threshold):\n",
    "    \"threshold = max distance between corresponding points\"\n",
    "    print(\"starting icp\")\n",
    "    result = o3d.pipelines.registration.registration_icp(\n",
    "        source, target, threshold, np.identity(4),\n",
    "        o3d.pipelines.registration.TransformationEstimationPointToPlane(),\n",
    "        o3d.pipelines.registration.ICPConvergenceCriteria(max_iteration=300))\n",
    "    return result\n",
    "\n",
    "\n",
    "source_down.estimate_normals()\n",
    "source_down.orient_normals_consistent_tangent_plane(k=30)\n",
    "\n",
    "target_down.estimate_normals()\n",
    "target_down.orient_normals_consistent_tangent_plane(k=30)\n",
    "\n",
    "# Initialize registration with Point to plane ICP:\n",
    "result_icp = refine_registration_PointToPlane(source_down, target_down, 50)\n",
    "after_icp = copy.deepcopy(source)\n",
    "after_icp.transform(result_icp.transformation)\n",
    "draw_registration_result(after_icp, target, np.eye(4))"
   ]
  },
  {
   "cell_type": "code",
   "execution_count": null,
   "id": "228f5de4",
   "metadata": {},
   "outputs": [],
   "source": [
    "# Registration with Colored point clouds\n",
    "radius = 10\n",
    "threshold = 100\n",
    "max_iters = 1000\n",
    "\n",
    "source_down = after_icp.voxel_down_sample(radius)\n",
    "target_down = target.voxel_down_sample(radius)\n",
    "\n",
    "source_down.estimate_normals(o3d.geometry.KDTreeSearchParamHybrid(radius=radius * 2, max_nn=30))\n",
    "target_down.estimate_normals(o3d.geometry.KDTreeSearchParamHybrid(radius=radius * 2, max_nn=30))\n",
    "\n",
    "current_transformation = np.identity(4)\n",
    "\n",
    "result_icp = o3d.pipelines.registration.registration_colored_icp(\n",
    "        source_down, target_down, threshold, current_transformation,\n",
    "        o3d.pipelines.registration.TransformationEstimationForColoredICP(lambda_geometric=1),\n",
    "        o3d.pipelines.registration.ICPConvergenceCriteria(max_iteration=max_iters))\n",
    "\n",
    "current_transformation = result_icp.transformation\n",
    "\n",
    "after_cicp = copy.deepcopy(after_icp)\n",
    "after_cicp.transform(current_transformation)\n",
    "\n",
    "print(result_icp)\n",
    "\n",
    "draw_registration_result(after_cicp, target, np.eye(4))"
   ]
  },
  {
   "cell_type": "markdown",
   "id": "80e4f4ee",
   "metadata": {},
   "source": [
    "# testing projection\n"
   ]
  },
  {
   "cell_type": "code",
   "execution_count": null,
   "id": "ea1c4ab9",
   "metadata": {},
   "outputs": [],
   "source": [
    "source_file_name = \"/media/ceolin/Data/Lab Gompel/Projects/Fly_Abdomens/data_2/03_registered/Registered_C1-220313_D2xEn-Gal4_1.tif\"\n",
    "source_file_name_dsred = \"/media/ceolin/Data/Lab Gompel/Projects/Fly_Abdomens/data_2/03_registered/Registered_C2-220313_D2xEn-Gal4_1.tif\"\n",
    "\n",
    "\n",
    "def project_2D(pcd, values, bins_x1, bins_x2):\n",
    "    \n",
    "    indexes = np.asarray(pcd.points).T\n",
    "    \n",
    "    x = indexes[2,:]-200\n",
    "    y = indexes[1,:]-337\n",
    "    z = indexes[0,:]-10\n",
    "    \n",
    "    \n",
    "    x1 = -0.43*x-0.9*y\n",
    "    y1 = -0.9*x+0.43*y\n",
    "    \n",
    "    theta = np.arctan2(y1, z)\n",
    "    \n",
    "    ret = stats.binned_statistic_2d(theta, x1, values, statistic='max', bins=[bins_x1, bins_x2], range=None, expand_binnumbers=False)\n",
    "    final_image = ret.statistic\n",
    "    \n",
    "    return final_image\n",
    "\n",
    "n_bins_1 = 100\n",
    "n_bins_2 = 100\n",
    "\n",
    "Source_gfp = io.imread(source_file_name)\n",
    "Source_dsred = io.imread(source_file_name_dsred)\n",
    "\n",
    "final_pcd, final_values = image_to_pcd(Source_gfp)\n",
    "final_pcd_dsred, final_values_dsred = image_to_pcd(Source_dsred)\n",
    "    \n",
    "bins_1 = np.linspace(-2,2,n_bins_1)\n",
    "bins_2 = np.linspace(0,370,n_bins_2)\n",
    "    \n",
    "projected_image = project_2D(final_pcd, final_values, bins_1, bins_2)\n",
    "projected_image_TL = project_2D(final_pcd, final_values_dsred, bins_1, bins_2)  \n",
    "\n",
    "plt.imshow(projected_image)"
   ]
  },
  {
   "cell_type": "code",
   "execution_count": null,
   "id": "99ba6729",
   "metadata": {},
   "outputs": [],
   "source": []
  }
 ],
 "metadata": {
  "kernelspec": {
   "display_name": "Python 3 (ipykernel)",
   "language": "python",
   "name": "python3"
  },
  "language_info": {
   "codemirror_mode": {
    "name": "ipython",
    "version": 3
   },
   "file_extension": ".py",
   "mimetype": "text/x-python",
   "name": "python",
   "nbconvert_exporter": "python",
   "pygments_lexer": "ipython3",
   "version": "3.8.12"
  }
 },
 "nbformat": 4,
 "nbformat_minor": 5
}
