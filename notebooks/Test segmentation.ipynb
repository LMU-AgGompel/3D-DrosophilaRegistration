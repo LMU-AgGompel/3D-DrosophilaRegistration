{
 "cells": [
  {
   "cell_type": "markdown",
   "id": "b3c0da04",
   "metadata": {},
   "source": [
    "# Segmentation testing and generation of a reference image\n",
    "\n",
    "Use this notebook to:\n",
    "\n",
    "1. separately test each step used in the detection and segmentation of the surface of the object in one image stack, and visualize the result after each step. \n",
    "\n",
    "2. explore the effect of the segmentation parameters and find the best values for the current dataset.\n",
    "\n",
    "3. align the segmented image and the corresponding mask and save them as references to register multiple 3D stacks."
   ]
  },
  {
   "cell_type": "code",
   "execution_count": 1,
   "id": "a8b4d220-5903-49e8-8704-d26569a4263c",
   "metadata": {},
   "outputs": [
    {
     "name": "stdout",
     "output_type": "stream",
     "text": [
      "Jupyter environment detected. Enabling Open3D WebVisualizer.\n",
      "[Open3D INFO] WebRTC GUI backend enabled.\n",
      "[Open3D INFO] WebRTCWindowSystem: HTTP handshake server disabled.\n"
     ]
    }
   ],
   "source": [
    "# import packages \n",
    "from skimage import io, transform\n",
    "import numpy as np\n",
    "import open3d as o3d\n",
    "import napari\n",
    "import os\n",
    "from skimage import morphology\n",
    "from scipy import stats, ndimage\n",
    "import matplotlib.pyplot as plt\n",
    "import sys\n",
    "\n",
    "root_dir = os.path.join(os.getcwd(), '..')\n",
    "sys.path.append(root_dir)\n",
    "\n",
    "from src.preprocess import segmentation_with_optimized_thresh, image_padding, refine_surface_mask, refine_surface_mask_with_mesh_interpolation\n",
    "from src.aux_pcd_functions import pcd_to_image, image_to_pcd\n",
    "from src.registration import pick_points\n"
   ]
  },
  {
   "cell_type": "markdown",
   "id": "d15bcd91",
   "metadata": {},
   "source": [
    "### Set parameters:"
   ]
  },
  {
   "cell_type": "code",
   "execution_count": 2,
   "id": "b404e139",
   "metadata": {},
   "outputs": [],
   "source": [
    "# Downscaling of confocal stacks along z,x,y, \n",
    "# pick numbers that make the resolution isotropic:\n",
    "downscaling = (1, 2.5, 2.5) \n",
    "\n",
    "# Bit depth of raw images \n",
    "# (depending on the detector settings this may be 8, 12 or 16)\n",
    "bit_depth = 12\n",
    "\n",
    "# Default values of the parameters used for the segmentation:\n",
    "segm_pars={'threshold': 1.05, 'max_iter': 200,'fraction_range': [0.04, 0.05], \n",
    "           'padding': 20, 'closing_r': 4, 'dilation_r': 4, 'mesh_radius': 10}"
   ]
  },
  {
   "cell_type": "markdown",
   "id": "4ab7a652",
   "metadata": {},
   "source": [
    "### Downscaling and visualization of raw data"
   ]
  },
  {
   "cell_type": "code",
   "execution_count": 3,
   "id": "661869ed-6f47-49af-ab59-a0e1790396a3",
   "metadata": {},
   "outputs": [],
   "source": [
    "# Load the image, only fluorescence channel is required:\n",
    "reference_fly_filename = \"../test_dataset/01_raw/C1-Image1.tif\"\n",
    "image = io.imread(reference_fly_filename)\n",
    "\n",
    "# Apply downscaling and visualize the stack:\n",
    "new_image_shape = [int(image.shape[i]/downscaling[i]) for i in range(3)]\n",
    "image_downscaled = transform.resize(image, new_image_shape, preserve_range = True, anti_aliasing=True)\n",
    "viewer = napari.view_image(image_downscaled)"
   ]
  },
  {
   "cell_type": "markdown",
   "id": "7c088fcb",
   "metadata": {},
   "source": [
    "### Thresholding:"
   ]
  },
  {
   "cell_type": "code",
   "execution_count": 4,
   "id": "952aa3e4-e2db-4b1a-ad04-9f695c0e7652",
   "metadata": {},
   "outputs": [],
   "source": [
    "# Segment:\n",
    "Thresholded_Image = segmentation_with_optimized_thresh(image_downscaled,\n",
    "                                                       segm_pars['threshold'], \n",
    "                                                       segm_pars['max_iter'], \n",
    "                                                       segm_pars['fraction_range'])\n",
    "viewer = napari.view_image(Thresholded_Image)"
   ]
  },
  {
   "cell_type": "markdown",
   "id": "48c89736",
   "metadata": {},
   "source": [
    "## Clean up the segmented volume with morphological transformations:"
   ]
  },
  {
   "cell_type": "code",
   "execution_count": 5,
   "id": "a983d3d8",
   "metadata": {},
   "outputs": [],
   "source": [
    "# Padding:\n",
    "Mask_padded  = image_padding(Thresholded_Image, padding = segm_pars['padding'])\n",
    "Image_padded = image_padding(image_downscaled, padding = segm_pars['padding'])\n",
    "\n",
    "# Clean up the segmentation with morphological transformations:\n",
    "Refined_Mask = refine_surface_mask(Mask_padded, Image_padded, segm_pars['closing_r'], segm_pars['mesh_radius'])\n",
    "\n",
    "# Visualize the result:\n",
    "viewer = napari.view_image(Refined_Mask)"
   ]
  },
  {
   "cell_type": "markdown",
   "id": "c6189a5c",
   "metadata": {},
   "source": [
    "## Transform the segmented volume in a point cloud object and fit a mesh to fill potential holes:"
   ]
  },
  {
   "cell_type": "code",
   "execution_count": 6,
   "id": "70a2dc91-45b8-436c-a13e-4c8893553cd5",
   "metadata": {},
   "outputs": [],
   "source": [
    "# Define functions to visualize the point cloud object:\n",
    "\n",
    "def custom_draw(pcd):\n",
    "    vis = o3d.visualization.Visualizer()\n",
    "    vis.create_window()\n",
    "    opt = vis.get_render_option()\n",
    "    opt.background_color = np.asarray([0, 0, 0])\n",
    "    vis.add_geometry(pcd)\n",
    "    vis.run()\n",
    "    vis.destroy_window()\n",
    "    \n",
    "def custom_draw_w_mesh(pcd, mesh):\n",
    "    vis = o3d.visualization.Visualizer()\n",
    "    vis.create_window()\n",
    "    opt = vis.get_render_option()\n",
    "    opt.background_color = np.asarray([0, 0, 0])\n",
    "    vis.add_geometry(pcd)\n",
    "    vis.add_geometry(mesh)\n",
    "    vis.run()\n",
    "    vis.destroy_window()\n",
    "    \n",
    "def draw_pcd(pcd):\n",
    "    pcd_temp = copy.deepcopy(pcd)\n",
    "    pcd_temp.paint_uniform_color([1, 0.706, 0])\n",
    "    o3d.visualization.draw_geometries([pcd_temp])\n",
    "\n",
    "\n",
    "# Transform the mask surface in a point cloud and interpolate it with a mesh:\n",
    "mesh_pcd, mesh_pcd_values, original_pcd, mesh = refine_surface_mask_with_mesh_interpolation(\n",
    "                                        Refined_Mask, segm_pars['mesh_radius'])\n",
    "\n",
    "custom_draw_w_mesh(original_pcd, mesh)\n",
    "custom_draw(mesh_pcd)"
   ]
  },
  {
   "cell_type": "markdown",
   "id": "8a72eaf7",
   "metadata": {},
   "source": [
    "## Create a mask from the mesh and apply it to the original image stack:"
   ]
  },
  {
   "cell_type": "code",
   "execution_count": 7,
   "id": "edd043b9",
   "metadata": {},
   "outputs": [
    {
     "name": "stderr",
     "output_type": "stream",
     "text": [
      "INFO - 2023-06-27 18:30:48,255 - acceleratesupport - No OpenGL_accelerate module loaded: No module named 'OpenGL_accelerate'\n"
     ]
    }
   ],
   "source": [
    "mask_thin = pcd_to_image(mesh_pcd, mesh_pcd_values, Refined_Mask.shape)\n",
    "viewer = napari.view_image(Image_padded*mask_thin)"
   ]
  },
  {
   "cell_type": "markdown",
   "id": "a83e0cf5",
   "metadata": {},
   "source": [
    "## Select the meridian plane of the segmented object\n",
    "\n",
    "In this step, select a series of points along a line on the segmented surface that will define the meridian plane for the 2D projection of the images."
   ]
  },
  {
   "cell_type": "code",
   "execution_count": null,
   "id": "3dbcc698",
   "metadata": {},
   "outputs": [],
   "source": [
    "\"\"\"\n",
    "1)  Please pick at least three points along the meridian plane of your image using [shift + left click]\n",
    "    Press [shift + right click] to undo point picking)\n",
    "2)  After picking points, press 'Q' to close the window\n",
    "\n",
    "\"\"\"\n",
    "\n",
    "# Tune the brightness of surface:\n",
    "brightness_max = 2\n",
    "\n",
    "# Tune the point size of surface viewer:\n",
    "pt_size = 12\n",
    "\n",
    "pcd, pcd_values = image_to_pcd(mask_thin*Image_padded)\n",
    "bw_colors = brightness_max*(pcd_values-np.min(pcd_values))/np.max(pcd_values)\n",
    "\n",
    "'Pick points along the equatorial plane'\n",
    "pcd.colors = o3d.utility.Vector3dVector(np.asarray([bw_colors, bw_colors, bw_colors]).T)\n",
    "points_equatorial_plane = pick_points(pcd, pt_size, window_name = \"Pick points along equatorial plane\")\n",
    "\n",
    "'Pick points along the meridian plane'\n",
    "pcd.colors = o3d.utility.Vector3dVector(np.asarray([bw_colors, bw_colors, bw_colors]).T)\n",
    "points_meridian_plane = pick_points(pcd, pt_size, window_name = \"Pick points along meridian plane\")"
   ]
  },
  {
   "cell_type": "markdown",
   "id": "28b253c9",
   "metadata": {},
   "source": [
    "### Fit the equatorial plane and the meridian plane through the selected points:"
   ]
  },
  {
   "cell_type": "code",
   "execution_count": null,
   "id": "6f63df82",
   "metadata": {},
   "outputs": [],
   "source": [
    "%matplotlib widget\n",
    "from scipy.linalg import lstsq\n",
    "\n",
    "# Linear fit of equatorial plane in the form f0*x+f1*y+f2 = z\n",
    "tmp_A = []\n",
    "tmp_b = []\n",
    "pts_x = []\n",
    "pts_y = []\n",
    "pts_z = []\n",
    "\n",
    "for point_idx in points_equatorial_plane:\n",
    "    [x, y, z] = pcd.points[point_idx]\n",
    "    tmp_A.append([x, y, 1])\n",
    "    tmp_b.append(z)    \n",
    "    pts_x.append(x)\n",
    "    pts_y.append(y)\n",
    "    pts_z.append(z)\n",
    "\n",
    "b = np.matrix(tmp_b).T\n",
    "A = np.matrix(tmp_A)\n",
    "\n",
    "# fit the equatorial plane \n",
    "fit_e, residual, rnk, s = lstsq(A, b)\n",
    "\n",
    "e_plane_a = fit_e[0,0]\n",
    "e_plane_b = fit_e[1,0]\n",
    "e_plane_c = fit_e[2,0]\n",
    "\n",
    "# define the meridian plane orthogonal to the equatorial plane\n",
    "# and prepare data for fitting:\n",
    "\n",
    "tmp_A = []\n",
    "tmp_b = []\n",
    "for point_idx in points_meridian_plane:\n",
    "    [x, y, z] = pcd.points[point_idx]\n",
    "    tmp_A.append([(e_plane_a*y-e_plane_b*x), e_plane_a])\n",
    "    tmp_b.append(e_plane_a*z+x)\n",
    "    pts_x.append(x)\n",
    "    pts_y.append(y)\n",
    "    pts_z.append(z)\n",
    "\n",
    "b = np.matrix(tmp_b).T\n",
    "A = np.matrix(tmp_A)\n",
    "\n",
    "fit_m, residual, rnk, s = lstsq(A, b)\n",
    "\n",
    "m_plane_a = -(1+e_plane_b*fit_m[0,0])/e_plane_a\n",
    "m_plane_b = fit_m[0,0]\n",
    "m_plane_c = fit_m[1,0]\n",
    "\n",
    "\n",
    "# plot the result of the fit:\n",
    "plt.figure()\n",
    "ax = plt.subplot(111, projection='3d')\n",
    "ax.scatter(pts_x, pts_y, pts_z, color='b', s = 10)\n",
    "\n",
    "ax.set_xlim([0,100])\n",
    "ax.set_ylim([0,100])\n",
    "ax.set_zlim([0,100])\n",
    "\n",
    "X,Y = np.meshgrid(np.arange(min(pts_x), max(pts_x)),\n",
    "                  np.arange(min(pts_y), max(pts_y)))\n",
    "Z = np.zeros(X.shape)\n",
    "\n",
    "for r in range(X.shape[0]):\n",
    "    for c in range(X.shape[1]):\n",
    "        temp_z = m_plane_a * X[r,c] + m_plane_b * Y[r,c] + m_plane_c\n",
    "        if (temp_z > 0.75*min(pts_z)) & (temp_z < 1.5*max(pts_z)):\n",
    "            Z[r,c] = temp_z\n",
    "        else:\n",
    "            Z[r,c] = np.nan\n",
    "\n",
    "ax.plot_wireframe(X,Y,Z, color='k')\n",
    "\n",
    "for r in range(X.shape[0]):\n",
    "    for c in range(X.shape[1]):\n",
    "        temp_z = e_plane_a * X[r,c] + e_plane_b * Y[r,c] + e_plane_c\n",
    "        if (temp_z > 0.75*min(pts_z)) & (temp_z < 1.5*max(pts_z)):\n",
    "            Z[r,c] = temp_z\n",
    "        else:\n",
    "            Z[r,c] = np.nan\n",
    "            \n",
    "ax.plot_wireframe(X,Y,Z, color='r')"
   ]
  },
  {
   "cell_type": "markdown",
   "id": "620035dd",
   "metadata": {},
   "source": [
    "### Apply an affine transformation to align the axis with the meridian and equatorial planes and center the image around the center of the segmented surface."
   ]
  },
  {
   "cell_type": "code",
   "execution_count": null,
   "id": "c934ff39",
   "metadata": {},
   "outputs": [],
   "source": [
    "## Change of coordinates:\n",
    "new_z = [[e_plane_a, e_plane_b, -1]]\n",
    "new_z = new_z/np.sum(new_z)\n",
    "new_y = [[m_plane_a, m_plane_b, -1]]\n",
    "new_y = new_y/np.sum(new_y)\n",
    "new_x = np.cross(new_z, new_y)\n",
    "\n",
    "Inv_transf_M = np.hstack((new_z.T, new_y.T, new_x.T))\n",
    "Dir_trans_M = np.linalg.inv(Inv_transf_M)\n",
    "\n",
    "pcd_center = pcd.get_center().T\n",
    "offset = pcd_center-np.matmul(Inv_transf_M,pcd_center)\n",
    "\n",
    "center = np.array(Image_padded.shape)/2\n",
    "Rotated_image = ndimage.affine_transform(Image_padded, Inv_transf_M, offset=offset, order=1)\n",
    "\n",
    "Rotated_thin_mask = ndimage.affine_transform(mask_thin, Inv_transf_M, offset=offset, order=1)>0.1\n",
    "Final_mask = morphology.dilation(Rotated_thin_mask, morphology.ball(segm_pars['dilation_r']))\n",
    "\n",
    "viewer = napari.view_image(Rotated_image*Final_mask)"
   ]
  },
  {
   "cell_type": "markdown",
   "id": "806c853c",
   "metadata": {},
   "source": [
    "## Save the reference image"
   ]
  },
  {
   "cell_type": "code",
   "execution_count": null,
   "id": "5dc1b1d5",
   "metadata": {},
   "outputs": [],
   "source": [
    "# Save it as reference\n",
    "from tifffile import imsave\n",
    "\n",
    "imsave(\"../test_dataset/References_and_masks/C1_Reference_iso.tiff\", (Rotated_image*Final_mask).astype(np.uint16))\n",
    "imsave(\"../test_dataset/References_and_masks/Reference_mask_iso.tiff\", (Final_mask).astype(np.uint16))"
   ]
  }
 ],
 "metadata": {
  "kernelspec": {
   "display_name": "Python 3 (ipykernel)",
   "language": "python",
   "name": "python3"
  },
  "language_info": {
   "codemirror_mode": {
    "name": "ipython",
    "version": 3
   },
   "file_extension": ".py",
   "mimetype": "text/x-python",
   "name": "python",
   "nbconvert_exporter": "python",
   "pygments_lexer": "ipython3",
   "version": "3.8.12"
  }
 },
 "nbformat": 4,
 "nbformat_minor": 5
}
