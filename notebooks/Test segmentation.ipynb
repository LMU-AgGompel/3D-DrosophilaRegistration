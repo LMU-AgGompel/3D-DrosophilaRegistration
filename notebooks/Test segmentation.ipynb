{
 "cells": [
  {
   "cell_type": "markdown",
   "id": "b3c0da04",
   "metadata": {},
   "source": [
    "# Segmentation testing and generation of a reference image\n",
    "\n",
    "Use this notebook to:\n",
    "\n",
    "1. separately test each step used in the detection and segmentation of the surface of the object in one image stack, and visualize the result after each step. \n",
    "\n",
    "2. explore the effect of the segmentation parameters and find the best values for the current dataset.\n",
    "\n",
    "3. align the segmented image and the corresponding mask and save them as references to register multiple 3D stacks."
   ]
  },
  {
   "cell_type": "code",
   "execution_count": 1,
   "id": "a8b4d220-5903-49e8-8704-d26569a4263c",
   "metadata": {},
   "outputs": [
    {
     "name": "stdout",
     "output_type": "stream",
     "text": [
      "Jupyter environment detected. Enabling Open3D WebVisualizer.\n",
      "[Open3D INFO] WebRTC GUI backend enabled.\n",
      "[Open3D INFO] WebRTCWindowSystem: HTTP handshake server disabled.\n"
     ]
    }
   ],
   "source": [
    "# import packages \n",
    "from skimage import io, transform\n",
    "import numpy as np\n",
    "import open3d as o3d\n",
    "import copy\n",
    "import napari\n",
    "import time\n",
    "import os\n",
    "from skimage import morphology\n",
    "from skimage.measure import label, regionprops, block_reduce\n",
    "from scipy import stats, ndimage\n",
    "import matplotlib.pyplot as plt\n",
    "import sys\n",
    "\n",
    "root_dir = os.path.join(os.getcwd(), '..')\n",
    "sys.path.append(root_dir)\n",
    "\n",
    "from src.preprocess import segmentation_with_optimized_thresh, image_padding, refine_surface_mask, refine_surface_mask_with_mesh_interpolation\n",
    "from src.aux_pcd_functions import pcd_to_image, image_to_pcd\n",
    "from src.registration import pick_points\n"
   ]
  },
  {
   "cell_type": "markdown",
   "id": "d15bcd91",
   "metadata": {},
   "source": [
    "### Set parameters:"
   ]
  },
  {
   "cell_type": "code",
   "execution_count": 2,
   "id": "b404e139",
   "metadata": {},
   "outputs": [],
   "source": [
    "# Downscaling of confocal stacks along z,x,y, \n",
    "# pick numbers that make the resolution isotropic:\n",
    "downscaling = (1, 2.5, 2.5) \n",
    "\n",
    "# Bit depth of raw images \n",
    "# (depending on the detector settings this may be 8, 12 or 16)\n",
    "bit_depth = 12\n",
    "\n",
    "# Default values of the parameters used for the segmentation:\n",
    "segm_pars={'threshold': 1.05, 'max_iter': 200,'fraction_range': [0.04, 0.05], \n",
    "           'padding': 20, 'closing_r': 4, 'dilation_r': 4, 'mesh_radius': 10}"
   ]
  },
  {
   "cell_type": "markdown",
   "id": "4ab7a652",
   "metadata": {},
   "source": [
    "### Downscaling and visualization of raw data"
   ]
  },
  {
   "cell_type": "code",
   "execution_count": 3,
   "id": "661869ed-6f47-49af-ab59-a0e1790396a3",
   "metadata": {},
   "outputs": [],
   "source": [
    "# Load the image, only fluorescence channel is required:\n",
    "reference_fly_filename = \"../test_dataset/01_raw/C1-Image1.tif\"\n",
    "image = io.imread(reference_fly_filename)\n",
    "\n",
    "# Apply downscaling and visualize the stack:\n",
    "new_image_shape = [int(image.shape[i]/downscaling[i]) for i in range(3)]\n",
    "image_downscaled = transform.resize(image, new_image_shape, preserve_range = True, anti_aliasing=True)\n",
    "#viewer = napari.view_image(image_downscaled)"
   ]
  },
  {
   "cell_type": "markdown",
   "id": "7c088fcb",
   "metadata": {},
   "source": [
    "### Thresholding:"
   ]
  },
  {
   "cell_type": "code",
   "execution_count": 4,
   "id": "952aa3e4-e2db-4b1a-ad04-9f695c0e7652",
   "metadata": {},
   "outputs": [],
   "source": [
    "# Segment:\n",
    "Thresholded_Image = segmentation_with_optimized_thresh(image_downscaled,\n",
    "                                                       segm_pars['threshold'], \n",
    "                                                       segm_pars['max_iter'], \n",
    "                                                       segm_pars['fraction_range'])\n",
    "#viewer = napari.view_image(Thresholded_Image)"
   ]
  },
  {
   "cell_type": "markdown",
   "id": "48c89736",
   "metadata": {},
   "source": [
    "## Clean up the segmented volume with morphological transformations:"
   ]
  },
  {
   "cell_type": "code",
   "execution_count": 5,
   "id": "a983d3d8",
   "metadata": {},
   "outputs": [],
   "source": [
    "# Padding:\n",
    "Mask_padded  = image_padding(Thresholded_Image, padding = segm_pars['padding'])\n",
    "Image_padded = image_padding(image_downscaled, padding = segm_pars['padding'])\n",
    "\n",
    "# Clean up the segmentation with morphological transformations:\n",
    "Refined_Mask = refine_surface_mask(Mask_padded, Image_padded, segm_pars['closing_r'], segm_pars['mesh_radius'])\n",
    "\n",
    "# Visualize the result:\n",
    "#viewer = napari.view_image(Refined_Mask)"
   ]
  },
  {
   "cell_type": "markdown",
   "id": "c6189a5c",
   "metadata": {},
   "source": [
    "## Transform the segmented volume in a point cloud object and fit a mesh to fill potential holes:"
   ]
  },
  {
   "cell_type": "code",
   "execution_count": 6,
   "id": "70a2dc91-45b8-436c-a13e-4c8893553cd5",
   "metadata": {},
   "outputs": [],
   "source": [
    "# Define functions to visualize the point cloud object:\n",
    "\n",
    "def custom_draw(pcd):\n",
    "    vis = o3d.visualization.Visualizer()\n",
    "    vis.create_window()\n",
    "    opt = vis.get_render_option()\n",
    "    opt.background_color = np.asarray([0, 0, 0])\n",
    "    vis.add_geometry(pcd)\n",
    "    vis.run()\n",
    "    vis.destroy_window()\n",
    "    \n",
    "def custom_draw_w_mesh(pcd, mesh):\n",
    "    vis = o3d.visualization.Visualizer()\n",
    "    vis.create_window()\n",
    "    opt = vis.get_render_option()\n",
    "    opt.background_color = np.asarray([0, 0, 0])\n",
    "    vis.add_geometry(pcd)\n",
    "    vis.add_geometry(mesh)\n",
    "    vis.run()\n",
    "    vis.destroy_window()\n",
    "    \n",
    "def draw_pcd(pcd):\n",
    "    pcd_temp = copy.deepcopy(pcd)\n",
    "    pcd_temp.paint_uniform_color([1, 0.706, 0])\n",
    "    o3d.visualization.draw_geometries([pcd_temp])\n",
    "\n",
    "\n",
    "# Transform the mask surface in a point cloud and interpolate it with a mesh:\n",
    "mesh_pcd, mesh_pcd_values, original_pcd, mesh = refine_surface_mask_with_mesh_interpolation(\n",
    "                                        Refined_Mask, segm_pars['mesh_radius'])\n",
    "\n",
    "#custom_draw_w_mesh(original_pcd, mesh)\n",
    "#custom_draw(mesh_pcd)"
   ]
  },
  {
   "cell_type": "markdown",
   "id": "8a72eaf7",
   "metadata": {},
   "source": [
    "## Create a mask from the mesh and apply it to the original image stack:"
   ]
  },
  {
   "cell_type": "code",
   "execution_count": 7,
   "id": "edd043b9",
   "metadata": {},
   "outputs": [],
   "source": [
    "mask_thin = pcd_to_image(mesh_pcd, mesh_pcd_values, Refined_Mask.shape)\n",
    "#viewer = napari.view_image(final_image)"
   ]
  },
  {
   "cell_type": "markdown",
   "id": "a83e0cf5",
   "metadata": {},
   "source": [
    "## Select the meridian plane of the segmented object\n",
    "\n",
    "In this step, select a series of points along a line on the segmented surface that will define the meridian plane for the 2D projection of the images."
   ]
  },
  {
   "cell_type": "code",
   "execution_count": 9,
   "id": "3dbcc698",
   "metadata": {},
   "outputs": [],
   "source": [
    "\"\"\"\n",
    "1)  Please pick at least three points along the meridian plane of your image using [shift + left click]\n",
    "    Press [shift + right click] to undo point picking)\n",
    "2)  After picking points, press 'Q' to close the window\n",
    "\n",
    "\"\"\"\n",
    "\n",
    "# Tune the brightness of surface:\n",
    "brightness_max = 2\n",
    "\n",
    "# Tune the point size of surface viewer:\n",
    "pt_size = 12\n",
    "\n",
    "pcd, pcd_values = image_to_pcd(mask_thin*Image_padded)\n",
    "bw_colors = brightness_max*(pcd_values-np.min(pcd_values))/np.max(pcd_values)\n",
    "\n",
    "'Pick points along the equatorial plane'\n",
    "pcd.colors = o3d.utility.Vector3dVector(np.asarray([bw_colors, bw_colors, bw_colors]).T)\n",
    "points_equatorial_plane = pick_points(pcd, pt_size, window_name = \"Pick points along equatorial plane\")\n",
    "\n",
    "'Pick points along the meridian plane'\n",
    "pcd.colors = o3d.utility.Vector3dVector(np.asarray([bw_colors, bw_colors, bw_colors]).T)\n",
    "points_meridian_plane = pick_points(pcd, pt_size, window_name = \"Pick points along meridian plane\")"
   ]
  },
  {
   "cell_type": "markdown",
   "id": "28b253c9",
   "metadata": {},
   "source": [
    "### Fit the equatorial plane and the meridian plane through the selected points:"
   ]
  },
  {
   "cell_type": "code",
   "execution_count": 15,
   "id": "6f63df82",
   "metadata": {},
   "outputs": [
    {
     "data": {
      "text/plain": [
       "<mpl_toolkits.mplot3d.art3d.Line3DCollection at 0x7f22944f4460>"
      ]
     },
     "execution_count": 15,
     "metadata": {},
     "output_type": "execute_result"
    },
    {
     "data": {
      "application/vnd.jupyter.widget-view+json": {
       "model_id": "18d5f4c38ff3436cac1d29103c817f7b",
       "version_major": 2,
       "version_minor": 0
      },
      "text/html": [
       "\n",
       "            <div style=\"display: inline-block;\">\n",
       "                <div class=\"jupyter-widgets widget-label\" style=\"text-align: center;\">\n",
       "                    Figure\n",
       "                </div>\n",
       "                <img src='data:image/png;base64,iVBORw0KGgoAAAANSUhEUgAAAoAAAAHgCAYAAAA10dzkAAAAOXRFWHRTb2Z0d2FyZQBNYXRwbG90bGliIHZlcnNpb24zLjQuMywgaHR0cHM6Ly9tYXRwbG90bGliLm9yZy/MnkTPAAAACXBIWXMAAA9hAAAPYQGoP6dpAADw5ElEQVR4nOy9eXQr93ne/wwAkiAWAuC+77yX9/LuvBt5Y8uJLbVO7DrxaZPUPrXj5rRu7aRW3dZu4qaVcxw5ck8d9USOE7lp7NZRk/bXpE2a2JbkRV4kS7JIcN/3ndi4ACDWmd8fvN/RYDjEYBmQQ/H9nHOPBGAwMwRIzIPn/b7PywmCIIAgCIIgCII4NxhO+wQIgiAIgiCIk4UEIEEQBEEQxDmDBCBBEARBEMQ5gwQgQRAEQRDEOYMEIEEQBEEQxDmDBCBBEARBEMQ5gwQgQRAEQRDEOYMEIEEQBEEQxDmDBCBBEARBEMQ5gwQgQRAEQRDEOYMEIEEQBEEQxDmDBCBBEARBEMQ5gwQgQRAEQRDEOYMEIEEQBEEQxDmDBCBBEARBEMQ5gwQgQRAEQRDEOYMEIEEQBEEQxDmDBCBBEARBEMQ5gwQgQRAEQRDEOYMEIEEQBEEQxDmDBCBBEARBEMQ5gwQgQRAEQRDEOYMEIEEQBEEQxDmDBCBBEARBEMQ5gwQgQRAEQRDEOYMEIEEQBEEQxDmDBCBBEARBEMQ5gwQgQRAEQRDEOYMEIEEQBEEQxDmDBCBBEARBEMQ5gwQgQRAEQRDEOYMEIEEQBEEQxDmDBCBBEARBEMQ5gwQgQRAEQRDEOYMEIEEQBEEQxDmDBCBBEARBEMQ5gwQgQRAEQRDEOYMEIEEQBEEQxDmDBCBBEARBEMQ5gwQgQRAEQRDEOYMEIEEQBEEQxDmDBCBBEARBEMQ5gwQgQRAEQRDEOYMEIEEQBEEQxDmDBCBBEARBEMQ5gwQgQRAEQRDEOYMEIEEQBEEQxDmDBCBBEARBEMQ5gwQgQRAEQRDEOYMEIEEQBEEQxDmDBCBBEARBEMQ5gwQgQRAEQRDEOYMEIEEQBEEQxDmDBCBBEARBEMQ5gwQgQRAEQRDEOYMEIEEQBEEQxDmDBCBBEARBEMQ5gwQgQRB587GPfQwcx+Hq1avgOA49PT3gOA7d3d3gOA6dnZ3gOA51dXXgOA4WiwUcx4n/ijkOf8JxwDH/krLbCZXbfJa35fsXDIZjz0X8l26b//bfTvstIQiCSAsJQIIg8qa9vR0AIAgCAMBoNAIAiouLAQClpaUAgIqKCgBAS0uL+LwKAN81GvERAMLD/SVk+xdkt42y2ybZttIPNl7lttL+IMiPqIB8G4578//n5tSfTxAEcYqQACQIIm+YADw4OAAAxGIxAEAymUzZTi4Me0wm/BjAg2QSAgAmoTikIhV4SdnjcrEof65cyslvJ2W3eYV9HIFT2EIqCEkAEgShc0zqmxAEQaSHCUCfzwcA2N3dBQAEg0EAQCQSAZAqDH8GwJ/OzsIOpIg/HqmOXBxAUZpjH3HvVB5Xu30Ejjvq9im5f9L7ZmfV9koQBHGqkANIEETetLW1AXhT+Hk8HgBvCkK/35/y+Hs3NvA8ADvPp4g/4KgjJxVoguy23A2Uu3tyd1C+byX378iHYrpS73HbkANIEITO4QQhk8UuBEEQ6amsrITP50NRURHi8bjiNsVGIz6fTOKTkvvkDp9UECaRKvgSSC1byAWbXEyqId/+yPMNBoDn0+9EySEEgJ0dwOHI4mwIgiBODnIACYLQBFYGdjqdAN5s+LBarYf3G434/2TiD0gVfwmkd/TSNXvI3UA1t0++PRRuHxF/BoWPzOO+Q5MLSBCEjiEBSBCEJjAByMq/oVAIAGCxWNAE4GWOw3uRKurkJVo5UsGn1uwhR03cqTqFSmJPLgiVysEMEoAEQegYEoAEQWgCE4CGh8KJNX60eTwYAHApkUhbohWQKvjkReR0gk2+NlAt+kVxrZ98n/m4fwA1ghAEoWtIABIEoQlMAHZ1dQEA6uvr8Q8AfB9A5cNtpC6eXPDJHT65oJM3g0iRl3fVol9yioLJxv0DyAEkCELXkAAkCEITmADc398HAHwyHMb/BFAi2Ua63k/u8Mmz/uTr+6SorQ1M1zksvw2F20fI1v0DSAASBKFrSAASBKEJTABub2/jvwD4Vzs7KY+nE3xqzR9S4Sgv32YS7ZIOJXF55INRrRNYCSoBEwShY0gAEgShCY2NjTCZTKhMJMDhqIiTftgkkP7DR+7oSZFLsXRTQ4Cj7p58e/l5HPH1lNw/OUrl4NVV4OFkFIIgCL1BApAgCE0wmUxoaWlBA4B/jNQ1fenW8GXb/JEuB1C+jlCty1gpSDon9++4sOiFBfXnEgRBnAIkAAmC0Iz29nZMPfx/adlWXmaVZ/9JSbceTy4O07mMSvuSby8Xl0eknlqjx3HbMEFI6wAJgtApJAAJgtCM9vZ2BAFsmVILsekcPvlot3SOXrrmDaW1gfJgaC7N9kr7V230UNpGKghpHSBBEDqFBCBBEJrBGkEWS97s/Y0jVXjJRZrhmMeA9J3BcnGo5gbKfbpMomBUUesOJgeQIAidQgKQIAjNYAJwSNL8IHfd0uX5SbdVK/emcwPlgdNKM4OzjoJRKvWqZQOSA0gQhE4hAUgQhGYwATgmEUZyF0+KvGNXilzQyfcjlVpqY+LUOomV3L8jH47pSr3HbUMOIEEQOoUEIEEQmsEEIGsEickeTxcELZVOall/ctTcOzW3T61cnJHYU9pmcRFIqPUiEwRBnDwkAAmC0Ayn0wmXyyUKQKnQShcELR+9Jnfo0o2FU2r2kCKXX0rB0fIomCNSTi72Mp0MkkgAy8tH7ycIgjhlSAASBKEpHR0dWAYQQapQSyey0pWG1QSe/EMsXSOJ0uNysZeR+5fNXGAqAxMEoUNIABIEoSnt7e3gASwVF4v3ydfwyeVSutKwHOm2SkIynVhUchpVPwRzWfsnhRpBCILQISQACYLQFDEKxmwW70sn6uSPpevWVWv2UHXzVJCXnhVlXSaCUAo5gARB6BASgARBaAoTgPOSMOh0s33Tre+TC750H1jyMW5yd08pCkatfHxEAGbr/gHkABIEoUtIABIEoSlMAE48XCenJMSk/5+u2zfd3F+1KBe5LFOb6aH0fNUomEwgB5AgCB1CApAgCE1hAvD1/X0AR0WbvINXinx+cDYlXLnLKM8RlEe/yPedk/uXyTZzc7kJR4IgiALCCQJ9MhEEoR2JRAJmsxmWZBJ7ssdiAIqVnoTDcq+8+/e4fD/5Y/Lnqt1W259iFEw+rK0B9fVa7pEgCCIvyAEkCEJTTCYTWlpasA9gQ/ZYum5feUxMunBntbm/crGXTvzJjw0ozAHO1f1j0DpAgiB0BglAgiA0h5WBpyX3JZAqtNLNCJY3f8gFX7q1gUpBz1Lk4k4pCuaI+MykUJJuG1oHSBCEziABSBCE5jABuOl0ivfJR71lOiNYXo5VE4dqa/vUUGsmUYSiYAiCOGOQACQIQnOYAFyQhEHLGzykpGv+kG+brrlDKeolXfCzUqev2lxhRSgKhiCIMwYJQIIgNEcsAT90xtLNAZY7enIBls1YODU3UE4mUTKqq/8yWR9IDiBBEDqDBCBBEJrDBOBgOAwg9YMm3VpAOWpj4dJFv8jJxO1Tdf8yCYJW2oYcQIIgdAbFwBAEoTmBQADl5eUwAAgDKJE8Jo1kkTts6Uq28vKtWtSL0pxgeQZhutsZu3+ZfoR6vUBFRWbbEgRBFBhyAAmC0ByXywWn0wkewIzssXTlXylJpO/uVYt+kYs3NbdPvr8j4i9X949BZWCCIHQECUCCIDSH53m0tbUBABYljSAx2XZyMSh3A6VIG0XUxsLJhaX8tlI0TNbBz9nOBSYBSBCEjiABSBCEZgiCgEQigVgshtbWVgDAUmmp+Hi6Eq2cdE6hXPCpre2Tu4NqH3yKc4Tl4i4b9w+gdYAEQegKEoAEQWiCIAiIx+OIx+MQBEF0AF/d3QVwtKQrd/ukIi3dlBBAfaxbuk5h+eNKQdBqbqCQrfsHkANIEISuIAFIEETe8DyPaDSKRCIBjuPA8zxKSg5bP6bYNmmeny4KJtspIXJppnZbTkZRMDKxpyj95CKRHECCIHQECUCCIHKGlXyj0Sh4nofBYMD+/j5eeeUVVDzsePVXVgJIXcMnF3HyrL906/vSuXVKawPT3c4kGkapHKzqEAJHHUFyAAmC0BEUA0MQRE6wkm8y+aZntrKygunpabS1tYHjOPT09KC4uBhrsRgqJc+VCjF5/Io8zkWK2rby22pRL2r7VxJ7atE1wGGJmFP4aBX298HZbGnOgCAI4mRIt5SGIAhCkWQyiXg8Lrp+8Xgco6Oj2NvbQ29vL8rLyxGPx2E0GhGLxTAG4BH2XBwVWVLkawGlzmE2zR7yYGi1oGil/cvLz0piT1EgykvEDwVhcGgIhhs3YDKZYDQaYTQawWUySYQgCEJjqARMEETGMNcvFotBEAQYDAYEAgG8/PLLAID+/n6Ul5cDAIqKitDU1AQAmDO+KaOkJV215o904kvezJFJ1EvKz6LwuFp2YK4wQWhYWEAsFkMoFML+/j729vYQCoXE9ZNUkCEI4qQgB5AgiIzgeV50/Rhzc3NYWFjAhQsX0NzcfMTNamtrw+LiIlatVmBvD8DRtYDS2/Lmj+O6hpVQi36RP55JM4jW5WDj4iJMJpMo9HieRywWQzQaBcdxMBgMMJlM5BASBFFwSAASBJEWQRBSxJ/BYEA0GsXQ0BBisRju3buHsrIyxee2tbXhu9/9LtZsNmBv70hJN936PKWGDU7y/+meK18LKN+X2rHk56aEYjOIwmg4aTnY9+qr2J6dhdPphNPphMl0eJZSQRiNRhGLHUZmkyAkCKJQkAAkCOJYBEHA7u4u9vf3UVlZCYPBAI/Hg5GREVRXV6O3t1cUMUqwLMCFh5Ew6URYurWASgIu3YeXXMxlm/OXy1zgdGv/GC6fD2vxOKanpxGNRmG32+FyueByueBwOESRJwiC+E8uCIuKimA0GmEymWAwGEgQEgSREyQACYJQhLl+fr8fy8vLqKiowOTkJNbX13H58mXU19er7oMJwHmeRwxAseQxeYNFuikh6cSh3A1UcvOQ5vFMomDkKHb5qrh/AGBeX8elS5cAAJFIBIFAAIFAABMTE4jFYigrKxMFYVlZmaIgjEQiDw/HiYKQOYQkCAmCyBSKgSEIIgVBEJBMJpFIJMDzPDweD2ZmZkRxcePGDVgsloz29cYbb+DBgwcwGAwY4XlcPma7dNEvcsGWbfSLXEyqlYMzWvsnE4CZRsEIHIegxwMUF6fe/1DYMUEYCASQSCSOCEKDwSBuz/6xNZlra2uora2F1WolQUgQhCrkABIEISLP9uM4DoFAAKFQCK2trbhw4YIoQjKBOYA8z2MKEAWgWryLFHkwtHxbtegXuZOo5vaplYuVSr1yFMvBD+/jlpYgdHWlHoPjUFpaitLSUtTX10MQBITDYezs7CAQCGB1dRXJZBIOh0MUhHa7PcUhXFpaQnl5OYwPO645jhNLxSQICYKQQwKQIAgAR7P9kskkxsbG4PF4YDab0d3dnfU+mXO1t7eHScn92TRkFKV5TMn9k68dTDdWLpNmEDUybgZ5+F/D/DySMgF49OkcrFYrrFYrGhoaIAgCQqGQKAiXl5chCILYTOJyuSAIAoxGI4qKilLcwWg0ikgkAoPBcKSphAQhQZxfSAASxDmHjXNjOXQGgwF7e3sYGhpCaWkpLl++jNkc59hyHIf29na43W6sWa1AKKQ6jSOdwJMLtHRuIBSOo3Y7l5gXudg71v1j57ywcCSjUA2O42Cz2WCz2dDY2AhBEBAMBkVBuLS0dOiyTk2hsrISLpcLNpvtSMk4mUwimUweGztDgpAgzg8kAAniHMPzPBKJRErJd3FxEbOzs2hvb0d7ezsCgUBeAcVtbW1wu93YKCsDQqEjLpz0/+WlYbkUyWatX7ZrBZXcv1zEnhLS/RgWFlS3V90fx8Fut8Nut6OpqQmCIOC73/0uysrKEAgEsLCwAIPBILqDTqdTXBsIHC8IWcmY/ZfjOBKEBPEWhQQgQZxDpNl+giCA4zjE43GMjIxgf38ft2/fhsvlAnAoNvIVgAAOw6CRKvDkpCvXysWhnHRiUem2mthTFJgqnb+ZNIMY5uehNUykNTQ0oLS0FDzPY39/H4FAAB6PB7OzszAajeL6QafTCYvFckQQJhIJxONxUfjJ1xCSICSItw4kAAninKHU6OH3+zE8PAyXy4UHDx6gqOhNqcVxXMr0j2xhAjDAcfAAqJKeC94UTErdudLb2cz1VevsTRcyrXQ8pW0ydv/kawE1cACPPdZDcWYwGOBwOOBwONDa2gqe57G3t4dAIICtrS3MzMzAZDKlCMLS0tKMBCHLIWQlY4IgziYkAAniHMFcv2QyCYPBAEEQMDMzg6WlJXR3d6OxsfGIw8O2y5XW1lYAQCgUwgzeFIBq8SxSt09J0KVbGygXc2qeVSbu3xGpk4P7BwCGxUUgmQSMammDmaP2/rBysNPpRFtbG5LJpCgINzY2MDU1heLiYlEQulwumM3mI2sISRASxFsHEoAEcQ6QZ/sZDAZEIhEMDQ0hkUjg/v37sNvtis/N1wFsb28HAHi9XowD6H94v3wOcLr1empB0FLZIReDareVkD+eifunJDIVm0FiMXDr6xCamlTOInOYAMy0PCstBwOHHeC7u7sIBAJYW1vD5OQkSkpKUgRhSUnJsYIQUB5bR4KQIPQLCUCCeIsjL/kaDAZsbW1hdHQUdXV16O7uFrPjlMh3DWBTUxMMBgNisRimJPdLxV+65g8B6aeEyN1A+Zlmclu+P7VsQKWYFzmK00LY/ubnkTxFASjHaDSivLwc5eXlAIBEIiEKwpWVFYyPj8NisYhNJS6XC8XFxUcEYTweRywWEx1CEoQEoV9IABLEWxie5xGLxUTXj+d5TExMYGNjA1euXEFtba3qPvItARcXF6OxsRHLy8uYMRgAnj8i+NSy+qQfVOmaPZSCoNXWDsr3J5comTSDKJV/VaNgHnkEWqNVg4bJZEJFRQUqKioAAPF4HDs7O9jZ2cHS0hLGxsZgtVrF9YMulwtFRUUpgpAtN4jH49ja2oLFYkF5efmRLmOCIE4HEoAE8RaElXxZl6/BYEAoFILb7YbJZEJ/f3/G49yYA8i6hXOhra0Ny8vLGH9YSlYbxXZc84cctSBotWDoTKJgVOcCI7O1f1I4jTuBCz3Rs6ioCFVVVaiqOlzBGY/HEQgEsLOzg4WFBYyOjsJms4mC0Ol0pjQSeb1elJeXw263KzqE0i5jgiBOBhKABPEWQynbb3V1FZOTk2hpaUFnZ2dWpTh2Uc5VAO7uAvF4O4CXsFVqR/xg/8h0D6nIkj6mtBYwJVNPdiy16Be1IGg5mcwFVpz6oTADOCUKRuNO4HxLwNlSVFSE6upqVFdXAwBisZgoCOfm5hAOh2G328VycTKZFF0/dr7MIWSC0GAwHGkqIUFIEIWDBCBBvEVQyvZLJBIYGxtDIBDArVu3xJJeNkjLetmyvw/86q+aMDraAQAIxxswh0lIh8qlE3zpsvqUYmPSuXtqa/1ydv9UxB4UtilEFiBwcgJQTnFxMWpqalBTUwMAiEajCAQCCAQCmJqaQiQSQTQaxcHBAVwuFxwOh7julP1eKQlC+RpCEoQEoR0kAAniLYB0nBtwKAR2d3cxNDQEq9WK/v5+lJSU5LRvqQOYLX/7twa43RzKy9uxtwcAUUwBogCUC750Ak9tLJzaWj61x+Xk4v5lKggNs7OHz9NI0BS6BJwtJSUlqK2tFdeYvv766ygrK0M0GsXExARisRjKyspEh7CsrExREMZisWPH1pEgJIj8IAFIEGecZDKJg4MD8SLJcRwWFhYwNzeHzs5OtLa25nWhZM/NJQrmUPRxsFrbH+5jF5MA3sf2LdlWXgqWC7R05V41N1COUhC0mvunOCdYZTIIFLYRAHAHB+C8XghVVdCCky4B54LL5UJ1dTUEQUAkEhEdwvX1dSQSiYwFYSwWA6AcO6Pnn58g9AYJQII4o7BGj2g0im9/+9v46Z/+aSSTSQwPDyMcDuPu3btwOBx5HyefEvD16wJKSwXs7TEB6BejYJQaMo5z5dTcQPmZyWWAWvafWnOIIjm6f+LT5+c1E4BvnpI+BRBrRAIOz7G0tBSlpaWor6+HIAgIh8PY2dlBIBDA6uoqkskkHA6HKAjtdnuKIGT/otEoCUKCyBESgARxBpFm+7GLnM/nw+TkJCoqKnDz5k1xwX2+5OMA3r0r4DOfSeKLXyzH2loZeH5PFIBywSddC6g2JSRdM4da8HMmbl8uQdAZu3/sGPPz4O/dgxborQQsh+f5Y8UYx3GwWq2wWq1oaGiAIAgIhUKiIFxeXoYgCGJ3MROErGlELgilJeOioiJREDJ3nCCIQ0gAEsQZQ57txxgbG8OlS5fQ0NCg6YWORXbkKjJ++Zd5/MzP7OLtb6/G4uIe1u12YH8/bRC03JGTR7tIH0u3jhA46g7mEgWT09o/pedJ0LIRRO8lYKkDqAbHcbDZbLDZbGhsbIQgCAgGg2KX8dLSEgCkCEKbzaYoCCORiLhPEoQEkQoJQII4Iyhl+x0cHGBoaAgAcP36dTGWQ2vyEYCrq6uYmJhAZ2crFhdnIZSXw7u/j0rJNumy+uTiUE66tXpKwc9qtzOZC5yR+yfbz5EIGw2jYPLJaDwJ0jmAanAcB7vdDrvdjubmZgiCgP39fXEN4cLCgjjrmOUQWq1WVUHIYmlIEBLnFRKABHEGUBrntrm5ibGxMdTX1yMUCqG0tLRgx89lHnAikcD4+Dg8Hg9u3ryJq1ev4sUXX8Te3mEZmAlApXiW48q9ckGXSbNHOrcwk05f+f4zKgdngNZRMHoWL9k4gGpwHIeysjKUlZWhpaUFPM+LgtDj8WB2djZl1rHT6YTFYjkiCHmeFwXh7u4uzGYzHA4HCULi3EACkCB0DnP9WMk3mUxicnISW1tbuHr1KmpqarC5uZnTGr1MyXYcXDAYhNvtRlFRER48eACz2Yy2tjYAOMyGA/Dg4bbyS6zU7VPK9lMr90rvk4s3+QeeWqlXSSDmNBcYHDhZMZrT2AHUM4V0KA0GAxwOBxwOB1pbW8HzPPb29hAIBLC1tYWZmRmYTKYUQVhaWpoiCNfW1uByuWA2mxGJRGAwGI40lZAgJN5qkAAkCJ0iz/YzGAyisCouLkZ/f7/o+rE5v4UimxLw2toaxsfHj0wdYQKwtLQUkwcHis9V6+5NF/0iF39qbl8mnb7auX9HtzH4fIdjUjTo1H4rl4CzhZWDnU4n2trakEwmRUG4sbGBqakpFBcXi4LQ5XKB53lR7DGHMJlMil320jWE0jnGen7NCUINEoAEoUPYVASpqFtZWcHU1BRaW1vR0dGRUlI7CQGotv9kMomJiQlsbW3hxo0b4txYBhOAPM+ndAJLRZZcXEk/oNTEoZr7p+b2qU0KUdpHRu6fQhQMu8+wsAD+xo20z88UPYsRLUvA2SItBwOHv6e7u7sIBAJYW1vD5OSk+AXHYDDA5XKhpKQkJf6ICcJEIiEKP/kaQhKExFmDBCBB6AjpODdW8o3H4xgbG8POzg56e3tRXl5+5Hmn7QAyZ9JkMqU4k1Kam5vBcRyi0agoAKUordeTloPTRbeoRb+odfoqrf2THy+TZhCl/Sg5hOw+rQSg3kvAJ+kAqmE0GlFeXi7+HSUSCbz++uswmUxYWVnB+Pg4LBaLWC52uVwoLi4+IggTiQTi8XiKIJTOMT4twUsQmUICkCB0glKjx87ODoaGhmC32/HgwQMUFxcrPrfQAjDdGsD19XWMjY2hubkZXV1dx174iouL0djYiJWVFSwbjUgkk0dKtNJnpiv3ylESdFLUpIdcfOY8F1h+Xxr3D9CuEUTPJWD2e6NXQWQymWAwGFBfX4/KykrE43Hs7OyIkTNjY2OwWq0pgrCoqIgEIXHmIQFIEDqAuX7JZFK8UMzPz2N+fh5dXV1oaWlJe4HPJ6YlE5RKwKwZZXNzM+MImra2NqysrKCsshLzW1u4IHlM6vapzf2Viy15aVjN7ct27FsmjmHGQdCS+7RsBNGrAGS/N3o9P+Dwd5lNGikqKkJVVZW4hCEej4sZhAsLCxgdHYXNZhMFodPpTCsIAeUpJSQIidOGBCBBnCLStUWs5BuNRjE8PIxIJIJ79+6hrKxMdT8nXQIOhUJwu90wGAzHlnyVaGtrw/e//33YbDZMSgSgWpizXOCpNXukWysoJ5MgaLVLdbZj4MRtZmY0ce/0XALWuwMI4EioupSioiJUV1eLX3BisZiYQTg3N4dwOAy73S6uM2RRMnJBGI/HEYvFRIeQBCFx2pAAJIhTQqnk6/F4MDIygqqqKty6dSvjcW4nWQLe2NjA2NgYGhsbceHChawuXO3thzOBjUZjyjrAdOHNalNC1KJe1Nw9tdJuJlmB2Y6BE+8bH8ePfvSjlI7UXPIcz0IJWK/nB6QXgHKKi4tRU1ODmpoaAEA0GhUF4dTUFKLR6BFBKBV40nW+zCGUC0LWZUwQhYQEIEGcAvJsP0EQMDk5idXVVfT09KC+vj6r/Z2EA8iCndfX18X8wWxhncCxWEwUgGrNH+nKu2pj4eS35WTi/qkJyFzdPwAw7+7iSkcH/AcHYkRJSUkJysvLRQFx3LrPlOPpWACehRJwNgJQTklJCWpra1FbWwsAiEQioiCcmJhALBZDWVmZ+H6WlZWJ5WYgVRAqOYTSLmOC0BISgARxgkiz/VjsRDgcFse59ff3w2q1Zr3fQgtAQRAwOzsr5g9aLJac9sME4ObmZkoUzHHNH0rl3mzGwql9wKld8jPJCszZ/Xt4X/nuLpzd3QAOO1J3dnYQCATEBgS23oytOTvOFdarQNC7A8gEmFYlWLPZjLq6OtTV1UEQBBwcHIjv6fr6OhKJRNaCkJ1bSUkJCUJCM0gAEsQJwfM8EolESslXWk69ePFizhehXEa1Zcrm5ib29/dRXl6O3t7evC6UTABGIhFRAKZz7NJNCZE7h2pBz2pRMZk0hyg2g+To/rGfjZufBx4KQJPJhMrKSlRWHg7Kk643m5mZQSQSSREPDocj6yktJw2LgNGrYGGvnVSEaQXHcbBYLLBYLKivr4cgCAiHw6IgXF1dRTKZhMPhEN9Tu92uKAh//OMf4+LFi3A6nTAYDPje974Hg8GA9773vZqfN3E+IAFIEAVG+o2eleqSyaQ4J1cpNDlbCiECeJ7H1NQU1tbWYLVaUVtbm7dLUlFRAZvNhmAwCA8APwBpqmE6iaDWGSxHLfhZjlZB0Bm5f7IomOQx5yRfb3ZwcCAKQuYmORwOmM1m8Dyvy1LwaYZAZwL74nQS58hxHKxWK6xWKxoaGiAIAkKhkNhlvLy8DEEQxO5iqSDkeR7FxcXi///1X/81ysrKSAASOaPfv0qCeAsgCAKCwSD29vbEi/P+/j5efvllRCIRPHjwIG/xB2hfAg6Hw3j11VcRCATELl8tBCbHcWIjiN1uT2kEUXL0Up4ruy0Xg+kaNZKy25m4f0pB0FKOc//kKMkx6fOyyQIsLS1FfX09enp68ODBA9y+fRuVlZUIhUKIRqP4wQ9+gJGREayuriIUCunCGdRTCLQSUkf+pOE4DjabDU1NTbh69Sre9ra34datW3C5XNjd3YXb7cYPfvADDA8PI5FIIBqNAjh0K8PhcE7LRRjf//738d73vhf19fXgOA7/5//8n5THBUHAE088gfr6epSWluId73gHxsbGUraJRqP49V//dVRWVsJqteLv/b2/h9XV1ZzPiThZSAASRIHgeR6xWAzz8/NYWFgAx3FYWlrCq6++ioaGBty5cwdms1mTY2kpALe2tvDyyy/D4XDg3r17sFgsmuYMsjKw0+lUnAjCkAs2ebMHZI8f91yl2/KfRP58JdcukwJhJqVfuUg05JgFKBUPra2tsFqtuH79Oux2OzweD15//XW8/PLLGB8fx8bGBiKRSE7HyZez4gDqQaRyHAe73Y7m5mZcu3YNb3vb23Djxg04HA4IgoCxsTF84QtfwHvf+154PB4Eg8Gc/y5DoRCuX7+OZ555RvHxL3zhC/jiF7+IZ555Bq+//jpqa2vx6KOPYn9/X9zm8ccfx1/+5V/iz/7sz/DDH/4QwWAQ73nPe0RRTegbKgEThMbIs/2MRiMikQgGBgawv7+P27dvi3NJtUILASgt+fb09KCurk58TMs1hkwAms3mFAGYzeg2uZxI90Gm5PbJxZxap28mUTAZ5f7hqEjMVQCm7Pehu+xwOOBwONDa2npk5u3ExIQ44oz9KypK11KjDXosS0thDSB6PEeO41BWVgaLxYK5uTn09/fD6XRif38ff/M3f4OXXnoJzz33HN7xjnfgsccew6/+6q9mvO93v/vdePe73634mCAIePrpp/GZz3wG73//+wEAX/va11BTU4PnnnsOH/3oR7G7u4s//uM/xn//7/8d73rXuwAAX//619HU1IQXX3wRf+fv/J38XwCioJAAJAgNUcr2i0aj2N7eRlVVFR48eFCQiy5bV5grBwcHcLvd4HkefX19R0pLhXAABUE41gGUH0ke9Jwu+kUuzpTcvnTNIkrIH89k5q9iXqAC3PIykEgAGWY+KqEkspRm3rL1g2yihTSvzul0FqQRQu8lYC07gAsF+9s2mUy4ceMGbty4gddeew2f/vSn0d3dje9+97sYHBzU7HgLCwvY3NzEY489Jt5XUlKCRx55BC+//DI++tGP4o033kA8Hk/Zpr6+HleuXMHLL79MAvAMQAKQIDSClXyl2X6zs7NYW1uDzWbDjRs3CnYhzMcB3N7exsjICGpra9Hd3a0oArRsMmECMBwOY/LhfVKxJCC7LL9sg57VbufSDKLk/h0X+3LkvkQCf/r5TfCtrXj725NoacntdVb73TKZTCkjzpQCjKXdqGVlZZoIo7NQAi6E8NWSZDKZEgcDHP79OJ1OvO1tb8Pb3vY2TY+3ubkJAEeyPmtqarC0tCRuU1xcfKSaUVNTIz6f0DckAAkiT1jJl3X5GgwGRCIRDA8PIxaLoa2tDfv7+wV1QXIRaDzPY2ZmBsvLy6rh01qWgFtbDwWg1+uHF8rxLdIPpnTl22yDoJXGxqmVdtWiYIDc3T/G/uA8Xl/swMyMAR/7WBy1tdm9l7mIc2mAMcurY4JwdXUVPM+Lnagulws2my2n32G9O4DS+dt6RTqrGIDYPWyz2Qp6XPn7lkk5X+8lf+JNSAASRB4oZfttb29jdHQUNTU16O3txdbWFnZ2dgp6Htk6gAcHBxgaGkIikUBfX5/qhUQrB5DngeefbwXAIRY7bEpYANAp2UZN4EkL6Gq5ffIPOPntI04ecnD/oFAOzmAbqWt4uWQeocsCxsYMmJgwoLY2u3J+vhddaV4diycJBoMpJWODwXBkZF0mxzwLDqCezw84KgABIBgMwm63F+R4bKrJ5uZmylrg7e1t0RWsra0VcyqlLuD29jb6+/sLcl6Etuj7t54gdApz/WKxmFieEQQBExMTGBkZweXLl3HlyhVxKHwhp3QA2QlAj8eDl19+GTabLSPxB2i3BvCllzj8r/9lQUlJA9tzyjrABNKv35MLuHRRL3IJpXRbfqxMgqClHCfsMkHqGpb75w7vOxormBFauy7SbtTr16/jbW97G65evQqr1YqtrS28+uqreOWVVzAxMYHNzU0xnkQJvTuAZ1UAhsPhgjmAbW1tqK2txQsvvCDeF4vF8NJLL4nirre3F0VFRSnbbGxsYHR0lATgGYEcQILIEuk4N+DwYhkKhTA0NASDwXBkVBoLbi0kmQhAacn38uXLaGhoSLu9FK1KwMvLHBIJoKysDR7PKgABkwB+jh1Htn26cq0aaq6c/JKfSXNIJjIhk8kg8vvMK7OYmOBQV8eju7uwvyu5YDAYxHDitrY2JJNJcZrFysoKxsfHYbVaUxxCNrKOHMD8Oa4EnE8OYDAYxOzsrHh7YWEBbrcb5eXlaG5uxuOPP44nn3wSXV1d6OrqwpNPPgmLxYIPfOADAACHw4Ff/dVfxb/6V/8KFRUVKC8vx7/+1/8aV69eFbuCCX1DApAgsoBN9GCuH8dxYsRGc3Mzurq6jlxMDAZDwXOx1ARaJBLB0NAQ4vF4xq6fFK1+hoqKQ5fLbO4A8AMYDDZM8UEAR9f3xZF+7q8U+XPl6/TU1vopRcMoBUHnFAWjYOnJt2k6mMaDB0k88kgS9fXZW4Anve7KaDSioqICFRUVAIB4PC6Wi+fm5nBwcCB2GBf6y0++nEUBeHBwAJ7n8yoB/+QnP8FP//RPi7c/+clPAgA+/OEP46tf/So+9alP4eDgAB/72McQCARw7949PP/88ynH/L3f+z2YTCb84i/+Ig4ODvDOd74TX/3qV3XfVEMcQgKQIDJAnu3HBNHY2Bh8Ph9u3rwpzm+Vc1Il4ONKtF6vF8PDw6isrERvb6/ozGSDViXgd72Lx49+xOF//s/DaSDFxbWYihy6EPL1fXJBpzb3Vx4Fkw65VJLvX6nRQ63bGMjQ/VN4bkV4FR/5lfihOs6B0154X1RUhOrqalRXVwM4/MLBBKHX60UikcDg4CBcLhfKy8tht9t1UxY+K13A0nMMhUIAkFcJ+B3veEfav2mO4/DEE0/giSeeOHYbs9mM3//938fv//7v53wexOlBApAgVFDK9tvb24Pb7YbFYsGDBw9QUlJy7PNPqwTMYmgWFxdx6dIlNDY25rx/rUrAZjPw2c8mYTI14D/+R8BuD2Hq4YCKbMq96UrFcjdPyd2Toybu1OYOA8dEwWQyFxgAd3AAbnMTgmTBfbboRVABh8Kgrq4OdXV1WFlZgcfjQVVVFQKBAJaXlwEgpcPYarWe2vmfhS5guUgNhUIwGAwoLS09xbMizjokAAkiDfJsPwBYXFzE7OwsOjo60NbWpnrhOokSsFwAshiaaDSK+/fv590tqGUOYDDoR13dLgAgmYzCA2CX4+BIs/905VylaJd0c4LVysNKYk9pvaBqFEwGk0FSjjE/j2SOAlAPM3+PQxAEFBUVobGxEY2NjRAEAfv7+6I7ODc3B5PJdKTD+KQ4CyXgRCJxRACepmgm3hqQACQIBZSy/WKxGEZGRhAKhXDnzh04nc6M9nXSXcA+nw9DQ0OorKzErVu3cir5ytGiBCwIgiieWZeg3+8HAMxwHG4/3L+aYyc/C7XoF7W1fWruYM5B0Jm6f2z7hQXgwQOVs1HmtEvA6ZA3gbDxZmVlZWhpaQHP8+LIuo2NDUxNTcFsNqcIwuLi4oKd31kQgHIHMBgMkgAk8oYEIEHIUCr5+nw+jIyMwOVyob+/P6txbkycFfIizVzG2dlZLCwsoLu7G42NjZodL98ScDwex+joKHZ3d3H37l2UlZXBarWKa5nGeR63H24rXwuYbkqImhsod+rUgqAzWfunJAgzcf/U3gnD/LzKFunRqxhQi4GR5gsCh24X6zBeWlrC2NgYbDZbysg6Lb7USM9P7wIwmUym/MzhcDivDmCCAEgAEkQKzPWTjnObmZnB0tJSzqKKfXMv5GLzRCKBaDSK9fV1TUq+cvJxAPf39zE4OAiLxYL+/n7RzWlra8Po6CjMZjOmIhFx+3RzfeXlXTlqTp1aELScTCaDZOL+Ke5b9rx8BKDeS8DZCCyTyYTKykqxqYqFDQcCAUxPTyMajaKsrEwUhA6HIy8Bx/O8poKyECSTyZR1xqFQCBaLRbeinzgb6Pu3niBOCHm2n8FgEKdlJJPJnKJTGOziVCgByNxJjuPQ399fkItZrmsA19fXMTY2htbWVnR2dqZcsNrb2zE6OoqysjJMPhSASuvzpD9NNp3BcpQ6h+XNIkfW9ansA8i981e+jWFhQfnEM0DPJeB8g6CLi4tRU1MjTqCQjqxbW1tDMpkUG0rKy8uzHlmXTCYLWmLWAnkXcDAYLPgYOOKtDwlA4tzDsv1YiZPjOGxtbWF0dBR1dXXo7u7OS7gxAZhMJrMqHashCALm5+cxPz+P1tZWLC4uFszJyLYEzPM8JicnsbGxgRs3bqCqqurINm1thzOBd3Z2xGkg6Rw7tfKuHLnoUguGlgtKJbSaC6wkEt+qAlDrIOjS0lKUlpaivr5eDERmgnBxcREcx4nuYHl5uerIurNSApY3gZAAJPKFBCBxbhEEIUX8sbV6ExMT2NjYwJUrV8SZmPlgMBg0i1FhxGIxDA0N4eDgAPfu3YPRaMRCHgJCjWwcwIODA7jdbgiCgL6+vpSpKFKYAIzFYpjFUTElD4LONvpFur1835ms9ctpLnCGnb9K23A7O4DfD5SXqz5fcZ/nRABK4TgONpsNNpsNTU1N4Hle7DDe3t7GzMwMiouLUwShPLLprAhA6TnmOwWEIAASgMQ5hTV6DA8Po62tDVarFcFgEENDQzCZTHjw4IGmURRadgL7/X4MDQ3B5XLh5s2bMJlM4mSAQjlBma4B9Hq9GBoaQk1NDS5dupTWOWUC0G63Y39/H4sA2iWPpyv3Zhv9Ikf+k2Qy5aOQ7h/bzjA/Dz4HAajnNYAnGbRsMBjgcDjgcDjQ2tqKZDIpdhivrq5iYmICFotFFINOp/PMCECpu08CkNACEoDEuUM6zs3n86G+vh5+vx9TU1NoaWlBZ2en5hcELbIABUHAwsIC5ubmcOHCBTQ3N4tij51vIQVgOgErLUdnGjotdQABYKGkBO3RKADl9XrSdyRdqVhtLJxSzIwmUTBQLzMLSC8SDQsL4G/fRracpxJwNhiNRpSXl6O8vBwdHR2Ix+Nih/Hc3BzC4TCMRiM4jkNpaSkcDocup4IoOYBUAibyhQQgcW5QGudmMBgwMzODg4MD3Lp1S5xtqjX5TgNhGYTBYBB3796Fw+FIeZxd/AvlZqQrATMnNRQK4d69eygrK8ton0zARh+KvrFEAu98+Jj8SNJSsJKgS9cprFT+TdcMkkl5WNH9k91WLAdznOJsYEY+ncB6FYD5NoFoSVFREaqqqsQ1qdFoFG+88QaSySQmJiYQi8XgcDhSRtbpwR2UO4DBYBDlOS4VIAgGCUDiXKCU7bezs4ODgwOx5FvITsB8SsCBQABDQ0NwOBzHZhBKHcBCcFwJeHd3F263GzabDX19fVk1uSSTZjgcDdjZWQXAYfzheyPP+pOXe+VnkW5toNLtQrh/Sig6fSolYsP0dAZ7Pgo5gLlRUlICk8mE5uZmVFRUiB3Gfr8fq6ur4HkeTqcT5eXlpzqyTu4AHhwckANI5A0JQOItjzzbD4BYrjSbzWhpaSl4DEQuAlA6OaOrqwstLS3HXnykUTOFQKkEzNZUZToST86f/qkBh6v+VmEyuTCZOJwKIg+CVivfSpGLRbXgZ7kAU4qCySQIWk62Y+AY3Opq1s8B9L8GUK/iFHhTXHEcB4vFAovFgoaGBgiCgGAwKArC+fl5MbSaCcKTGFnHKhfyGJjjmqsIIlNIABJvWaTZfsyFiEajGBkZwcHBAe7evYuZmZmCj2kDDkvA2awBZCXf/f39jMbOSUvAhUBaAk4mkxgfH4fH48m5bJ5MAq+9ZoDD0Yqdne+jpMSKqYcCUG3SR7pycLZj4dKNZlPav9I+Msn4UxsDx8i1BEwOYO4ct2yC4zjY7XbY7XY0NzeD53ns7e2ljKwrKSlJ6TAuxBdJ9jdNMTCE1pAAJN6S8DyPRCKRUvL1er0YGRlBRUWF2D2brTDLlWwcwJ2dHbjdbpSVleHBgwcZlVU5jivozGFWAg6Hw3C73TAYDOjv74fZbM5pfwYDUFIioKSk/eH+TdgEsM9xsEvEk9zXkpeC5aHR6db2qTl3mQRBq60/BLKIglG4z7C1hZEf/xjOhgaUl5dnNe1BrwJQ7w5gputmDQYDnE4nnE4n2trakEgkxA7j5eVljI+Pw2q1pnQYa5HLyT6fpAIwHA6TACTyhgQg8ZZCmu3HXBFBEDA1NYWVlRVcvnwZ9fX1Kd2zehGAgiBgaWkJMzMz6OzsRGtra1YXTq2zBuX7jsfjePnll1FfX4/u7u68XB2OA973Ph5vvHEoAGOxwwks80XFuB6Litula+ZQGwuXSfBzuuYQJfcvo87fDCaDKMG2q97fx4bPh7m5OZhMJrGL1eVyHcmwE5+rcwdQr+cG5B5TYzKZUFFRITrg8XhcDKSemZlBJBKB3W4XBWFZWVlOx5F+iWVQDAyhBSQAibcM8kYPjuPEcW48zyuOczspB1DtOPF4HCMjI9jb28Pt27fhcrmyPkau49rUEAQBq6urSCQSuHbtGurr6zXZ76OPClhZacHHPw7EYisAgAk+iesPH5cHQecT/ZJLp6/aGDglx1BR7GX4nrDnNUQiqLlxIyXDbmVlRXSYmCB0Op2ioNBzmVXP5wZo1zlfVFSE6upqVFdXAwAikYi4fnBsbAyJROJIh3Emwpit/2PbsuknWs/7Js4fJACJtwTSbD+2oHt9fR3j4+NoaGjAxYsXFT/k9VAClnbS9vf357yOqBAlYDZxJBwOw2QyaSb+gEMX8D3vacXHP/7mfaMPZzED2TV7yN1AueRScu6k5CIQc3X/1NYDcg/XAcoz7GKxmCgopqamEI1G4XA4UF5ejlgsdiINCbmg5xIwC08vhEA1m82oq6tDXV2duHyCvX/Ly8sAkNJhfFy5X8mhpDWAhBaQACTONErZfizTa3t7G9euXRO/kSthNBoRj8cLfp5K4izfkm8mx8gHthbR4XDg2rVr+MlPfqLZvhnV1dUoLS3FwcEBAIgzgdW6dbNxA5U6fdWiYDJq2JBvoyD2cmkGOW4mcHFxMWpqalBTUwNBEHBwcAC/349AIACv1ys63kw06kUQ6tkBZH8vhT4/juNgtVphtVrR2NgIQRCwv78Pv98Pj8eD2dlZmEymlA5jtr42kUgcEYC0BpDQAhKAxJlFKdtvf38fQ0NDKC4uxoMHD1SbFIxGIyKRSMHPVe40xuNxjI6OYmdnJ+eSrxytBKAgCFhZWcHU1JQYPxMOhwtSXuY4Do2NjZiZmUFJSQkmH4ZCp8v6U+oMTucGKq39yzYIWm39IJD72j85xwnAlGNJIksaGxsxPj4OjuNgNpuxtbWF6elplJSUpKwfzCajUUv07gAChReAcjiOQ1lZGcrKysSRdXt7e/D7/VhbW8Pk5CTMZjPKy8thNBpTzo/neU3XACYSCTzxxBP40z/9U2xubqKurg6/8iu/gn/37/5dSr7oZz/7WTz77LMIBAK4d+8evvSlL6Gnp0eTcyBOBxKAxJmE53nEYrGU9TvLy8uYnp5GW1sbOjo6MrronEYJmJV8rVarpgHUWgjARCKBsbEx+P1+9Pb2itMGMp0FnAtNTU2YmZlBeXk5Zjc2wCP1g0m+FlB+FmrRL3KyDYJWQi4Xcp4LrHBfrlEwZrMZbW1tYofqzs4O/H4/FhYWMDo6CrvdLgpCh8NxYqKHHEB1jEajGCcDIOX929raQjQaxWuvvYZXXnkFVVVVKCoq0mwN4FNPPYU//MM/xNe+9jX09PTgJz/5CT7ykY/A4XDgE5/4BADgC1/4Ar74xS/iq1/9Ki5cuIDPfe5zePTRRzE1NUVrEc8wJACJMwUr+bIuX4PBILppe3t7KaIlE06yCziRSGB5eRlTU1Nob29He3u7ps5Ivl3AoVAIg4ODKCoqQn9/f0rHKROAhejobGpqAgCUlpZiA8C6wYBGyc8hL+eq5QTKy8Fcmsczcf/kKEXBZNIdnCncygoQiwF5fDEwmUyorKxEZWUlgMORZ36/P6UhQZpfV8gJF3p3ANmaYT0hff9sNhs2NzdRX1+P//bf/hueeeYZxONx/MIv/AIeffRRvPOd78S9e/dy/iL5yiuv4H3vex9+7ud+DgDQ2tqK//E//oe45EMQBDz99NP4zGc+g/e///0AgK997WuoqanBc889h49+9KPa/NDEiaPPr2UEoQBr9GBr9gwGAwKBAF5++WUAQH9/f9bzMU/KAeQ4Dl6vF3Nzc+jt7c3YocyGfLqANzc3RXfhzp07R+JGCjlqjglAxpzk2Ekc7eZNh9paPvk3XrUPQKWfVq2hROm4x+YFKt3H8+CWllTOTPY8FWFeUlKCuro69PT04MGDB+Kyg0AggJ/85Cf40Y9+hLGxMWxsbIizmbVC7w6gXs+NkUwmUVRUhNraWjzzzDP41re+BZPJhA9/+MOYmprC3//7fx9f/vKXc97/T/3UT+Hb3/42ph+OIRwaGsIPf/hD/OzP/iwAYGFhAZubm3jsscfE55SUlOCRRx4RP3uJswk5gITuUcr2A4C5uTksLCzgwoULaG5uzklQnYQA3Nvbw8rKCjiOw4MHD47NcsuXXErAPM9jenoaq6uruHLlCmpraxW3k0ZQaE1zczMAiGsxF4qK8MjDppB05V55M0e2QdCZxLrkFAWj8DwllNYHsvsMCwtIdnVlsJeHx8zCmeU4DjabDTabTZxwsbu7K86/nZiYEONmXC5X3oHGes4BlM/Y1SNKY+BKS0vxT/7JP8E//af/FIIgIBaL5bz/T3/609jd3UV3d7f4efg7v/M7+If/8B8COPxyCAA1NTUpz6upqcFSll9UCH1BApDQNdJxbsDhxSsajWJoaAixWAz37t1DWVlZzvs3Go0FC0+WNlO4XC4YDIaCiT8gewEYjUbhdrsRj8fR19eXdlG5dNZwLmG26WACMBAIAACmJGIhXblW3uyhJt7UHtdsDJx8G6UoGJV4GMP8vKrbKSdXkcXm27pcLnR0dIiBxn6/H9PT02LcjDTQOJtjnYUSsJ5REoDSDmCO4/L6XPnzP/9zfP3rX8dzzz2Hnp4euN1uPP7446ivr8eHP/zhlONI0bOwJzKDBCChW5jrJ12ovb29jZGREVRXV6O3tzfvUUuFcgBZM4XP58OtW7cQCoWwvb2t+XGkZCMA/X4/hoaGUF5entHrWEgHsLGxEQDEKJjBcBjA0fV66cq5auJN7XauY+AykQ7pnL7jjmeYm8tgz5Jz0fB9kQcas7gZv9+PlZXDwG7p+sHS0tK0QoBKwPkhF4DhcFjTKSD/5t/8G/zbf/tv8cu//MsAgKtXr2JpaQmf//zn8eEPf1isCrAOYcb29vYRV5A4W5AAJHSHUrafIAiYmJjA2tqaOM5NCwohAPf39zE4OAiz2SyWfCORSMGcRka24+YuXryIpqamjL7FF1IAms1mVFRUwOfzAQBG2BpPyTZy8aUmDrM9S7VSr/x82DHUXrlc3D8AMCwuquxZdpwCujGlpaVoaGhAQ0NDSn7d9va2GN/DysXl5eVH4mb07gBq7WhrTTKZTPmCFgqFspoRrUY4HD4igqWVkba2NtTW1uKFF17AzZs3ARwGxL/00kt46qmnNDkH4nQgAUjoCkEQEAwGsbKygra2NhgMBoTDYQwNDQE4bPSwWCyaHU9LASgIAtbW1jAxMYHW1lZ0dnae6MxhtS7gRCKBkZER7O7u4s6dO3A6nVntG4DmIjYej2NpaQnV1dWiAFwHsA9AGi4hF4DpPBu1sXCZOHfyx3Nd+6co9DKIh+EyyAKUcxIiSym/jsWVLC4uYmxsTIybcblccDgcAE4/ZuU4zsoaQKkAlJeA8+W9730vfud3fgfNzc3o6enB4OAgvvjFL+If/+N/DODwPX/88cfx5JNPoqurC11dXXjyySdhsVjwgQ98QLPzIE4eEoCEbmDZfpFIBHNzc+jo6MDa2hrGx8fR1NSECxcuaP5hzYRZvg5KIpHA+Pg4vF4vbt68KcZvMAq51pCRrgt4f38fbrcbZrM5p3FzHMdpngUYDAYxMDAAo9GIpqYmTExMoLGxEaurq5jmOPRKjpVNdIvaWDh5ELQWa/+O7fLN4PVS+q0zLC4CySSQoTtVqIxGNYxGIyoqKlBRUQHgcF0pWz84Pj4urt1dW1tDVVUVbDabrtzAs1IClp6j1iXg3//938dv/dZv4WMf+xi2t7dRX1+Pj370o/j3//7fi9t86lOfwsHBAT72sY+JQdDPP/88ZQCecUgAErohmUyC53kUFRWB53kMDQ3B5/Phxo0bqKqqKsgxWfknn1IQE1fFxcXo7+9XnD5SiDm9mR5jfX0dY2NjR1zJbMk3Z1DK5uYmRkZG0NraCpvNJpb0mTBdNpvR+3BNoFq5Vy3qJduxb3I0df9UjiVuF4uBW1+HIIvIOfY5OlmQX1JSgtraWtTW1kIQBOzt7eGNN94QO+ENBkPKdBK1ST2F5qwIwHRNIPlit9vx9NNP4+mnnz52G47j8MQTT+CJJ57Q7LjE6UMCkNANHMeJJV/g0E04TlBpBftglX/IZgpzKFtaWtDZ2XnsxeQ0BCDP85icnMT6+jquX7+ediZyJmjhAAqCgJmZGSwvL+PatWuoqanB1taWuNCcOUaLZjPwUACmK9+qBUGr3c4kCDoT9y+TucDZYpifR/KMCUApbFwdcNhYwHEcdnd3EQgExHFnpaWloiDMN24mF86iANRyDBxxviEBSOiKpaUlMZD06tWrBXcIpA5gNiSTSYyPj2N7ezsjh/Ik8gal6wwjkQjcbjd4ntds3WQ+QdPA4cLx4eFhHBwc4P79+6KLwXGc2F0YDAYBAHNMmCNVgKlJHLWxcNkGQSsJwpzcvwwaP+T3GRYWkHzkEZUzlBxTZwIQePPvin25Y93D7e3tiMfj4vrBmZkZRCIRlJWViYLQbrcXXJydVQGopQNInF9IABK6YW1tDYuLi7hz5w5ef/31gjtmwJsXpmzEWTAYhNvtRlFRER48eJCRSD0pBzAej8Pn82FoaAhVVVW4fPmyZl2O+TiAe3t7GBwchN1uR19fX4rTw3Gc6ACyLMDRh53A6Y4mX8uX7Vi4TEq7mUwKycj9U4l9UbqPy2Im8GmtAVSDnZeSOC0qKkJVVZX45eng4EBcP7i6ugqe58XO4kziZnLhrApA+RpjgsgFEoCEbmhoaEBFRQWKiopgMpnEcmChycadY+vpmpub0dXVlfHF4yQEIADs7u5iY2MDly5dEvP1tCLXNYAbGxsYHR1FW1vbsSPwXC4XSktLxSzAn+ztAcgu60+O2lo/pZy/dIJSiVzX/mUSD2PIohNYjyVg4M0ImEzOrbS0FKWlpaivr0+Jm/F4PJidnUVRUVHK+sFcZ9/Kz+8sxMDIBWBbW9spnhHxVoEEIKEbDAaDmCF2UjN6Mz1WMpnExMQEtra2cmpKYV3AhbpQx+NxbG5uIhKJ4O7du2L8hpZkWwKWjplLtwaRvR5tbW0YHx9HUVERQvE4VgBIV8DJBZopzWNq4k0pGkYt909Oxs0gCs/NJB7GkIUDCOizBJxrCPRxcTOBQABLS0sYGxuDzWYTBaHD4chJyOW69vckkYvUcDisaRQWcX4hAUjoBukFzGg0npgDqFYCDoVCcLvdMBqN6O/vR2lpaU7HAArjOOzt7cHtdoPjOPFiWAiyKQHHYjG43W7EYjHVMXNyAWg0GhGPxzGNNwWgXOAplXfTodaBq4X7p7amT7wvwwYRw8LCYek4A2GndwcwX+RxM7FYDH6/H4FAABMTE4jH43A4HKIgzDRuhqUO6BWe5498ZmjdBUycX0gAErrEZDLpwgFk5ct8cwgLJQBZF3J7eztMJhO8Xq9m+5aTaRl7d3cXg4ODcDgcuHXrVkZj5gRBQGtrK4DDBhYAGAfwzofbyB27dNEucjcvk65dNfcvkzDpjOYCI8MSMQAuGATn8UDIoHtbz2sAC7HGrri4OCVuJhwOi4JwcXFRbDhhgvC4dbp6XwPI/t7kDiDl7xFaQAKQ0CWnXQJOJpOYnJzE5uamJhEq7CKTTCY1cRykJWkWPM0WzheKTBxAJkg7OjrQ1taW8Zg5QRDEdU0OhwO7u7uYkmyTLrpFKdolXXlYze3LpfM307nA2cItLGQsAPXoAJ7EeXEcB6vVCqvViqamJvA8j729Pfj9fmxsbGBqagqlpaWiIHS5XOKXEr2vAWSfS/I1gFQCJrSABCChS066CUQqnFjJ12Aw5FzylWMwGDQLUg6Hw2LJV3p+hW40SScAWebgxsaG4iSUTPbLBKDFYsHu7i62XdVAYPuIwJOTLvpFyQ3MNhg61yBoORmXiCX3Gebnwd+7p7LnQ/QoAE9jDrDBYIDT6RRHHSYSCbG7eG5uDgcHB+K4umg0qsvXjcGmgEhncYdCIXIACU0gAUjoBvkawNNwADc3NzE6OoqGhgZcvHhR0/KQFgLN4/FgeHgYdXV16O7uTjk/rUe1yTlOwEajUbjdbiQSCfT19WXtTsgF4M7ODgBgofjhHGXJtnIBpyTO5J3C2bh/SoIspyBohf0ooRYFk2kjyHkrAWeDyWRKiZuJRCLw+/3w+/3Y399HMBiE3+8XHUKLxaIbUajUpBIOh2kNIKEJJAAJXcHEwEk7gPF4HOPj41hfX8fVq1dRU1Oj+XGyzRuUIggCZmdnsbi4iJ6eHnF0mnz/hXQAlbqAd3Z2MDg4iPLycvT09OQ0yYG95y0tLQAgRsFMBYMIAZC2jyQApCugq4k3tbV+Wrl/WjWDZBoFo9cS8Gk4gGqYzWbU19ejvr4er7/+OqqqqsBxHLxeL+bm5lBUVJSyflCLuJlcURKAFARNaAUJQEKXnKQDKAgCVlZWUFJSotnUDCXkpeZMYRM0wuEw7t+/f2z55yRKwNL9r66uYmJiAl1dXWhpaclrxrAgCLBYLKitrcXm5iYAYD8UwjSAm5JtpeJP7ubJyXYMnBIFdf8y6QTOIgpGb0IL0IcDmA5BEGC1WlFVVYWWlhYkk0ns7u7C7/djZWUF4+PjsNlsoiB0Op0numZQLgCTySTC4TCNgiM0gQQgoUuMRiOi0WjBj7O1tYWtrS3YbDbcv3+/oBerXASatKO2r68vbQPJSa0B5HkeExMT2NzcxK1bt8RojnxgzmJrays2Nzdht9uxv7+PSbwpAOUCTqkzVyqBsl3rl8ukkIyiYDIIfT7uuVwWDqAe0aMDKEXeBWw0GkXnDzj88sXWD05OTiIWi8HpdIqC0G63F/TnUwqBBkBrAAlNIAFI6AppCbiQDiDP85iamsLa2hqqqqpQUlJScKcimxIwcyWnpqbQ2dmJ1tZW1QvNSZSAY7EYXnvtNXHGsBYNMuw9Z1EwP/7xj1FWVob9/f3DmcAPXzP5u5PNmDe1Tt9Crv3LJPT5ONfQ4PNB2NkB97Ch4Tj0WgLWuwOoFgNTXFyMmpoa1NTUQBAEHBwciOsHl5aWxOxNJgi1+HuQwppAGOFwGACoBExoAglAQpcUsgQcDocxNDQEQRDQ39+P9fV18YO1kGRaAk4mkxgbG4PX60Vvb6/oRqhR6CaQeDyO+fl51NTUoKenR9MZw+y/LAuQ3bdcWgoEg0cEm/y2PPolk2kcUjIJgtZsLnCGMFE48n/+D0x376Zdk6ZXAXgWHMBMf485joPFYoHFYkFjYyN4nhfH1W1ubmJ6ehpms1kUhC6XK+/Ip2QymbKuNhQKobi4+FTXJRJvHUgAErqkUJNAtra2MDIyInbRGo3GnNfmZUsmDp186shxAba57j8XmBu5s7OD6upqXL16VdOLOhOuHMeJncCrq6sAgJFYDMBRwZfODVQTi0o5f2piL5Nu4ZznAqvcd9FoxGpJibgmjUWYsKkvzCHSo9DSuwMod9iywWAwwOFwwOFwoK2tDYlEAjs7O/D7/Zifn0+Jm3G5XCnvVa7nFwwGddWlTJxtSAASukTrEjCbS7uysoIrV66grq5OfOykGk7USsBMnOYaQVMIAZhMJjE+Pg6Px4OKigo4nU7NLz5S55I5gAwmANN9UKmNhZPfVuv0VXL/Mlk/qKX7J8W+vY2Ojg50dHSII9D8fj/GxsaQTCbhcrmQSCQQiURQVlamK3GgV2eSoeUkEJPJhMrKSjEDMxKJiOsH19fXkUwm4XQ6RUFotVpVXxulNYDUAEJoBQlAQlewD0QtRdnBwQHcbre4bk3+AXpSAvA4p5HneczMzGB5eRlXr15FbW1tTvvXWgCy1w0A+vv7MT09XZASszTkljmATBQmSkqwEo2KM4GB7Jo91MbCKT1fzf1TImf3L4NmEE7SCSwfgcYy7Hw+H8bHxzE3N4eKioojEy9OCz2XgNm600I5lGazGXV1dairqxMDnNl7NTc3B5PJlLJ+sKSk5Mg+lARgpnOOCUINEoCELtEqB3B7exsjIyOoqanBpUuXFNf7nKQDKBdo0WgUQ0NDiEaj6Ovry2txN8vp08J18fv9cLvdqK6uxuXLl2EwGApWYpYKwJqaGpjNZnEecDwexwwgCkC5OMok6iXd2sBMxsDl1AySofuntI38HI/LAuQ4Dna7HXa7XfzykEwmRYFxcHCAsrIylJeXo6KiouAdq0roedau0pzdQsFxHGw2G2w2G5qbm8W4mUAgIMYpWa1WsbTP4mbkoyNpDByhJSQACV2SryiTumrHBScz8glozgb5cQKBANxuN1wuF27dupW3W8MutPkIQEEQsLS0hJmZGXR3d6Op6U3vrVBNJlIBaDQa0draisnJSfF3YALAzzzcVi7o0q0FVLotR+3Sn8vav0y7fDONh8kkC5C9dk6nU4zlYRMvfD4fVlZWAEAUGOXl5VmtL80VPZeAmQA8DYEqjZvp6OhAPB4Xy8VTU1OIRqNwOByIx+NwOBzi6xgMBjXtAF5bW8OnP/1pfOMb38DBwQEuXLiAP/7jP0Zvby+Aw/fvs5/9LJ599lkEAgHcu3cPX/rSl9DT06PZORCnBwlAQlewiwVbA5jLBSQSiaSMJlP7wDzpErBUZF24cAHNzc2aXCTZPnJ1XZLJJEZHR+H3+3H79m24XK4j+y9klzFzL1taWjA5OQmXywWv14spyTbpmj3U3EClzuGCuH9QKAfjKIrun8J9hvV14OAASBMxovR3Ip14IQgC9vb24Pf7sbGxgampKVgsliOOk9bouQnkNAWgnKKiIlRXV6O6ulqMmwkEAlhYWMDm5ibm5ubwR3/0R2hoaMi7s5gRCATw4MED/PRP/zS+8Y1voLq6GnNzc+IMZQD4whe+gC9+8Yv46le/igsXLuBzn/scHn30UUxNTVEW4VsAEoCELmEXI3kMghpsVm66kq/SsU6qCziRSGBoaAiBQEBRZOW7fwA5/SzhcBiDg4MwGo3o6+tTdIeOmwWcL3LhwhpBWKlrzWYDgkFVQZdtZ6/aZT/XIOhM5ESmQdAMw9IS+O7utPtM9yWC47iUjlW54xSLxeBwOMT1g5k0KGSCntcAJpNJcBynu/OTxs1sb2+juroa8XgcV65cwYsvvojp6Wl0dHTgXe96Fx599FG8973vVVw/qMZTTz2FpqYm/Mmf/Il4n7QJSxAEPP300/jMZz6D97///QCAr33ta6ipqcFzzz2Hj370o3n/rMTpcvpffQhCASbcMl0HyLp83W43uru7ceXKlYwdjZNyABOJBNbX1xGLxdDf36+p+ANyF4BerxevvPIKXC4X7t69e2xpUGkWsBZIS8AsDJodD3goAJF99Is8GBqy22rCTcn9k99WEoRqZBMEzeBUysDZvi/Mceru7kZfXx/u3LmDyspKBAIB/OQnP8GPfvQjjI+PY3NzE7GHndi5oHcHUK/nxmBfgFtbW/Hkk0/iPe95D375l38ZzzzzDKxWK373d38357/Jv/qrv8Lt27fxD/7BP0B1dTVu3ryJr3zlK+LjzH187LHHxPtKSkrwyCOP4OWXX877ZyNOH3IACV3BxABrOshEmEUiEQwNDSEej+fUSHESAnBjYwPr6+uwWq24fft2QS48zM3IVAAKgoDFxUXMzs7i0qVLaGxsVN1/IR3Avb09jIyMiA0gBwcHAICt4mKEAUiXvqtFv8hfXbWSrNpIt1zdv0znAishfa5hfv6IiE3ZNo+1dhzHwWq1wmq1oqmpCTzPY3d3Fz6fD8vLy2mzB1V/BhKAeSEPqg6FQnA6nXj3u9+Nd7/73Xnte35+Hl/+8pfxyU9+Er/5m7+J1157Df/iX/wLlJSU4EMf+pA4k7umpibleTU1NVhaWsrr2IQ+IAFI6JZMhJnX68Xw8DAqKyvR29ubUyOF0WgUZ9xqfUGQjpxjcRB6mDecSCQwOjqKnZ0d3L17Fw6HQ/U5hW4CGRgYQGtrK/r6+gAclvMBYGdvD9MAbkieky7qRY5aELSScFMTiErrBTNZ+5drFIxaI4iWzRYGg0GcZAFAzB70+XwYHR0Fz/NidEl5eXnartRsJm2cNGdBACYSiZTXLxwOHxFkucLzPG7fvo0nn3wSAHDz5k2MjY3hy1/+Mj70oQ+J28l/r/Tc2ENkBwlAQrekmwYiCAJmZ2exuLiYkXuldhwgv6kASrBmlGQyib6+Png8HgQCAc32r0QmZdpQKITBwUEUFRWhr68v4/VDhSgBC4KAmZkZAMDly5dRXV0tdrEyIbuzs4MpvCkAlYKb032QqQVDy8fAKT0/pzFwyMz9yyQu5rgomJT9FOiifFz2oMfjwczMDEpKSo7NHtS7A6hXccpQcgC16gKuq6vD5cuXU+67dOkS/vf//t8AIOaRbm5upgTnb29vayZCidOFBCChK6QXseOmgUiz8+7fv593Nxq7QMkzt/LB5/NhaGgIlZWV4txcv99f8FKzWpnW4/FgaGgop2kjWpeAWUNMKBQCcBhRwhbAV1VViQ4gAEym2U+6DzG5uFNyCzPp9M3W/csn9kXRSVxYgCAAShqvkJ3ZcqTZgy0tLUgmk2IziVL2IGu00CNaf+ErBIWcBPLgwQNMTU2l3Dc9PY2WlhYAQFtbG2pra/HCCy/g5s2bAA7d4JdeeglPPfWUJudAnC4kAAndolQCZsKqoqJCk+w84FAAchyniTiTrqvr7u5GY2NjyrrGQncbH3cMQRAwPz+P+fl51VzEdPvWSmyEQiEMDAzAbDajr68P3/nOd1L23d7eDo/HI4ZCs8uUXNApBT/LBZ8U+fMziYJRkwgZl4MzjH1RjIxZXMb//nOg57oB3d18ihBkr9tpCC2j0Zgy/uzg4EAcVbeysoJkMolwOIzi4mJUVFTk1K1aKPReAhYE4dhJIFrwL//lv0R/fz+efPJJ/OIv/iJee+01PPvss3j22WcBHP4+Pf7443jyySfR1dWFrq4uPPnkk7BYLPjABz6gyTkQpwsJQEK3SKeBCIKAubk5LCwsHBFWWqBFFEw8Hsfo6Ch2d3cV19WdROC0kgBMJBIYGRnB3t4e7t27h7Kyspz2rdUaQK/XK7qQFy5cSAmwZrS2tuLVV1+F1WpFJBLBQlEREI8fEVtqbl62t3OZFKIk/jKZDJLNekADn4CwtIKXdtpRXCygo+PNbU5TAMopLS1FQ0MDGhoawPO8GC20vr5+YtmDmaJ3Aag0qSQUCmmWv3fnzh385V/+JX7jN34Dv/3bv422tjY8/fTT+OAHPyhu86lPfQoHBwf42Mc+JgZBP//885QB+BaBBCChK6QXMbYGMBqNYnh4GAcHB3kJmHTk2wm8v7+PwcFBWCwW9Pf3o7i4WPEYJ+0ABoNBDA4Oik6b0nllSr4CUBqAffnyZTQ0NBzZN3v/WRQMK8lvO52Ax3Ok8zebsXBqOYKZBEFnQs5zgRW2g2S7DmEWW4l2bG5yKQJQ3E4HAlCKwWCAyWRCZWUlGhoaUrIHJycnEY/H4XQ6RUGoVfZgpuh9DSD7PJILQC1Hwb3nPe/Be97znmMf5zgOTzzxBJ544gnNjknoBxKAhG4xmUzY39/HwsICXC4Xbt68WbDh9vkIwPX1dYyNjaGtrQ0dHR3HXsROugS8vb2N4eFhNDU14cKFC3lfXPM5/2QyibGxMfh8Pty5cydl2gBwfBg0O17SYsEqAGmrz5GZubLbamPhtAiClpPPXODj9sd+TuvmAhKtgHyZ6kmuAcwWaRC0fNpFOBwWy8Xz8/MwmUzi2kGXy5XXl5VMz03PDqA8qFoQBE0dQIIgAUjoDtZsEAqFsLe3h0uXLqGpqamg7kAuApDneUxMTGBzcxM3btxAVVVV2u1PogTMXruZmRksLi7iypUrKR18+e47F7ERiUQwODgIAGmnjEj33dbWJj6XMYVUAShFLtbU3D85uYyBUyIv90/lvvjkAmruCUfcPz2VgOUcFxmilD24s7MDv9+PpaUljI2NidmDFRUVKCsr01ys6b0JhK3/k75+4XBY01nAxPmGBCChO1jJNxQKoaamBs3NzQU/Zrbi7ODgAG63G4IgoK+vL6OyzEmNnJufn0cymdSkQ1pKLgJwZ2cHg4ODqKioELuhM9k3cwD39/cBHL7e0wDe+fBxNTGWbyk3lzFwis0gCu5frjKtyzCHuscSeJiScwS9CsBMRJbBYBBLwcDhZwBzB0dGRrLKHsyUs+AAys9PyyYQgiABSOgKnufx6quvwmazoampKa8xVNmQjQPImhiymTcMFL4EHAwGsb+/D4vFgr6+Ps0ibRjZnv/a2hrGx8fR1dWFlpYW1Vm1bBScIAiora1FSUkJotEogMPB9RPS7SX/L492yaRxAyqPq7l/avsUn5OBYM60QcTln0eJgvg7KyXgbCgpKUFdXZ0Ynh4MBuHz+bC9vY2ZmRmYzWZRDMqzB7M5N70LQOlnSzKZRCQS0SwGhiBIABK6wmAwoLe3F6WlpVhcXBTHgRWaTASgNEoll/DpQpaANzc3MTIyArPZjKamJs3FH5C5A8jmMq+uruLmzZtiREg2+zYYDGhpacH09DSAww5rFgWjFP2SzQeZ0iQQKbms/cs0CibjeBj58wwGRP/9v1c8tt5LwPmKLGn2YGtrKxKJhFguZtmDDodDFIR2uz2j1+KsCcBgMAgAtAaQ0AwSgITusNls4Hk+JQam0KiVZ2OxGEZGRhAKhXLuRGYj57QcpcQmaSwvL+PatWtYX18vmCOUSRB0PB7H0NAQDg4O0NfXl5VbIT/v1tZWUQACEAVgumYPuRuYyRg4tWgYOUpiT0noZSQIMw2Hrq4Gf+lS2vPSowDM1QFMB+ssVsoeXF5eBsdxcLlc4nSS47IHeZ4vyBclrVDKAARAJWBCM0gAErol32gWrY61u7sLt9sNu92eV2mVuQ1axU/EYjExHuf+/fuw2WzY2NgoqABMt+9gMIiBgQFYrVb09fVlVZZT2jdbB1hXV4eNjQ1sFhXhIB5HqWSbbN3AbIOhM2n8yHUuMJBZODRfU4Pwt74F4WFjjBw9l4BPYhScPHtwf38fPp8Pa2trmJiYgNVqFZtJHA6H+Ld3FmJg5ALQbDYXLAmBOH/QbxKhO5hjcNIOoJIAXF1dxcTEBDo6OtDW1paXm6GlANzb28Pg4CDsdjvu378vitJCrjNMNwmERc40Nzejq6sr69cpnQBkF7zK6mpMr63humQb+asodwOzdfvUnL2Cu3+y7fjqaoSff/5Y8QfouwRcCAcwHQaDAQ6HAw6HA+3t7WL2oM/nw8TEREr2YCwW0/V6OqUSsMVi0eX7TJxNSAASuuU0HcBkMonx8XF4PB7cunULFce1XmaBVjOH0+UOFlIAKpWABUHAwsIC5ubm8oqcUbqosSiYeDwO4DBHbgoQBaBa9IvSVI90Y+MyaeyQk+lzMgl9PiL+qqoQfuGFtOIPOD5qRQ+chAOYjnTZg36/H3t7ewiHw+L6QT2VhAs5B5ggABKAhI45SQFoMBjEjuNwOAy32w2DwYD+/n7F3Lpcj5HJOrrjkDZXXL9+HdXV1YrHOCkHMJlMYnR0FIFAQHH0XTakcwB3d3cBHI60m5I/UYKapyr/sFMbA5dJ528mDmEuQdB8VRXCL76oKv7E89CxANTLucmzBwcGBsSGEWn2IFs7WIjswWw4bg6wXl5P4uxDApDQLadRAmalzPr6enR3d2t+AchVoMViMbjdbsRisbTNFYV2AJlIOzg4wODgIAwGA/r6+o5daJ/tvqUXt5aWFvFYwGEJjAnAbNfuyR/PxP3LZe1fLk6f/D6+ujoj5098ro7XAJ50CTgbBEGA3W5HbW0tgOOzB5kgLC0tVdmjtsiXimg9Bo4gSAASuoNdMJgoOwkXwWAwYG9vDx6PBz09Paivry/IcXJxNXd3dzE4OAiHw4Fbt26lXQTOcVzBXFMm0gKBAAYHB1FdXY3Lly9rIpKVHECbzQan04mdnR0Ah6HSkw8fk4svtd8OtbV+cnIRiJk0jBwHe17E5cLgf/pPsAKo2NvLKNJETy6bnNMuAadDLrCOyx7c2trC9PS0JtmD2ZBIJFJEJ4VAE1pDApDQLezDOZlMFvTDNhaLYWVlBZFIBH19fQXN2co1TDnTJpR0jRr5YjAYkEgk8JOf/AQXLlxAc3OzZsJDyQEEDjuAd3Z2YDabEYlEwEJhpL8NcnGm5vZlIu60ioLJpvGDr61F+K/+CuVlZfD7/VhZWQHHcWIHa3l5+bHzcfUqAPXsAKbLAUyXPTg7O4tIJJJT9mC250drAIlCQgKQ0C1M9BVSAO7s7MDtdqOkpET8wC8kmQpAnucxOTmJjY2NjOYMZ7v/bOF5HvPz8xAEQbOmGDlKwrW+vh4TExPi+syQwYB1nofUn1WLW8n2thblYSC70Ge+vh7hv/1bFLW3ox6HPzfP89jb24PP58PKygrGx8fFNWoVFRWw2+0FFfz5ws5Lrw5gNrOA02UPLi0tpYyyS5c9mO35Ka0BJAitIAFI6A72TZo1TRSipCkIAlZWVjA1NYWuri6UlpZidnZW8+PIyaQEHI1G4Xa7kUgkMp4zzCiEAGTrD9lYtkKIP2kJWOqksFI8+5l4nscUcKwAVHMDlYKg5SItF/dPvh/FKJhjmkH4xkaE/9//g9DennK/wWCA0+mE0+lER0cHYrEYfD4f/H4/hoeHIQiCZnNxCwF7z86iA6iGPHtwb28Pfr8/JXuQubbS7MFsoC5gotCQACR0TSEaQRKJBMbGxuD3+9Hb24vy8nL4fL4T6ThWE2g7OzsYHBxEeXk5enp6snY+tRaA+/v7GBgYQFlZGS5fvowf/vCHBVlzdlzINIuVqaqqgsfjQVFRESbjcfz0MftRi2WRH0EL9y/TtX+K4q++XlH8KVFcXJyyRo0FHm9vbyORSOC1115LCTw+bedN7w6gVqPgpEKdZQ8yd1CaPcgEYaZZfiQAiUJDApDQNVpHwYRCIQwODqKoqAj9/f1iqaaQc3qlpBNoLHS6q6sLLS0tOYksLQXg1tYWhoeH0drais7OTrEMWygBqITcAayvr8fU0pL4uFR8CTi6NlAu5tR8mFzcv0y2UXL/+Lo6hP/2bzMSf3I4jkNZWRnKyspQXl6OkZERtLS0wOfzYXR0FDzPi+XIiooKzaKMskHPAdVA4WYBFxUVoaamBjU1NWL2oM/ng8/nw9zcHIqKilLKxcdlDyoJwIaGBs3Plzi/kAAkdIf0gqGlA7i5uYnR0VE0NTWhq6sr5cP/pDIHlY7D8zwmJiawubmZ9/q6fHIGGYIgYG5uDgsLC7h69aoYk8Hel0JcOI9zANkFLxAIAAAikYgYBaMU9ZKuOUS+d7WoGKUybq6TQRTHu33jGzmJPzlMkEtFB+tg3dzcxPT0NCwWiygGnU7nibhyei4BC4JwIqPgpNmDzc3NSCaT2N3dhd/vx+LiIsbGxkQRL88epDWARKEhAUjoGi2EmTRA+cqVK6Kg0fo4mSB36CKRCNxuN3ieR39/f95ZY/k2BSQSCYyMjGBvbw/3799PaYphF6ZCNB0cJwArKytRVFQkTgPZ3d09VgDKP8zkY+HUgp/V1vUpiT357Ywcwurqw9m+Gog/4KgjK+9gVRqHxvLtKioqCpZvp3cBCJx8edpoNIpir7OzUzF7kD2eSCRORAB+/vOfx2/+5m/iE5/4BJ5++mkAh6/PZz/7WTz77LMIBAK4d+8evvSlL6Gnp0fz4xOnBwlAQtcYjca8HEDWUBGPx9MGKBuNRtEVKORFQSoAA4EA3G43Kioq0NPTo4kbkU8JOBwOi+Xxvr6+I5Ej7EJ+kgLQaDSisbERCwsL4DgOkUgESwAiAKRFTbWxcHJ3UOnxgrl/0udUVR3O9tVI/InHTSOy5OPQQqGQuHZwZmYGZrNZFINOp1MzV4wJUz0KQPZl77TXJ8qzB/f39+H3+7G1tYVkMonh4WEEAgEEg0GEw2HN1wC+/vrrePbZZ3Ht2rWU+7/whS/gi1/8Ir761a/iwoUL+NznPodHH30UU1NTBU9KIE4OEoCE7pCXgHN15vx+P4aGhlBeXo7e3t60DRXsoncSAjCRSGB5eRlTU1Oa5+nlKgB9Ph/cbjfq6uqOnYAiLQFrDROAPp8PHo9HbGTgOE4UgA6HAzs7O+ABzAC4Kn2+bH/p3ECl20pOXrrJIsc9J91vTqHEXzZrMjmOg81mg81mQ0tLCxKJBAKBAPx+P6amphCLxXJqWDjuvE5bYB0H+x3W0/lJ13U2Nzfje9/7Htra2jAwMIBnnnkGW1tb8Pl88Hq9eOyxx3Djxo28zj8YDOKDH/wgvvKVr+Bzn/uceL8gCHj66afxmc98Bu9///sBAF/72tdQU1OD5557Dh/96Efz/lkJfaCf336CUCCX0qwgCFhYWMAbb7yBjo4OXLt2TbWbVho6XUgMBgO2trYwOzuL3t7enJs90u0/W4G2vLyMgYEBXLhwIe1kj0I6gIIgwOv1wu12IxKJYGxsDD/4wQ+wv78vzjxm7ofFYkmZCZxE6geZ3C+Wn638HeZxNMJFrVys9AqnKyGL4q+jQ+GZ+ZHP+2EymVBVVYWLFy+ir68Pd+7cQUVFBXw+H15//XW88sormJqagsfjydqJ13sINMdxuhKAUtjnUFVVFX7t134Nk5OT6OzsxNvf/na8+uqreMc73oEPfvCDeR3j4x//OH7u534O73rXu1LuX1hYwObmJh577DHxvpKSEjzyyCN4+eWX8zomoS/IASR0CXOEsm0CYWvYdnd3cefOHTidzoyPV8gxasBheOz29jYAoL+/vyCdmdkIQNZ8srW1hdu3b8PlcqXdnr1GWgtAnucRDAYRj8dx+/ZtlJaWguM4BINBjI2Noby8HADg9XoBPBSA4fCx+1Mry2bSxatWBM3G/dviOFgLJP4A7bqypQ0LTU1NSCaTojvIpl9I3UGr1Zr2uHp3APV6bsCbApB9MWWl+1/6pV/CO97xDsTjcfh8vpz3/2d/9mcYGBjA66+/fuSxzc1NAEBNTU3K/TU1NViSdOATZx8SgISuycYB3N/fh9vthtlsRn9//7Fjs5RgbkChBKDf74fb7UZxcTGcTmfBYjkyFWhsbWQymURfX1/GjQBadBlLYSHTiUQCLS0tsNvtiEQi4DgOFosFFosFV69eFc8ZOBSCbCaw3K2Tr+WTk8sYOLVuYSjsgz1nHcDbBQEvVVWhLM155UshnDaj0Zgy/SIcDsPv98Pn82F+fl6MM2GCUO6y63lG8VkQgCwInyHNASwqKlJsZsuElZUVfOITn8Dzzz+f9nNI/t7p+f0kcoMEIKFrjEYjIpGI6nbr6+sYGxsTM+ty+aAqRCewIAhYWlrCzMwMuru7EY1GcXBwoOkxpGTiAO7t7WFgYABOpxNXr17NatG/lqPHgsEgBgYGYLfbUV5eLgpwdoxEIoFYLCaGQUu7gVkJWN7cIUcu3tR+K5SaQdQmhRzXDLIC4OdKSzF3cIC1tTWUlRVGAp7UKDgmyBsbG8U4EyYGWZwJayax2Wy6LwHrXQDK/y5DoZAmDRhvvPEGtre30dvbm3K873//+3jmmWcwNXX417W5uSn+7QHA9vb2EVeQONuQACR0ibQEnE6UsZm56+vruH79urheLBe0FoDJZBKjo6Pw+/1iiXV+fr4gTRQMNQG4sbGB0dFRtLe3o729PesLtFYlYLber7m5GZ2dnRgZGcH6+joEQUBVVRWKi4sxOTmJRCKB69evA4Ao/lwuF6Ye5gKmi3pRi3EplPsHHIq/nwaw/HD5wurqKi5duqSwZf6chjMjjTPp6uoSZ+P6fD4sLS3BaDTCarWC53nE4/Fjw45Pi2zmAJ8GcgEYj8cRi8U0iYF55zvfiZGRkZT7PvKRj6C7uxuf/vSn0d7ejtraWrzwwgu4efMmgEOn/qWXXsJTTz2V9/EJ/UACkNA16USZPEMv35moRqNRM3HGIlWMRiP6+vrEUkuhJ44cJwAFQcDMzAyWl5fzEsr5ThoRBAHLy8uYnp5GT08P6urqkEwm0dnZCa/XC5/Ph8XFRfA8j+LiYnR2dqK6uhqVlZXiGsCdnR0IALY5DtUSMaoUBC0XhEhzO5fysNI2awAeM5kwl0gAD0Xr6urq0RdDQ07baZPPxt3d3cXq6ioSiQR++MMfwm63i+6g3W4/9fM9aw5gMBgEAE0EoN1ux5UrV1LuY7OL2f2PP/44nnzySXR1daGrqwtPPvkkLBYLPvCBD+R9fEI/kAAkdM1xTSA+nw9DQ0Oorq7GpUuXNMku08oB9Hq9GBoaUoxU0VJkKqEk0BKJBIaGhhAKhXD//v28LiL5OIDyphOHw4FkMgme51FSUoLGxkbYbDYEAgG4XC6UlpZiYWEB4+PjqK6uhtfrRXFxsTiSbhKAVMaquYHpbkPh9pHzh3oQ9BbH4RFBQKKhAVhaQnV1Nba3twsqAE+qBJwpBoMBLpcLiUQCkUgE165dE0ehraysgOO4lLWD2azV1Qq9C0D5lJJQKAQAJzYL+FOf+hQODg7wsY99TAyCfv755ykD8C0GCUBClzCHQC7KBEHA/Pw85ufncenSJTQ2Nmp2zHwFoCAIWFxcxOzs7LHnpuWsXiXYRY1d4Njs45KSEty/fz/vi22uAjAej8PtdiMWi+H+/fswm80pYbwcx2FjYwMTExPo7OxEU1OT+DsQDofR1taG8fFxWCwWxGIxcByHCUHA2x/uP5OxcOnmAmsx9WMLwNsAzAGofHjBZs01a2trx7wy+aPXxflsDWBJSQnq6+tRX18Pnuext7cnisHx8fEj7uBJjakr9Bi4fFCaAmKxWAp2zt/73vdSbnMchyeeeAJPPPFEQY5H6AMSgISukTqA8XgcIyMj2N/fx927d+FwODQ9Vj4CMJFIYHR0FDs7O2nPrdAj56RZfcyJrK+vx8WLFzW5sObSBRwKhfDGG2/AZrPh7t27KXE7rOFjbm4Oy8vLuHbtmth1yrBYLLhy5Qr+5m/+Bna7HTs7O7Db7Zja23vzvGTHlH+wqbl92TaHAKnibxvAI0YjZh7+XGx2MXNuzqMAVIqBMRgMcDqdcDqd6OjoQCwWg8/ng9/vx/DwMARBENcWVlRUoKSkpCDndhYdwHxCuQlCCRKAhK5hgmlvbw+Dg4Ow2WyKY8q0INf1ecxlYyPU0l20TsoBXFxcxPz8PC5fvoyGhgZN95+NA8gmjDQ2NqKrqwuCIKREXCSTSYyNjYm5jceVp1tbW1Nul5WVpQhAKfIxb2q35SiNgZPflgpCn8GABzyPHZcL8HpTfo92dnYAFH4NoB7JpAu4uLg4ZRTa3t4e/H4/1tfXMTk5CZvNJpaKHQ6HZqLtrDWBSCNgCEIrSAASukRaAo7H43j11Vdz7lzNlFzcOY/Hg6GhITQ0NGTkshVaADKWlpayCsLOlGxKwGzc3aVLl9DQ0CCu92Pij2URGgwG3Lt3L62ob2trAwAx/JbjODEKRl6KlTt1amPg5OXfTDp/2e0tAB9oaMDsygparFZ4vV44nU74/X5wHCe612trawVz6s6SA5gOjuPgcDjgcDjQ1tYmhh37/X6Mjo6C5/kUdzCfLE29O4BKTSBqwdsEkS0kAAndkkwmxdiU3t5eVFVVFfR42QhA6VrEnp4e1NfXa36MbIlEIhgcHAQA3Lp1S3PxB2RWAmbRPBsbG0eaPZj4Y6HdLpcr7fg5xqVLl/Abv/Eb+PznPw/g0FEzAIgCkPqtcrEmd/vUOn0zcf+YQNwA8HYAmw/LvdHo4cW5uNgGwC/OLgYO3xufz3ekvK0FehWA+eYAsrDj2tpaCIKAYDAIn8+Hzc1NTE9Pw2KxiGLQ6XRmJejOmgAkB5AoBCQACV0SDofxk5/8RLzNxoEVkkw7dBOJBIaHh7G/v4979+5lFfBbKAdwd3cXAwMDqKiowN7eXsFy19RKwKzZIxqN4v79+ygtLT3S7LG9vY3R0VG0tbWhtbU1I5FQWVmJD37wg1hZWcF3v/tdrK2tIQlgFkCPZDu10OZsx8AdF/K8BuAdD4+PhxEdm5uLAIBA4LA0bbPZsLOzA4fDIcaiFEIAAqcfA6OElsKU4zjY7XbY7Xa0trYiHo8jEAjA5/NhYmIC8XgcLpdLbCZRm2yj9yaQZDKZ4oiHQiFNImAIQgoJQEKX7O/vw+l04sKFC3jxxRePdMUVAqPRKI4bO45gMIjBwUGYzeac1iIWQgCyKSidnZ1obW3F1tZWwcrM6UrAoVAIAwMDsFgsuHfvXkqzBxMCbG1iT09P1lMF2tra8Ed/9EdipuF3vvMd7H7hC8DWFoCjYk3N7VNy/zJpDlkD8DMch9mHrwPHGSAIb77e0egOAGB19bDxg71ea2truHHjhvoPmiV6i4FhFNJlKyoqQnV1Naqrq8U5uT6fD9vb25iZmUFpaWmKOyj/7DgLDqD0/MgBJAoBCUBCl9TW1qKiokJ0EQrZOctQK89ub29jeHgYTU1N6OrqyukComUQtCAImJqawurqKm7cuCGWyLUc1ybnuBKw3+/H4OAgGhoacOHCBfA8n1LyZRmAPp8Pt2/fzmssGsdxuHDhAi5cuICi9XXgP/0n9gAg+bnl4k0L92/TYMA7eB5+lwt4uM6PiT+TqQSJRBQmkxmJRAQsanrvYbNKoRpB9FoCPqnz4jgONpsNNpsNLS0tSCQSojs4OTmJeDwOp9MpNpNYLBbwPH9kdrGeSCaTKedHDiBRCPT7F0AQOPxwL3R0CuM4cSYIAmZnZ7G4uIgrV66kzMfMFqPRCEEQ8r44xuNxDA0N4eDgAH19fSnuQCEbTZTE5erqKiYmJtDd3S3OiZWKv1gshuHhYSQSCdy9ezevxfty+AsXADxcuyc5L4HjUm4feR7Up3zI351NAP+gqgqzW1toslrh96eu80skmHt8+LHKQqDNZjMikQheffVVPPLII6ioqIDL5dJUgOhVAJ6Gy2YymVBVVYWqqioIgoBwOCwGUc/NzaG4uBgcx6GsrAyJREKXQpAcQOIk0N9vPkHIOG4aiNYoCc14PI7h4WFxika+SfjSoOZcS9rBYBADAwOwWq24f//+kfV+hRSA0hKwIAjiHOZbt27B5XIdEX8sIsdut+PmzZual/GFhwIQRiMgfe9kbuCR58luq5WLPTgMed57uE/2PrJ1flarHaHQPgAgkThcExiJRAAcrl9cXV1FNBqF0WjE7OwsIpEInE4nKisrxTVruYo4PZeAT1uYchwHq9UKq9WK5uZmJJNJBAIBzMzMwO/34wc/+EGKO6iXTltyAImTgAQgoUukH8In5QDKj7O/v4/BwUFYLBb09fVp0ljBhIO8yy9TWOxMU1MTLly4oHixKrQDyPO8OF4uHA7j3r17sFgsR5o9fD6fWDLv6OgoyIWV7+oCAHDSaTEAuDQ/f7Zj4DwA+nHY8OF8OIaOiTuG01mGUGgfFosF4XAYwJul3/39Q2G4vb2Njo4OdHV1HXGlSkpKxAYGpTVr6dBzCVhv6+yMRiMqKyuxvr4uNo34/X74fD7Mz8+jqKgoZUzdabmDSg5goRqIiPMLCUBC95ykA8iE0+bmJkZGRtDa2orOzk7NLrDswp6tQBMEAQsLC5ibm1ONnSm0AxiNRvHjH/8YJSUluHfvHoxGIxKJBDiOE/+trKxgenoaly5dyjgiJydcLghVVeA8njfvk7mB8lw/GAyA5PUROA6cxEWTun/bAH4KD7t98aaok7tuTPxarVaEw2FxPSBw2KENHDaBsNeppKQEDQ0NaGpqEl0p6Zo1l8uFyspKlJeXq3a06lUA6rnTlp2bxWKBxWIRly7s7u6KYnBsbAwOh0MUhDab7cReZ6UYGHIACa0hAUjonpN0ABOJBKampsSxZNl2qqrBBFI2Ai2ZTGJ0dBSBQCCjEXi5jGvLlHg8Do/HIwZfs8keHMeJwnNqagqbm5tiWbjQ8BcuwCgRgJzsd0V+yZa7g5xMzLHtvQYDfornMSM91sPner1eABC/mLB1jawr3GgsQyLhgcFgAs8fbrOxsSHuR/r7bDAYUF5ejsrKSly4cEHsaN3a2hLz7pg7eNw0DD0KQL0KU0C5C9hoNIpB011dXTg4OBDdwaWlJfFx5g4WKmoJOCoAw+EwCUBCc0gAErpEXgI+CQdQEAREIhFsb2+jr6+vYB+42XQCRyIRDAwMwGAwqI6Zk+6/EOvCVldX4ff7UVlZiUuXLh1Z78fyESORCO7evQuLxaL5OSghdHUBP/rR4f/L3DzBYEgRfKq3cSgAoy4XjN/4Bv6fy4XvfOc74j82iYQJwa2HETTM5WPvT3GxBdEoUFJShoMDPzju8EvMysoKOjs7AUB8/QRBEH+/OY5DaWkpmpqa0NLSkpJ3NzY2hmQyKYoQNitXz2sA9VYCZmQyCq60tBQNDQ1oaGgAz/OiO7i4uIjx8XHY7XbxfbDb7ZqKXQqCJk4CEoCE7jGZTAV3APf29jA6OgpBEBQbK7Qk08DpQCCAwcFBVFdXZzQtg6F1CVgQBExPT2N1dVW82MnF38HBgZiPeOfOnYK+fnLYOkBAwc2Tu33y10X+OIBoZSVi3/wmSi5dQiOAD33oQ/jQhz6ERILHj388ih//+Lv4/ve/jR/96EfiWsDAw2kgy8vLAIBk8rD8azYfCkCLpQyhUAAvvPACtra2UFlZKZZ4mWPL/sndwcrKSjHvbn9/Hz6fD+vr65iamoLNZoPBYIDJZNKd46a385GSrTg1GAxwuVxwuVzo7OxENBoV13CurKyA47gUdzCfWeWCIBwpnweDwbwb0AhCDglAQrewjtNCl4BZkHJDQwNWVlYKLl4yEWgsWuXChQtobm7O6kKqpQBkrl4wGMS9e/ewuLiI/f19RCIRmM1mcByHnZ0duN1u1NbW4sKFCyfu+vAXLyren637BwCxykoknn8eRtk+t7eB//JfijE7extFRb346Ec/if/5P8N47bVX8Z3vfAcvvvgi3G636OSFw5sAgL29w/9aLMUIhQ6jYS5dugSv14vJyUnEYjGx/FtZWSk6ekwMyt1Bq9UKm82GtrY2xGIx+P1+LC0tYW9vDz/84Q9T3MGTFOFK6LEJhJGvO1lSUoL6+nrU19eD53ns7e2JYlDJHczmWOyzjglAFnR9Uo46cX4gAUjonkKVgHmeF52t69evw263Y3l5ueDORboSMFtDx6JVKioqctq/FgLw4OAAAwMDKC4uxv3792E0GlFVVYX5+Xn86Ec/gs1mg9lshtfrFYXqaSA8dACPNHuouH3y2/HyciReeAEci5Zh+xeA//pfTXjtNQPq6wWEwxy+/nUjampK8fa3vx1vf/vb8cQTTyAQCOD73/8+vvvd7+Kb33wBKyuLSCYPHUKP57BUvLa2Joq9ixcvIhQKwev1YmtrC1NTU7BYLOLjbJZzMpkURaHcHayurkYoFEI8HkddXR28Xi+Wl5cxMTGBsrIyUYScZAMDQw8xMMehZYOKwWCA0+mE0+lER0cHYrEYfD4f/H4/hoaGACDFHVRbxsH+duVrAMkBJLSGBCChe0wmk+qItmyJxWJwu92IxWJikHLsYcSHPINLa44rAcdiMQwNDSEajaKvry/nb/xaCEBWfq6pqUF3d7coQJhbFY1GMTExAa/XC4PBgIWFBezv76OqqurE4zOE1lYIRUXg4vE371NbCyh7POFyIfGd7wCScjIjHAZmZw2orRVQXg6UlwsYH+ewtMTh9u03t3O5XHjf+96H973vfQCApaUlfOc738F3v/tdfPvb38Zv/MZv4J//838ubi+dYMHm2/r9fni9XoyMjKS83pWVlSguLhabbqQl40QiAUEQYLPZYLfb0dHRkVKiZA0MTAye1PvzVnYA01FcXIy6ujrU1dVBEATs7e3B7/djbW0NExMTsNls4vug1NTDOsUpCJooNCQACd3CSsAmkwmhUEiz/e7u7mJwcBAOhwO3bt0SL4a5RrRki5JA29/fx8DAAOx2O+7fv5/XBTrdvN5MYCXxCxcuoKmp6chYt2QyicnJSQSDQfT19aG0tBQ7Ozvwer2YmZnBwcGBKFyqqqpUY0zyxmSC0N4Obmrq+G3kr4fkdtLlQvy73xWdRDklJYDFIsDr5VBRISAePzQPLZb0r3FLSws+8pGP4CMf+Yjo3qVznYqKilBTU4OamhpxvZ/X68Xa2ppYVqyqqkJlZSXKysogCAK2trawubmJrq6ulLnLJpMJtbW1YolyZ2cnJd6EhR9XVFTAYrEUJqNR5w7gSYhTjuPgcDjgcDjQ1taGeDwuuoOjo6OiyGcOodlsVnQnQ6EQOYCE5pAAJHSPlmsA2cW0o6MDbW1tKRcoaUhzIZELwK2tLQwPD2uWOZirAygIAmZmZrC8vIybN2+ioqLiSLNHJBKB2+2G0WjE3bt3xcXu7CLGYky8Xi88Hg+mp6dhtVpFMehwOAojNi5cgOGhADzi/slv481SMV9ejth3vnOs+AMAkwn4+38/iT/+YxPGxzkAHK5dS6KvL/PX2GAwZCU42KiysrIytLe3IxaLwev1iiVejuNgsViwt7eHy5cvo7a2NsUdlJeKWYmSxZswd3B+fh7FxcWiGHS5XJqVRt9KTSBaUVRUhNraWvH9CgaD8Pl82NzcFCN/WLmenWMsFkMikdAkleDzn/88/uIv/gKTk5MoLS1Ff38/nnrqKVyUrHkVBAGf/exn8eyzzyIQCODevXv40pe+hJ6enryPT+gLEoCE7tFCAPI8j8nJSWxsbODGjRuoqqo6ss1JzR1mxxAEAfPz85ifn8fVq1dRW1uryf5zEYCJRAIjIyPY39/HvXv3YLVaj4i/vb09uN1uVFRU4NKlS8deQNnoLRZj4vf74fF44Ha7AUAsaWrZqJAi4ORj4I4ZC8dXVCD64otpxR/j7W/nUVERx8KCAWazgDt3eKjEMWpKcXGx2HSQTCbFdaJmsxnj4+Pi2sKqqipYrdYUMShvJGH7YuHHLGZmenoasVhMnJDBRtTlil5jYNhrctrnxnEc7HY77Ha7uAQgEAhgfX0diUQC3//+9/GNb3wDdrsdLpdLEwH40ksv4eMf/zju3LmDRCKBz3zmM3jssccwPj4ulpi/8IUv4Itf/CK++tWv4sKFC/jc5z6HRx99FFNTU+RCvsUgAUjoFuYe5DsJJBqNih2aamvrTkIAGgwGcZTazs4O7t27h7KyMk33n40AZBEuRqMR9+7dS4ndYeJva2sLY2NjaG9vR0tLS8bOjrysubu7C4/Hg4WFBYyOjsLpdIplzXzWOKVEwchz/RRy/vjqakS/9a03ZwlnQE+PgJ6ewgeSp4O5tB6PB/fu3YPdbhcdPY/HIzp62cTMsHK9IAjiiDqPx4OZmRmUlpamjKjLRjTp1QFkfxunLQDlFBUVobq6GhzHIRaL4fLly3jttdfw13/919jZ2cGdO3fw7ne/G3/37/5dPPLIIzmJ829+85spt//kT/4E1dXVeOONN/D2t78dgiDg6aefxmc+8xm8//3vBwB87WtfQ01NDZ577jl89KMf1eRnJfQBCUBC9+QjynZ2djA4OIjy8nL09PSorq3LJqQ5VwRBwOLiIiwWC/r7+/PKDFMim5+BvT5VVVW4dOmS2OzB9sNG0C0sLODKlSuorq7O+bw4jjtSimSlYiY2mIuVtdh4KOQEozF1Eohs7BsHgK+tRfQb38hK/OkBnucxOjqKvb093L17VxQApaWlaGxsTHH0vF4vpqamEI1GxbFylZWVMJvNaWNmzGYzGhsb0dzcjEQiIe5rfHxcMYQ6HXpw2ZRQ6rLVE6wJzWaz4VOf+hTe85734J3vfCd+93d/F88//zz+2T/7Z/jP//k/i81G+cACzMvLywEACwsL2NzcxGOPPSZuU1JSgkceeQQvv/wyCcC3GCQACd2TawzMysoKJicn0dnZidbW1ozciEKHTrPRUjabDXfu3CnIBdJgMCAu6Yg9jo2NDYyOjqKrqwvNzc1Hmj14nsf4+Dj8fj9u376tqUsJQJx40dTUhEQicaQDtqKiIqUDNh3MATwyBk7mhPI1NWdS/DHHOJFIpKy9lGM0GsXXjDl60vWYTGRXVlaKY/rSuYMVFRWoqqpKWa+2sbGBqakpWK1WUQyWlZUd+V3WaxMIE4B6PDfg+CkgP//zP49f+IVfgCAImkx/EQQBn/zkJ/FTP/VTuHLlCoDDGegAjozArKmpwdLSUt7HJPQFCUBCt0hLwNmIMp7nMTExIc6jzSZLr5AO4PLyMqampuBwOOByuQrmjqh1AQuCgNnZWSwtLeHGjRuorKwU1yQy8cciaXiex7179zIaQZcPJpMJ1dXV4sSLvb09seFhfHwcDocjZY3bkYt3RQWEykpwD2f0AkfdQKGqCtFvfvPMib9YLIaBgQEUFRWht7c34w5xFhzN1mMyke3xeDA6OopkMnlEZLO1g0xkSN1Bi8UCq9UqrldjjSQjIyMQBCElZobtS48OIBsDd9YEIIPNE8+XX/u1X8Pw8DB++MMfHnlMvn+9lvOJ/CABSOgeadOE2ocQ61LleR79/f1Zr5PJdExbNjBBurW1hd7eXmxtbRXUZUy3BjCZTGJkZAS7u7vHNnsEg0G43W6UlZWhp6fnxEtl0uiMjo4ORCIRsQOWrXFj6walXat8VxeMEgGYIv4qKhB5/vkzJ/7C4TAGBgbgcDjQ09OTl6CSi2xpzAzLp2Ni0OFwpIjB40KoWTerfBJGWVkZYrEYDg4O4HQ6dSUe9NqcwpDPKQ4Gg8pfevLg13/91/FXf/VX+P73v4/GxkbxftaItrm5ibq6OvH+7e3tI64gcfYhAUjoHjbnVC29PxAIiF2quQoXraeOxGIxDA4Oig0opaWl8Hq9GZVoc+U4ARiJRDAwMACj0ShmDcqbPVgJtrm5Ge3t7bq4cLN1adI1bh6PBxMTE4jH4ygvL0dVVRWa29thfOUVAKnRL0J5OSIvvnjmxN/e3h4GBwfFEXtavhdKMTM+nw9er1fs1j7OHZSWjIHD3x0WQt3e3o5oNAq/34/JyUnMzMxgfn5ebDQ56ZBwJc6CAJS+RlqGQAuCgF//9V/HX/7lX+J73/se2traUh5va2tDbW0tXnjhBdy8eRPA4WfYSy+9hKeeekqTcyD0AwlAQrewCx4TcscF6QqCgJWVFUxNTeU0O1eKlg7g3t4eBgYG4HQ6U0p3Ws7qVUJp/7u7uxgYGEBlZSUuX758pNkDOCxRz8zM4PLlyynf/vWEfI1bMBgUXay4yYTLbEMm/ioqzqT4Y2PE2trasuq6zhXp9Ao229br9WJxcRFjY2NiCb6yshI2m+1IzIx0XZ3JZEJNTQ1mZmZw/fp18DwPn8+HhYUFcV+sXKy1s5UJZ0EApisB58PHP/5xPPfcc/i///f/wm63i2v+HA4HSktLwXEcHn/8cTz55JPo6upCV1cXnnzySVgsFnzgAx/Q5BwI/UACkNA9zJ1KJBJHFr8nk0mMj4/D4/Ggt7dX7GbLFa1iYDY3NzEyMoL29vYjTlqhO43lApCdS2dnJ1paWsQLtrTZY2pqCtvb2+jt7RVn0OodaY5aW1sboktLwNe+Jka9RB0OTP/hH6LM5UK5yhQOPcEid7q7u1FfX3/ix5cGR3d2dqaU4BcWFmAymVJiZli3uDSEWuoQsnJ+Z2cnDg4OxEaohYUFFBUViZmQWoZQp0PLOcCFIJlMpnzOhUIhTTIAAeDLX/4yAOAd73hHyv1/8id/gl/5lV8BAHzqU5/CwcEBPvaxj4lB0M8//zxlAL4FIQFI6J7jAppZfh3Hcejv74fZbM77WPmKM9Zgsbi4iOvXryvGphTaAWSiTho0ff36dVRVVR1Z7xePxzEyMoJoNJoSLXLW2Nvbw3QshrfjYdRLTQ38f/ZnSDgcYhyKdK6uXn/OlZUVzMzM4OrVq4ph5aeBtATP87wYDcPG/rlcLlRVVYmOHvudKi0tRUlJyZEQ6rq6OjQ0NCCZTIoj6mZmZhCJRFJCqHOdha3GWXQAtRKAmXQPcxyHJ554Ak888YQmxyT0CwlAQrdIXTP52jyfz4ehoSFUV1fj8uXLmn2g5+MAJhIJDA8PIxgM4v79+8d+Yy5Eo4kUJjCHh4cRCARw//59xWaPcDgMt9uN0tJS3Llz59TXZuWKx+M5dFvv3UP41VdR9Gd/hsQ/+kdwXLwIB4ALFy4gHA7D4/Fga2tLjDBhjSSFGk+XDYIgYG5uDqurq7h165ZuXVgWDVNRUYGLFy8iFAqJwdHT09Mps2xv376NoqKitDEzTPABEEOovV4vZmdnYTabU0bUafU3Lm+y0BuFLAEThJSz+YlPnDtYw4IgCFhaWsLMzAy6u7vR1NSk6XGMRiNisVjWz2PdmiUlJbh//37a3LpCl4CTySSCwSA4jhPPRd7sEQgEMDQ0hLq6Os0bDE4S5pixebgAEP/c51K2kcahSCNMPB6P6CCziJmKiooTF8JsTKHP58Pt27c1c3tOAva6Njc34+DgAAMDAwAOfwd/9KMfpbiurJHkuBDqkpISNDQ0iLmQbETd5OSk2OzDBGE+bv9ZdACp/EoUAhKAxJnAaDQiHo9jeHhYDCZmQbZaHydbd87n88HtdqO+vh4XL15UvbgU0gHc29vD1NQUOI7D7du3AUAUfyw/bH19HRMTE7h48WJKBMRZgpXa19bWcPPmzax+F4qKilBbW4va2lrwPI/d3V14vV7Mzc1hZGRELGlWVlYWrAzJYLE84XAYd+7c0WQZw2nAxi1arVZcvXoVBoNBbNDZ2NjA5OQkrFarKLQziZmRhlAzp3FzcxPT09OwWCyiGHQ4HFkJurMoAPXalEWcbUgAEmeGqakpmM1m9PX1FexCmU0JWOpGXrp0KWMxVag1gFtbWxgeHkZtbS38fj84jksJvWVzZFdXV3Hz5s28G2ZOi2QyibGxMezt7eHOnTt5lcdYGdLlcqGrq+vI5AyLxZIiWrQUDvF4XIxcuXPnDoqKijTb90lycHCAN954A06nM2U5hrRBJx6Pw+v1il+WgDdjZioqKlRDqNnUmJaWFsTjcbGRZHR0FIIgpLiDqlNjdN4EIj8/KgEThYIEIKFbWFnS6/Vif38fTqezYOPTGJkKQJ7nMTY2Bo/Hk7UbqXUJmM3rnZubw9WrV1FcXIzt7W34/X4xhDeRSGB0dBShUAh37949sxcUJpoEQUg7Ei1XLBYLmpubxVm4bE3a8PAweJ4Xy5mVlZV5CbZIJILBwUGUlpbi6tWruhYk6QiFQmK8UHd397FLCYqKisSYGUEQRNd1aWkJY2NjKCsrE19Xu91+rDvIXOyqqirU1NSIgdY+n08MtLbb7aK4tNvtR85J7w5gIpFI+X0Ih8Nn9u+V0DckAAndwoTN7Ows7HY7qqurC/7BnYkAjEajGBwcFKeNZOtGalkC5nkeo6Oj8Pv9uHfvHmw2m9jxOjQ0BIPBgPLycuzu7qKkpAR37949s05TOBzG4OAgbDYbrly5UnDRxPLsmNDY29uDx+MRRYvD4RBLxdnk2THRVF5ejkuXLulajKRjf38fb7zxBhoaGtDZ2Znxz89x3JGYGSa0FxcXxazHqqoqMTg6XQi11WqFzWZDW1ubGGjNnEaO41JG1LGmFD2/5koO4FlaF0qcHUgAErolmUzC5/Ph7t27WFlZ0XRCx3GouXMsULm8vDxnEaJVCZgJUUEQUpo9TCYTrl69CkEQsLa2hunpaXAch2g0itHRUVRVVaGqqqrg8321ZHd3F4ODg6fWtCIdTyfNxvN4PJibm0NJSUnKeLrjBMbOzg7cbjcaGxvR0dFxZptvdnZ2MDg4iNbW1iPTJLLFbDajoaEBDQ0N4HkeOzs78Hg8KTEzzB20WCxpQ6iNRiNqampSAq19Ph+WlpbEEXUAUFJSosv5tuxnIwFInAQkAAndYjKZcOfOHQiCgPX19YJ2zjLSOYDr6+sYGxtDZ2cnWltbc754aCEAmfvidDpx5coVAEebPba3tzEzM4POzk40NTWJUSjr6+uYnJxEWVmZKAZPYyJDpmxvb2N0dBSdnZ1obm4+7dMBcHQ8nd/vh8fjwdjYGBKJhNjAwLpfgTfjavT0c+QCi2Dq6urSvAufOdbl5eW4ePGiuCaTRcOUlJSIYtDlcolrW6Uh1NJ9lZWVwel0ijOlmRjc29vDyy+/nBIzo4cYJLb+kQlAQRCoBEwUjNP/jSeINLAPeJPJhGg0WvDjKQlAQRAwPT2NlZUV3LhxI++A3nynjWxvb4tjwtrb28WSmLTZY35+HouLiymBwjabLaVU5vF44PF4MD8/j+LiYlEMapm5li/Ly8uYnZ3FlStXFEO19YDRaBRfOzaezuPxYGVlRXSdSkpK4PF40NPTc6Y7Ore3tzEyMnJi4wKlazKZ0PZ6vZiYmEAsFhPnQFdWVooZhFJ3UNpIwtYh7u3tobi4GC6XCz6fD3Nzczg4OIDT6UwJoT6NL0Tsc0HqAAaDQYqBIQoCCUDiTKDViLZsjxOPxzE0NIRwOIz79+9rUopho7OyLUEJgoDFxUXMzs7i6tWrqKmpORLuzEbj7ezs4M6dO8deOIqLi8Wym9TBGh0dBc/zKQ7WaawZZKJ7Y2MDvb29cDgcJ34OuSAdT9fe3o5IJIKpqSl4PB5wHIeZmRns7OyIY9TOUvMHiw+6evXqqYhxudAOhULweDxHYmZYuDcAxRDqRCIBs9kMp9OJ8vJysfubrR1kX4hYh7LT6Tyx90ma18mgEjBRKEgAEmcC+SSQQh6HlWfZYv3S0lL09fVpJoTYh3s2cRSs69jr9eLu3buw2+1HxF80GsXQ0BAA4O7duxmv8ZNfWFmzw+LiIsbGxsQ1WFVVVQXPxQMOL4Kjo6MIBoO4e/fuiRyzELCYoJ2dHdy9exc2mw2BQAAejweTk5OKDpZeYYHbN27cECd3nCYcx6U42izc2+v1YmhoCIIgiJ3A0hBqj8cDn8+H2traY0Ook8nkkRBq6Yi6Qo4RZOv/2BdDJnRJABKFgAQgcSZgk0AKDXMAt7e3MTw8jKamJs2bDpjoky/2Po5YLIbBwUEkk0ncv38fJSUlRyZ77O/vw+12i1lsuToW8maHg4MDsVQ8MzMDi8UiisVCjFCLxWJi9+adO3c0j3k5KZhg393dxZ07d0QRKx+jJg1KttlsohgsKyvTxZpM5jovLi7qekSdNNybfYnxer0pZXiz2Yzt7W1xOUG6EGo2wYSNEfT5fOKa2nxCqNWQfyZEIhHwPE8CkCgIJAAJXcMugidVAmYf5kNDQ+jp6UF9fX3BjpFJI0gwGMQbb7yBsrIyXL16VSzzAm82e7DSbXNzM9rb2zUVDqWlpUdy8dgINYPBkDJCLd8yWSgUwuDgIMrKytDT03OmyqNS2EzoWCyGO3fuKDqxUgertbVVjC/xeDxYXl5OeW1ZFMpJw6atrK+v4/bt22dmHZr0S0xHRwei0Sjm5+exuroKg8GAqakp+Hw+sQwvDaFWiplhDT/sb4CFUI+NjSGZTKaEUOfbWS+fUxwKhQCABCBREEgAEmcCk8lU8BJwMpnE5OQkAODmzZuorKwsyHGYcFMTgB6PB0NDQ2hpaUFHR4foVHAcJ64jXFpawtzcXMos3EIhzcWTxnVMT0+L2YO5RsyweJT6+np0dXXpwv3KBebWmkwm3L59O2PhVlxcLAYls9fW6/WKUSjMkaqqqipoCZIhCAImJibE+cRnuQs1EAhgfX1dLF+z15aN/nM6nWKp2Gq1po2ZYcK8urpabPjxer1YX1/H1NQUrFarWHrOxcVlMU6MYDAIg8FwIu85cf4gAUicCQrtAEYiEQwMDIjfvgt9wUv380hHzLGuUfl6P57nMTk5CY/HcypNEtK4jgsXLhxZkG+320UxaLPZ0l4It7a2MDY2VpBYkZPk4OAAAwMDsNvtuHLlSs6lQaXXVj6erpBleFa+3tvbw+3bt8+0+NjY2MDExASuX78ufqGTvrYHBwdizAzLc8wmZsZqtcJqtYqd9cwdZGtxmTNYUVGR0RpiuQPIImDO6hciQt+QACR0DfvgK+QaQBZqW1lZiZ6eHrz44osFLzcflwXI8zzGx8exvb2NO3fuwOFwHBF/8XhcLDHeu3fv1JsH5AvyY7GYKFgWFhaOjZhhQnd+fj4lruYssr+/j4GBAdTU1ODixYuaXrCZyJDOwfV4POJMXSZYMhUZ6UgmkxgeHkYkEsHt27fPVFi4nLW1NUxNTeH69evHNq6wGcOs+UMpZoa9vqWlpWljZoxGI6qrq4+sQ1xeXj4you64L0XyNYDBYJAEIFEwSAASZwLWBax1ev/q6iomJibQ1dWFlpYW8YP8NAQga4CIx+O4f/8+zGbzEfEXCoXgdrthtVpx584dXYTXyikuLkZ9fT3q6+uPhCQnk0kxYoZ1xN6+fVuc0HAW8fv9GBoaQmtra14B4ZlQVFSUMp5ud3dXFNqjo6NwOp0p4+myIZFIwO12g+d53L59+8yODAQO/66np6dx48YNlJeXZ/QcpZgZr9eLra0tTE1NwWKxiGKQNcMoxcwAh3/fdrs9ZR0ii5lZXl6G0WhMGVHH/o6VpoCc5fI7oW/0d/UgCAWMRmNO2XnHwfM8pqamsL6+fmS9n5azeo9DPnIuGAxiYGAANpsNN2/eTHmciT8mNBoaGs7MOjmliJnt7W1MTEwgmUzC4XAgEAjAZDKdybiXra0tjI6Ooru7Gw0NDSd6bOlM3a6uLrGc6fF4MDs7C7PZLK4bdDqdaUvS8Xgcg4ODMBqNuHXrli6/WGQKi6y5efMmXC5XTvuQN+kw59Xr9WJkZETMymTOK+tWP84dNJlMqK2tRX19PXiex+7uLnw+HxYWFsS50pWVlYhEIkeaQArtAP7BH/wB/uN//I/Y2NhAT08Pnn76abztbW8r2PEI/XB2/8qJc4G0BAwcuhT5RoPEYjEMDQ0hGo2ir6/viPA4CQdQKjK9Xi/cbjeam5vR2dl5pAsROHQ0pqamTkVoaAXHcTCbzfD7/SgrK8PFixdT5r4Wem2b1jChce3aNV2Ur6XlTNatqiRYpOPpgMOZ0izv8urVq2e2+xo4nBwzNzeneWSN3HmVxsyMjY2hrKxMfG3LysrE5pHj3EGHwwGXyyVGLTF30O/3i53K4+Pj2NvbK6gD+Od//ud4/PHH8Qd/8Ad48OAB/uiP/gjvfve7MT4+fqbHFRKZwQmCIJz2SRDEcfA8j3g8DkEQ8K1vfQuPPPJIXovS9/f3MTg4CJvNhmvXrik6HS+//DI6OjpQU1OTz6mn5ZVXXkFbWxui0Simp6dx+fJlsWQqH+s2MzOD9fV1XLt2LeNylh4JBoMYHByE0+lET09PitMhjZjxer3gOE7TiBktYaP2lpeXcfPmTd1m4zEEQcD+/r6Y5xgMBkXHyW63Y2JiAi6XC5cvX9bNCMBcWFxcxMLCAm7dunWiTVFszavX64XP54PBYEhxB1n1guUOsn/Am53F7L9TU1OIRqOIxWL44Ac/CK/Xi4qKCvzmb/4mfvZnfxYdHR2anvu9e/dw69YtfPnLXxbvu3TpEn7+538en//85zU9FqE/SAASuoYJQAB44YUXcP/+/ZzzyNgM3dbWVnR2dh7rML366qtoamoqSAYg48c//jEMBgOCwaAoItgFgsXEJBIJjIyMIBwO4+bNm2eyRMpg5eumpiZ0dHSkdfdYiczj8WB7ezslYua0J2aweBSv14tbt26dyXy2SCQirm3z+/0wGo2oq6sTm3T0JLYzZWFhAUtLS7h169apridlv7tMEIZCoWNjZphLKL0Ez87OoqSkRIx9+tznPodvfetbqKmpwUsvvYSOjg7Rrc2XWCwGi8WC//W//hd+4Rd+Qbz/E5/4BNxuN1566aW8j0HoGyoBE7pGKhRy7QRmjg3rNlXLy5Ovz9OaeDyOUCgEg8FwbLPHwcEB3G43iouLcffu3TO9IH9jYwPj4+MZl68NBgNcLhdcLpc4pzXXiBktYSPqQqEQ7t69e+rd17liNpvhcDgwOzuL5uZmlJeXi52v8Xg8RWyfhS7gubk5rKysoLe399TDquW/u/KYGTZjmIVQm0wmURBGo1Hs7u6ivr4esVgMBoMBBoMB165dw9e//nXs7+/jtdde0yyWx+v1IplMHql01NTUYHNzU5NjEPqGBCBxZshlbV4ikcDo6Ch2dnZw7969jNyBQq4BDIVCeOONN8BxHJqbmxXHuu3s7GBoaAjV1dW4ePHimS3LSceISXPYsoHjODEGhU3MYI0Oi4uLKCoqUoyY0Zp4PA632w1BEHDnzp0zLchZ7FFrayva2toAQGzSYcHGa2trYnQJK8Xb7XZdrcsUBAFzc3NYW1vD7du3denGymNmAoEAvF6vWOplc7adTifGx8dhs9nEL0k8z+Mb3/iGuEzFbrfjne98p+bnKH9PtU5aIPQLCUDizJDtNBAWzGsymdDX15exm1EoAejz+eB2u9HY2IhwOJwyZYAJl83NTYyPj6OzsxNNTU1n9oOYBVV7vV5Nx4jJI2ZYlMzY2BgSiYQoViorKzUTaZFIBIODgzCbzbh27dqZLJEyWEixUug2x3Gw2+2w2+0peY4sy85oNKZkDp7m6yAdU9fb26tL8SdH+voJgoBwOJwSM2M0GmE2m/HCCy/gZ37mZ/Af/sN/gNfrxde//vWCnE9lZSWMRuMRt297e7ug658J/UACkNA1UgGUjTDz+/1wu92oqanBpUuXsnKGChEDs7y8jKmpKVy6dAkNDQ0YHR3F2toaBEFAdXU1LBYLFhYWsLy8jGvXrhVsDN1JwGbhRqPRgpZKpRfU7u5usdFhaWkJY2NjYiZeVVVVzusnQ6EQBgYGUF5envXvkd7Y3t7GyMgILl++jLq6OtXtpWL7uNF/0pDkk0IQBExPT2Nra+vMjqljznZJSQm2trbgcrnQ2NiIH//4x/i1X/s1RCIRcByH3/qt38Lly5cLcg7FxcXo7e3FCy+8kLIG8IUXXsD73ve+ghyT0BfUBELonmg0CgB44403UFVVpRpPsLKygsnJSVy8eDGnKIOJiQlwHIfu7u6czleKPG/Q5XIhmUymlDJ9Pp8odLu7u1FXV3dmnb9IJAK3242ioiJcu3bt1Eql0kw8v9+fU8TM7u4uBgcH0dDQkLZp6Cywvr6OiYkJXL16FdXV1Xnti7lXrGN7Z2cHVqtVdF4LGeEjCAKmpqbEEYhnuTEqmUyK4ydv3Lghdgv/9m//Nv7iL/4C7373u/H666/j9ddfx7ve9S5885vf1Pwc/vzP/xz/6B/9I/zhH/4h+vr68Oyzz+IrX/kKxsbG0NLSovnxCH1BDiChe1gcipoDyMqOGxsb6O3tzTkyxWg0ip3H+RCPxzE0NIRIJIK+vr6UZo/i4mI0NDSgsrISg4OD4HkeNpsN09PTmJ6eRlVVFaqrq1FeXn5mSo4s5kUPbpk8E49FzLDxaUwMSqcwSPF6vRgeHkZnZ+eZz0NbXl7G7Owsbty4cexItGyQr8uMx+Pi6zs4OHgkwkerUGlBEFKWFZzlGcXJZBJutxscx6WIv6eeegr/9b/+V3znO9/B1atXAQAejwdTU1MFOY9f+qVfgs/nw2//9m9jY2MDV65cwd/+7d+S+DsnkANI6J5YLAZBEDAyMgKz2Yyuri7FbQYHB5FIJPKOTJmbm0MoFMK1a9dy3kc4HMYbb7yB0tJSXL9+PUW8spiX/f19uN3ulAw2FiOxvb0Nj8eDaDSasq4t3xDsQuHz+TA8PIyWlha0tbXp1i2TRsx4PB5EIpEjETOsa7mnp0e1Y1zPCIIgxqOcVF6hNAbF4/EgHA7D5XKJr2+uf5eCIGB8fByBQAC9vb1nXvwNDQ0hmUzi5s2bYifw7/3e7+H3fu/38O1vfxs3btw47dMkzgEkAAndwwTgcaXZvb09DAwMwOFw4OrVq3k7DgsLC9jZ2cHNmzdzer7f78fg4CDq6+tx8eLFlKwv5optb29jdHQUbW1tx86PZV2ZLA8vGAzC6XSiuroaVVVVurkIsvLipUuXCpqdWAhCoZAoBnd3d1FcXIxYLIaLFy+isbFRt0JWDRYgvrGxgVu3bp1aPAprdPB6vWIpXjpPNxOXWBAEjI2NYXd3F729vWc2fgc4FMhDQ0OIx+PiyD1BEPDMM8/gd3/3d/H888/jzp07p32axDmBBCChe+LxOHiex/T0NOLxOHp6esTHNjc3MTIygra2NtWA4UxZXl7G9vY2bt++nfVzV1dXMTExge7ubjQ2NopjoKSTPZaWljA/P4+enp6suu0ODg5EsRIIBGC1WkUxeBoRHdKJGNevXz/TU0pYeXFjYwNlZWXY29s7sYgZrWFflnw+H27duqWbJgk2no6tHeR5XhSDx3Vt8zyPsbEx7O/vo7e390zkEh4Hz/Nic9StW7dQVFQEQRDwla98BU888QS+8Y1voK+v77RPkzhHkAAkdA8TgPPz89jf///bu/OwJs90f+DfsO87CUQEkYILCIRgHbVVe2pd0UA7dt87Ha+x7Sm1nerM6UzbGZfBntN2pq2tdPrTTpdpTwXUoa3VumBH7QgJIIuiKPuSBAiQACHb+/uD8z5D3KpCSAL357r6R0OQ9w1ovjzPc9+3FikpKawNRH19PZKTk0e1bUFLSwuam5sxZ86c6/4c/nB6S0sLUlNTERIScllzZ4vFwt6YU1NTRzSxwGg0sm22jo4OFlaEQuF1r6yMBH8vXV1dkEgkTtGG42osFguqq6vZqq+vr69Vixm1Wm3VYiY0NNRht+L5wNTb24u0tDSHWSW+FD9Pl//55cfT8VvF/MSMyspK6HS6cRH+KioqMDAwAKlUysLfxx9/jI0bN6KwsBALFiyw92WSCYYCIHF4fABsaGhAZ2cnkpOTUVFRwd7kRnt7q729HXV1ddf927jJZEJ5eTn6+/vZmy4/BJ4PfwaDAadPn4bJZEJqauqobmPxYYU/N2ixWNjK1WgewucZjUacPn0aRqNx1O9lrPEtawwGAyQSyRVDxtVm6fKvsaOssJnNZqsVJkcNqVfCj6fjq7b57wPfeNuZf8YsFgubICOVSuHh4QGO4/DZZ5/hxRdfxL59+3DHHXfY+zLJBEQBkDg8k8kEs9mM5uZmNDc3w2QywcPDA6mpqTZ5k+Or7m677baffG5/fz8UCgU8PT2RkpJiNa6OL/bo6+tDaWkp/P39kZSUZNOqXo7jrOboDi9yCA8PH/EqCt8U2dPTE8nJyaMeLscSXzjk6uqK1NTU674XvV7PwuDNtpgZbSaTCWVlZbBYLJBIJE49qcRoNEKhUGBgYAAuLi4wmUwIDQ11+EKoK+HPL/b29iI9PZ2Fv6+++grPPvss8vLysHTpUntfJpmgKAASh8cHwPPnz+PixYuIjo626Yi0rq4uVFRUYOHChdd8nkajgUKhQGRkJKZNmwaO41ixBx/++OrYqKgou/SS6+vrYyuDvb29CAgIYOcGb3TlSqvVorS0lDVedpYzcVfCT4nx8/PDrFmzbvpehreY6ejoAACbtEC5Fj4wubm5sZYizoqvkB1eJMEXQnV0dLCfYf41HstZ0DeKr1zu7u5Geno6++WroKAAv/zlL/Hll18iIyPDzldJJjIKgMThGY1G1NXVoaamBu7u7jbfLunp6YFcLsd//Md/XPU5LS0tqK6uxrRp0zB58uTLij2AoYbU586dc5jq2MHBQbZy1dnZyVauhEIhAgICrvlGyvfFu1bVsrPggyw/a3m07oXjODYtg28xw7dACQ8Pt8k25uDgIBQKBXx8fEYUZB0B3xuPb49ypVXMwcFBVlXc2dkJNzc3tjLoSD0z+UKcrq4upKens+99YWEhnnjiCXz66adW0zcIsQcKgMThnTlzBvX19bjllltw8eJFLFq0yKZfT6vV4scff8Rdd9112cf4MVRNTU2sse6Vij3OnTuH9vZ2pKSkIDg42KbXezP4lSuVSoWOjg64uLhYNZ8eHiSam5tRU1Nz3SPEHJlGo0FZWdmY9Cu8tMWMn58fC4OjUbU9MDAAuVyOoKAg1kfSWZnNZpSWloLjONYb76dYLBZWqNPR0cHG0w3v6WgPfEV5Z2enVfjbv38/HnnkEezcuRP33nuvXa6NkOGc9wAPmTAmTZqEyMhIGI3G654FPBJ802aO46zepPmCAZ1Oh5/97Gfw8fG5LPzxz9Hr9bj11lsddlSVm5sbRCIRRCKR1RtpdXW1VcWrVqtFS0sL0tLSHDLI3gi+92JCQgKioqJs/vWGT8sYPvqvoaEB7u7u7DW+NHBfj76+Psjl8lFfxbQHk8nEJohcb/gDhnpqhoaGIjQ0FBzHoa+vDx0dHWhra8PZs2fh5+fHXuOfWuEeLfwviPy0Ej78HT58GI8++ih27NiBNWvW2Pw6CLkeFACJw/P19YXJZALHcTCZTDb/evw20vAAyJ8Zc3d3x5w5c+Du7s7CKB/+BgYGUFpaCi8vL8yePdtpDuIPfyOdNm0atFotlEolzp49C5PJhMDAQOh0Onh7ezttNWZzczPOnTuHpKSkEc/CvRkeHh4Qi8UQi8WwWCysHx4fuG+kyIFvfB4VFTVqvS/txWQyQaFQsEKcm93CFQgE8PPzg5+fHxtPxwduft7u8MBti7OZfPNtpVJpNaru2LFjeOCBB/DOO+/goYcecurvFxlfKAASp8HPy+RX3Gz5dQCwM30ajQalpaUQiUSYPn06C6J8oYdAIEB3dzfKysoQERGBhIQEp92OEwgE8Pb2Rk9PD3x8fDBt2jT09PSgvb0dNTU18Pf3Z1vFvr6+Dv9mNrxZtUQicYhVTD6M8MU0fIuZxsZGVFdXX7PFTHd3N0pLS9lZTGfGF6+4u7uzcYmjxd3dHZGRkYiMjITFYkF3dzc6OjpQW1uL/v5+hISEsEA4Gr0SOY7DhQsX0NbWhvT0dLbyf/LkSdx7771444038Pjjjzv83xcysVAAJA6P/0fz0mBmK8O/jlqtRlVVFRISElixh8VigUAgYNfAz47ln+PM+FVMHx8fSCQSuLq6IigoCDExMWwbU6VSoa6uDp6enqyiOCgoyOHe3PizWGq1GrNnz3bIZtUCgQABAQEICAhAXFycVYuZ2tpaeHt7szDI9/mLj493+p8zo9EIuVzO2gnZsnjDxcUFISEhCAkJQUJCAvr7+9lrfO7cOVYMFRYWhsDAwJv6t+XixYtoaWlBeno6C+3FxcW45557sHnzZqxdu9bh/n4QQkUgxOFZLBYYjUZwHIfvvvsOCxcutPmEg++++w5RUVFoa2tDSkoKwsLCLjvvx//W39TUhOTkZISGhtr0mmytp6cHZWVlEIlEP3muzGw2s/YnarUaAKyaT9u7GtNsNrMpEo48EeNahreYUalUMJvNCAoKQnR09Ji1mLEFg8EAhUIBLy8vJCcn23W13Gg0Wo2nA8BWZ0NDQ6/rGEddXR0aGhqQnp7OfskoLS1FRkYGXnnlFaxfv57CH3FIFACJw+MDIAAcPHgQc+fOtelqjslkwqFDh+Dh4YHZs2ez0WDDwx8fMLRaLVJTUx1ydelGqNVqVFRUIC4uDtHR0Tf0hmWxWNDT08P6DQ4ODiI0NBRCodAujXuNRiPKy8thsVhs1ix8LLW2tuLMmTOYOnUqTCYT1Go128a0ZYsZWzAYDJDL5Q7ZtoZvos6fHezr60NQUBDbKr5S38z6+nrU19dDKpWyiUQVFRVYsWIFXnrpJWzcuJHCH3FYFACJw+M4DgaDAQBw5MgRSCQSBAUF2eRr6fV6KBQKFuz4rTfg382d9Xo9ysrK4OrqipSUFKcPGE1NTTh//jwSExNHPFOZr8ZUqVRQqVTQ6XQICgpi5wZtvRLH98XjV5fsvRI5Uo2NjaitrWXzpXm2bjFjC4ODg5DL5fDz80NSUpJDhb8rGRgYYGFQo9HAy8uLhcGgoCA0NTXh4sWLkEqlbK53dXU1li9fjmeeeQavvvqqQ34fCOFRACQOb3gAPHbsGBITE22y3cofsA8PD0dnZydmzJjBigb48Nfb24uysjKEhoZixowZDv8mdi181WJraytSU1NtEqr5M20qlQoajQa+vr7s3OBoB5W+vj4oFAoEBwc7fV88juPY1mJaWhoCAwOv+lz+bCb/H98c+WZbzNiCXq+HXC5HYGCgU35v+CMPfCDkuxLExsYiODgYISEhqKmpwfLly/Hkk09i8+bNNgl/x44dwxtvvAG5XI62tjYUFBQgMzOTfZzjOLz++uvIzc2FRqPBnDlz8N577yExMZE9Z3BwEC+99BL+/ve/Y2BgAHfeeSe2b98+Jq2RiGNxzkMkZMLie/SNtra2NlRWViI+Ph7R0dE4ceIElEolPD092fauUqlEVVUVpk6dipiYGKf+7d5sNrMZpfw2ty14eXlh8uTJmDx5slVrDr4XHh9UgoODRxQKenp6UFpaikmTJtll5N5o4oM5X1HKby1ezaUtZviejmfOnIHRaLT7HF29Xo+SkhIWzJ3xe+Pq6gqhUAihUMhWzCMiItDa2oo5c+ZgypQp0Gq1WLJkCf74xz/a7B77+vqQkpKCJ554Avfcc89lH9+2bRvefPNN7Nq1CwkJCdi0aRPuuusuVsEPANnZ2fjHP/6BL774AqGhoXjxxReRkZEBuVzu9Cvm5MbQCiBxCoODgwCAf/3rX5g8efKojVbjOA61tbWor69HSkoK2/Lt6OhAc3MzG5nm4eGBnp4eJCUljXib1N4MBgPKysoAwG5n5PheePy5QYvFYlVEciMFDp2dnSgvL0dcXBxiYmJseNW2x48Q6+zsRFpa2oiCOcdx0Ol0bNqLVqu9ZosZW+CnlYSEhGDGjBlOGf6Ga2lpQU1NjVVLoZMnT2Ljxo3QaDRoa2tDWFgYMjIy8Oqrr9q056RAILBaAeQ4DmKxGNnZ2diwYQOAoX83RSIRcnJysHbtWvT09CA8PByffPIJ7rvvPgBDZ0wnT56Mb775BkuXLrXZ9RLHQyuAxKmM5gqg2WxGRUUFenp68LOf/Qx+fn6s2IM/62MwGFBeXo6enh4AwLlz59Dd3Q2hUOiQrU9+Sn9/P0pLS9k5LHv9xj+8Fx5/+F6tVuPChQuorKy0KnDw9PS86p/Dt+AZD2PqLBYLKyyaPXv2iAs7BAIB/P394e/vz1rM8CuwFy5cgJeXF3uNb7b9ybX09/dDLpcjPDzc6aeVAEM/azU1NUhNTWXhr7m5Gb/4xS+wdOlSbN++HQaDAUePHkVhYeGYTwGqq6tDe3s7lixZwh7z9PTEwoULceLECaxduxZyuRxGo9HqOWKxGElJSThx4gQFwAmGAiBxCnzbFTc3t1GZBqLX69n4qTlz5sDDw+OySl8+/FksFsyfPx/u7u5s1aq8vBwCgeCq83MdEd+sWiwWIz4+3mHekAUCAYKCghAUFIT4+HhW4NDa2oqzZ88iICCAnRscvmrV0NCACxcusJnMzozv8Tc4OIjZs2fbZFXWy8sLUVFRiIqKgslkYu1PysvLAYD90jMaLWb4UXUikQgJCQkO87N2s9rb23HmzBmkpKSwYpy2tjasXLkSd9xxB9577z24uLjAy8sLy5Ytw7Jly+xyjQAu26EQiURoaGhgz/Hw8LisIbpIJGKfTyYOCoDEqYzGCmBPTw8UCgVCQ0PZ4ehLx7rpdDqUlZUhICAAiYmJbKWMXzHhpwuoVCqcOXOGzc8VCoUO2aONP794yy23IDo62t6Xc03DZ+gODg5aNUbmm/byj0ul0msWSDgDk8mEsrIyWCwWSKXSMRkh6Obmxs60XboCW1FRMaIWM319fSgpKUFkZKRD/aJxs5RKJaqrq616fSqVSmRkZGDOnDn48MMPHers3KWv96Uzza/kep5Dxh/Hepci5CeMNAC2t7ezfndTpkyBxWIBfwyWX8Hr6OhARUUFJk+efNVZq8OnC0ybNg29vb1WW5h8H7zw8HC7zwTmV8rsNQd3JDw9Pa1WrfggqNfr4e7ujpaWFhiNRqdYgb0Sg8GA0tJSuLm5QSqV2iVIXGkFtqOjA0qlEjU1NTfUYkan00Eul2PSpElOP6cYAFQqFSorK5GcnIywsDAAQ/8+rFq1CsnJydi1a5fDhL+IiAgAQ//GDT8OoVKp2KpgREQEDAYDNBqN1SqgSqXCvHnzxvaCid1RACROYfgWMN8U+kbwM2EvXryI5ORkCIXCy7Z8gaG+a+fPn7+hM2UCgQCBgYEIDAzELbfcAp1OB7VajaamJlRXVyM4OJiFwbFs2MtxHGpqaqBUKsfFSplAIEB7ezvc3Nxw2223sZFefLUrv4UZFhZm99B9PfiehY7WFJlfgeXH//HTSBoaGqxazAQHB1uFH61WC7lcjsmTJ2Pq1KlOH/745uizZs1CeHg4AKCrqwurV69GfHw8Pv30U4da6Y+NjUVERAQOHjwIiUQCYOgXjKKiIuTk5AAAW2E+ePAg7r33XgD/7oCwbds2u107sQ/H+ekl5Dq4urpCr9ff0OfwUzv4vlj+/v4wm83gOI6FP4vFgpqaGqhUKkil0hH1xPPz84Ofnx9iY2MxMDAAtVrNVlOudp5ttPEFLn19fbj11ludchTacHzlsouLC9LT0+Hu7g5vb2+EhoZi2rRp0Gq1UKvVqK+vR1VVld1C9/Xiq2ODgoIcui+eh4cHIiMjERkZec0WM56enqioqEB0dDSmTp1q78sesc7OTlRUVFitmvf09CAzMxNRUVH44osv7PJLhk6nQ21tLfv/uro6lJWVISQkBNHR0cjOzsaWLVsQHx+P+Ph4bNmyBT4+PnjwwQcBAIGBgXjqqafw4osvIjQ0FCEhIXjppZcwa9YsLF68eMzvh9gXtYEhTsFoNMJisaC+vh5dXV1IS0u7rs/jV1kAIC0tDe7u7rBYLFYrf0ajERUVFRgcHERqaqrNwpLBYGBNkTs7O+Hr64vw8HCIRCL4+fmN2ooJv63o4uKC1NRUp1gNu5aBgQGUlpbC19f3uiqXBwYGWHuZ7u5u+Pv7s2IdX19fu69M8QUSQqHQaatj+RYzarUa7e3t6OvrYz0fw8PD4ePj45T3BQyt8pWVlWHGjBlsF0Cr1UImkyEwMBB79+612y8VR48exR133HHZ44899hh27drFGkHv2LHDqhF0UlISe65er8evf/1rfP7551aNoCdPnjyWt0IcAAVA4hRMJhPMZjOam5vR1taG2bNn/+Tn9Pb2sskQiYmJbKUP+Pdkj/7+fpSVlcHb2xuzZs0asy0dk8mEjo4O1qPN3d2dHcofSXuZvr4+lJaWIjAwEImJiQ67snS9dDodFAoFwsPDMX369Bt+XfgpGXzo9vT0ZGHQHm18+J/JqKiocXFGjp+eEx0dDU9PT6jVanR1dbEWM2FhYQgKCnKan0ONRoPS0lJMnz6d9Rrt6+vD3XffDXd3d7u0dyHEVigAEqfAB8D29nbU1dVh7ty513y+UqnE6dOnMXXqVMTGxl6x2EOj0aC8vByRkZF2bVVhNputmiLfbHsZ/n7GwzQMYOh+ysrK2LbiSO+HH+fFVxUD/67qDg0Ntflhfv5+YmNjMWXKFJt+rbHAh7+4uDiryvJLX2eO4266yfdY6u7uhkKhwLRp0zBp0iQAQ70M16xZA7PZjG+++YZNBSJkPKAASJwCHwDVajVqampw2223XfF5/AzVCxcuYNasWRCJRLBYLDCbzVbFHq2trThz5gymTZvmUDMwh7eXUalUMJvNrL1MWFjYVUNKe3s7qqqqHO5+bhZffZmQkGCT++E4jr3OarUag4ODrHLbFiPTOjo6cPr0aZvdz1jjt0l/6n6Gt5hRq9Xo7+9nLWbCwsIc5mwq3xoqPj6e3Y9er8d9990HnU6H7777DgEBAXa+SkJGFwVA4hTMZjNrXltRUYGFCxde9hx+kgI/RisgIOCySl9+9Ftzc7NVXy9HxHEcent7WRjU6/WXtZfhOA719fWoq6uzalXhzJqbm3Hu3Lkxa1vDcRz6+vpYGNRqtQgKCmKrViPd8lMqlaisrBwX00qAf4/eG75Sdr34ym3+fCZ/DjY8PBwBAQF2WbXmw9/wlczBwUE8/PDDUKlUOHDgwGWNkwkZDygAEqfAB8De3l4UFxfjzjvvtPr44OAgSktLwXEcJBIJPDw8Liv2MJlMqKysRF9fH1JTU8dkFupo4g/dK5VK6HQ6BAUFsfDCB15nxq/eNjQ0WI3bGmt6vZ4V62g0GhZShELhT/bBuxQ/zWR4KxFnxq9kDj8jd7OMRiMbTdfZ2QlXV1fWyickJGRM+utptVqUlJRg6tSpbI600WjEo48+ioaGBhw6dMihf0kkZCQoABKnwAfAvr4+HD9+3GqWJd9/LCgoCElJSXBxcWHNovliD71ej7KyMri5uSElJcXpK2N1Oh1Onz6NgYEBWCwWBAYGjkl7GVsZ3rMwLS0N/v7+9r4kANYhhS/WGd4H71rnMxsbG1FbW4vU1FQ2PsyZ8X3xhlfHjpbhLWbUajUMBgObFR0eHm6T0Xj8vxsxMTGIjY0FMHTU5Mknn8TZs2dx5MiRcRHaCbkaCoDEKfABUK/X4+jRo1iyZAlcXFzYXN7Y2FhMnTrVqtiDD389PT0oKytjlaTOUpF4Nfxqp7u7O5KTk8Fx3Ji0l7EVfuteq9UiLS3NYc6FXcpisVgV61gsliuO/xu+kpmWlub0DbiBoTOZfF+8S2fNjrbhLWb4LfmAgAAWvEejlY9Op0NJSYlV30Kz2Yy1a9eirKwMhw8fZpM1CBmvKAASp2CxWGA0GmEymfD999/jP/7jP9DS0oLa2lokJSUhIiLiisUe/Axc/nyPo4ehn6LT6VBaWorg4OArNhC2VXsZWzGZTCgvL4fJZGJb985g+PlMvriBb4qs1WqhUqkcaiVzJPgzjLNmzbLLKEG9Xs9WYbu6ulgrn/Dw8JtqMcPPKuZb8QBD4e+5557DiRMncOTIkRs+20iIM6IASJwCHwA5jsN3332HiIgIaDSaaxZ71NXVob6+ftycv+rq6kJ5efl1t0UZrfYytsKvZHp4eCA5Odlh24NcD76IpLGxEQaDAf7+/hCJRKz5tLPiq8uTk5Md4u/QlVrM8NvEoaGhP3m0o7+/HyUlJYiMjGStkiwWC1544QUcOnQIR48etWppQ8h4RgGQOAU+ABoMBhw+fBi+vr6YPXv2FYs9zGYzqqur0d3djdTU1HGxCtPW1obq6mpMnz79plYnbra9jK309/dDoVA4/Ci06zV8G3vWrFno7e1lK1be3t5sxSowMNDhVmGvpq2tDWfOnHHY6vIrtZgJDg5mr/WlRwkGBgZQUlICkUiE+Ph4Fv42bNiAwsJCHDlyZFyMsSPkelEAJE6B4zh0dXVBLpdDr9cjPT0dwcHBlxV78DNjASAlJQWenp52vOqRG36ebLTa1lxPexlb6u3tRWlpKSIjI9kbsTMzm804ffo0BgcHkZaWZrWNbTKZrFasXFxcHGoV9mr46uWUlBSnqYK9VosZd3d3yOVyhIeHs/F7FosFr7zyCnbv3o0jR44gPj7e5tdoMpnw2muv4bPPPkN7ezsiIyPx+OOP45VXXmE/C/w4t9zcXKtxbomJiTa/PjKxUAAkTqG3txc//PADYmJi0NLSgpkzZ7I2IXz402q1KCsrY6tKY72qNdosFgvOnDmDzs5OSCQSm61k6nQ6FgZ1Oh2Cg4NZGBztmad8D7mpU6eOi2kYJpMJZWVl4DjuJ+cuD1+FVavVMBqNbPsyLCzMYSrT+T6Mzly9fGn1ttlshq+vLyIjI1khyR/+8Ad8/PHHOHr0KKZPnz4m17V582a89dZb+Pjjj5GYmIiSkhI88cQT2LRpE55//nkAQE5ODjZv3oxdu3YhISEBmzZtwrFjx1BTUzMudjOI46AASJyCxWJBe3s7QkJCcPz4cfj7+yMmJoZVufItKmJiYkZlbJi9mUwmtqokkUjGbPj8wMAA6zXY09ODgIAAVkQy0obI/HmyGTNmjLiHnCMwGAysGjslJeWGfuHgOA5arZZVb/f19dk0eF+vpqYmnD9/HhKJZFw0Px4cHERxcTF8fHzg4+ODjz76CB999BFmzpyJ8+fPo7Cw8IpN5W0lIyMDIpEIH330EXvsnnvugY+PDz755BNwHAexWIzs7Gxs2LCB3YNIJEJOTg7Wrl07ZtdKxj8KgMRp6PV6VtjQ3NyMjo4OeHl5wcvLC93d3eNm0oJer0dpaSk8PT3tWhxhMBjYahXfXoYPgzfaXobvieeo58lu1ODgIORyOXx9fTFr1qwRb+UODAyw17q7uxt+fn4sDI5VK5/GxkZcuHABEokEQUFBNv96tsZ/jwICApCYmMjOB7/66qvYt28ffHx8UF1djTlz5uDhhx/Gr371K5tf05/+9Cd88MEHOHDgABISElBeXo4lS5bg7bffxgMPPICLFy8iLi4OCoUCEomEfZ5MJkNQUBA+/vhjm18jmTict+yOTCg//vgjSkpKsHLlSlbx19/fj1OnTkGv1wMAamtrodVqIRQKneqw/XBarRalpaUICwuze89CDw8PREVFISoqyqq9THFxMTw8PFivwWu91vzovZaWFkil0nHRE29gYIA1Hh+tAhZvb2/ExMQgJiYGBoOBbV/W1dWxtie2bOXDjxMcL30LDQYDFAoF/P39WfjjOA7bt2/Hrl278N1332H27Nloa2vD119/jf7+/jG5rg0bNqCnpwfTp0+Hq6srzGYzNm/ejAceeADA0Co5gMt6LYpEIjQ0NIzJNZKJgwIgcQoajQYff/wxXnjhBcybNw/Lli3DV199heDgYPzv//4vPDw8WMuT0tJSuLq6stWq4OBgpwiDnZ2dOH36NKZMmYIpU6Y41DW7ubkhIiICERERVu1lysrKrtpehj/D2NXVhdmzZzt1OxSeTqeDQqGAUChkxQSjzcPDA2KxGGKx2Oq1Li8vBwBW2BAaGjoq51z5IiOpVOr04wSBofN//Ors8PCXm5uLrVu34ttvv8Xs2bMBAJGRkfjFL34xZtf25Zdf4tNPP8Xnn3+OxMRElJWVITs7G2KxGI899hh73qU/VxzHOdS/B2R8oC1g4jQ4jkNDQwM++OAD/OUvf0FoaChiYmKwevVqyGQyREVFseo+jUYDpVIJlUrFAopIJPrJ8V320tLSgrNnzzrdNvbV2suEhYWhra1tzM8w2lJvby8UCgVrIDzWb8gcx6G7u5udGxwcHGTV22FhYTfVRPvChQtoamqCVCodFwUGfPjz9vZmW/Mcx2HXrl34zW9+g8LCQixYsMBu1zd58mRs3LgRzzzzDHts06ZN+PTTT3H27FnaAiZjilYAidMQCASor6/Hhx9+iHXr1uG5557D3r17kZeXh9/+9rdIS0tDZmYmZDIZpkyZgtDQUEyfPp0FlMrKSnAcx1arQkND7R4GOY5jb8ISicTpqi5dXFwQEhKCkJAQTJs2Db29vWhvb0d1dTUsFgtCQ0PR1dU1Ju1lbEmj0aCsrAyxsbF2q14WCAQIDg5GcHAw4uPjWfPppqYmVFdXW82D/qmCHf7nrqWlBenp6fDz8xuju7Ado9EIhUIBT09Pq/D32WefYePGjdi3b59dwx8w1Krm0n9zXF1dYbFYAACxsbGIiIjAwYMHWQA0GAwoKipCTk7OmF8vGd9oBZA4lU2bNiEyMhJPPfUUe4zjOLS3t2PPnj3Iy8tDUVERkpKSIJPJkJmZyXrN8Y1j+ZVBk8lkFQbHum2MxWJBdXU1NBoNJBLJuHgT1uv1UCgU8Pb2RlxcHDs3aOv2MrbU0dGB06dPIyEhAVFRUfa+nCvS6/WsB15XVxfrgScUCuHv72+1Wsmfy2xtbYVUKh0XP3cmkwkKhQJubm5ITU1l4e+rr77Cs88+i7y8PCxdutTel4nHH38c33//PXbs2IHExESUlpbil7/8JZ588kkW8HJycrB161bs3LkT8fHx2LJlC44ePUptYMioowBIxhWO49DZ2Ym9e/di9+7dOHz4MBISErB69WpkZWVhxowZLAzyzZCVSiUMBoPVZAxbV94ajUarGbjO3rAa+Pf5uLCwMPY68/gqV5VKNertZWyJn4PrTFvzRqMRnZ2dVvOgh8/Ora2thVKphFQqHRfnMs1mMxQKBVxcXJCamsp+kSsoKMDatWvx5ZdfYuXKlXa+yiFarRa/+93vUFBQAJVKBbFYjAceeAC///3v2RY+3wh6x44dVo2gk5KS7Hz1ZLyhAEjGLf7M1L59+5Cfn48DBw4gOjoaMpkMWVlZVttEOp2OrQwODAwgNDQUIpHIJg16BwYGUFpays4pOfMMXF53dzdKS0uva04x315GpVKx1aqbbS9jS/w0DGeeJW2xWNDV1cXODRqNRggEAsTHx0MsFjv9z57ZbEZpaSkAQCKRsPBXWFiIJ554Ap999hkyMzPteIWEOC4KgGTC6O3tRWFhIfLz87F//34IhUIWBtPS0tjZHH4yhlKpRF9fn9WYtJs5aH/pNZSWlrIqUnufQRwNfBPu+Ph4TJ48+YY+99KJDR4eHiwM2rOVD9+30JmnYQzHcRzOnDkDtVoNoVAIjUaD/v5+hISEsJ9tZ1uFNpvNKCsrg8ViQVpaGgt/+/fvx6OPPoqdO3dizZo1dr5KQhwXBUAyIfX19eHbb79FXl4evv76awQHB7Nq4jlz5rA3k/7+frYyqNVqERwcDJFIdFNvmHxQmjp1KmJiYhxmpWsk+OrlpKSky3qX3ajhLU/UarVdqrf52cuNjY2QSCTjoiceH/66uroglUrh7e0NYOjvAH9ukN+W588NOvrWsMViQXl5OYxGI9LS0thK5uHDh3H//fdjx44dePDBB8fF3zFCbIUCIJnwBgYGcODAAeTl5aGwsBBeXl5YvXo1MjMzMW/ePPbmwp9jUyqV6O3tRVBQEFut+qmiBn7E1syZMxERETEWt2VTHMehvr4e9fX1SElJGfVVsiu1l+HPsYWFhdmkYIfjOJw/fx5tbW3jpjiC4zhUVVWhp6cHUqn0qj+ng4ODVkUkXl5ebGXQ0ZqqWywWNiYxLS2NHdE4duwY1qxZg3feeQePPfaYQ10zIY6IAiAhwxgMBnz//ffIy8vDvn37IBAIkJGRgaysLCxYsIC92fBVl0qlEt3d3ayoQSQSsRUWwHoSRkpKyriYr8pxHGpqaqBUKpGWlmbzysThBTsqlQp6vd5qW340zmjyq2SdnZ2QSqUOXZhyvSwWC6qqqqDVaiGVSq97xdpkMqGzs5MFQhcXFxa+Q0JCxrxafjiLxYKKigoMDAxAKpWy7/2JEydw991344033sAvf/lLCn+EXAcKgIRchdFoRFFREXbv3o09e/bAaDRi5cqVyMzMxB133MHeUC8tavDz82MFJHV1dejt7YVEInH4bbXrYbFYUFlZid7eXqvtxLHCcRzrf3dpexmhUHhT59j4e9LpdEhLS3OqFjVXM/yebiT8XenP4Vdi1Wo1jEajVfPpseztyN9TX18fpFIpO49bXFwMmUyGTZs24ZlnnqHwR8h1ogBIyHUwm8344YcfkJeXh4KCAuh0OixfvhyZmZlYvHgxC0JGoxFqtRptbW3o6uqCi4sLJk+eDLFYDF9fX6d+czKZTFata0ZaEDMaRtpexmw2W20nOsI9jRS/Stbf328VlEaKr5bnwyAfvvlzg7YMzhzHobKyElqtFunp6eyeSktLkZGRgd/97nd44YUXnPrvFyFjjQIgITfIbDbjxx9/ZGGwo6MDS5cuRWZmJpYsWYLGxkZs2rQJ69evR2RkJDo6OtDR0QFvb28WTi5tzuvoBgcHUVpaCnd3d6SkpDhk+5AbbS9jMplQVlYGjuOQmprq1JNKePz5OL1eb/NAOzAwwNrLdHd3w8/Pj23Lj2Y7H47jUF1dzc4x8quZFRUVWLFiBX79619jw4YNTvX3iRBHQAGQkBGwWCyQy+XYvXs3CgoK0NjYCA8PD8yfPx8ffvghK44wm83o6OiAUqm0anciEokQEBDg0G9e/f39UCgUCAwMRGJiolO0rvmp9jJGo9Eq0NrzXNto4VczDQaDVXHEWDAYDFavt6enp1Xz6Zv9meHPZmo0GqSnp7PwV11djeXLl+PZZ5/F73//e4f++0OIo6IASMgoKSgowEMPPYQFCxagqakJFy5cwJ133onVq1cjIyMDQUFBEAgEMJvNbFKDWq2Gm5sbCyf8cxwF37cwIiICCQkJDnVt1+vS9jLAULDw9fW1aiHizMxms9X2vD1XM6/0evNh8EZGLnIch7Nnz6KzsxPp6elsi7mmpgbLly/HU089hU2bNjnlzyQhjoACICGj4Ntvv8WaNWvwySefICsri61c7N69G/n5+aiursbChQuRmZmJjIwMhIWFQSAQsEkNSqWS9b7jVwZHsnIyGrq6ulBeXo7Y2Nhx07ewv78fxcXFcHd3h8lkGpP2MrY2vCGyRCJxqEDLz9/mt+YHBwcRGhrKXvOrbVFzHIdz585BpVIhPT2dnbGtra3F8uXL8cADD2Dbtm1OsRpNiKOiAEjIKNDr9Th79ixSU1Mv+xjfCoYPg2VlZZg/fz4yMzOxevVqiEQiFgY1Gg17s+Q4jq0MhoSEjOmbXXt7O6qqqjBjxgyIxeIx+7q2xM8q5qewALB5exlbM5lMKC0thUAgQGpqqkOFv0vxFdz8uUGtVovAwED2evNFO3w/xvb2dqSnp7PH6+vrsWzZMmRmZuLtt9+m8EfICFEAJGQM8Q2U8/LykJ+fj1OnTuFnP/sZZDIZZDIZJk2aBIFAwOYY842n+ZUqoVB4Q9toN4Mfg+bMM3Av1dvbC4VCgaioKMTFxV22mmmL9jK2ZjKZoFAo4OrqitTUVKdbveR7afLNp319fREeHg69Xo/Ozk7Mnj2bhb/m5mYsXboUS5cuxfbt28c0/LW0tGDDhg349ttvMTAwgISEBHz00UeQSqUAhn52Xn/9deTm5kKj0WDOnDl47733kJiYOGbXSMjNoABIiJ1wHIfm5mbk5+cjPz8fx48fh1QqRWZmJmQyGdt25Rsh8yPpDAYDwsLCWK/B0Xrj5zgOFy5cQHNzM1JTUxEUFDQqf669aTQalJWVITY2FlOmTLmuzxlpexlb44tY3NzcxkURi9FoRGdnJy5evIi+vj54eHigtbUVXl5ekEgkkMlkWLBgAXJzc8f0XjUaDSQSCe644w786le/glAoxIULFzBlyhTExcUBAHJycrB582bs2rULCQkJ2LRpE44dO4aamhqbN0knZCQoABLiADiOQ3t7OwoKCpCXl4djx45h1qxZkMlkyMzMxC233MLCoFarZSuDer0eYWFhbBvtZrcALRYLmxcrkUjGxRg0AOjo6MDp06eRkJCAqKiom/oz+DFp19textaMRiMUCgU8PDyQnJzs9OGPd/HiRTQ2NiItLQ0GgwHvvfce/vrXv6K/vx8RERH405/+hBUrVoxpqNq4cSOOHz+OH3744Yof5zgOYrEY2dnZ2LBhA4ChnxeRSIScnBysXbt2zK6VkBtFAZAQB8NxHDo6OrB3717k5eXh8OHDmDZtGptPPGPGDBYG+/r62Mpgf38/QkJCIBKJbugMm9lsZo2Dx8skDABQKpWorKxEYmLiqM1f5tvLqFQqdHZ2XtZextZh0GAwQKFQwMvLC8nJyePmHBw/V1oqlbKA19HRgRUrViA6OhopKSnYt28famtr8cILL+BPf/rTmFzXzJkzsXTpUjQ3N6OoqAiTJk3CunXr8PTTTwMYCq1xcXFQKBSQSCTs82QyGYKCgvDxxx+PyXUScjMoABLiwPizgPv27UNeXh4OHjyImJgYyGQyZGVlISkpiYUA/gybUqmETqdDSEgICydXq7Y0Go0oKysDgHHTDBkYOrdVU1Nj03OMfDsf/hwbX8EtFAoRHBw86uHMYDBALpfDx8cHs2bNGjfhr6GhARcvXoRUKkVAQACAoQr0jIwMxMbG4n//93/Zz+X58+fR09OD9PT0Mbk2/peh9evXY82aNTh16hSys7OxY8cOPProozhx4gTmz5+PlpYWq2KpX/7yl2hoaMB33303JtdJyM2gAEiIE+nt7UVhYSHy8vKwf/9+REREsG3itLQ0FgoGBgbYymBvby+CgoLYyiD/pqbX66FQKFigGC9biXwRS2pqKmvEbWvDZ+aqVKpRL9oZHByEXC6Hn5+fVeh3dk1NTaitrUVaWhoCAwMBAN3d3Vi1ahUiIyORn59v1/F8Hh4eSE9Px4kTJ9hj//mf/4ni4mKcPHmSBcDW1lZERkay5zz99NNoamrC/v377XHZhFwXx+0ZQAi5TEBAAB588EE8+OCD0Ol0+Pbbb5GXl4eMjAwEBwezbeJbb70VU6ZMwZQpU6DX66FSqdDe3o6amhoEBgYiKCgIbW1tCAsLw/Tp08dFoOA4DhcvXkRTUxOkUikLFGPBxcUFISEhCAkJwbRp01h7mfPnz6OiogJhYWGs992NrrLq9XrI5XIEBgZi5syZ4+J7BQxV9tbW1kIikbDvVW9vL+6++26EhYVh9+7ddp/NHBkZiZkzZ1o9NmPGDOTl5QEAO1rQ3t5uFQBVKhVEItHYXSghN2F8/EtCxoXt27cjNjYWXl5ekEqlVz14TYb4+flhzZo1+OKLL6BUKvHnP/8ZPT09+PnPf47p06fjxRdfxLFjx+Dm5obo6GjMnj0bt99+O/z9/dHQ0IDBwUFotVo0Njaiv7/f3rczInzj4ObmZqSnp49p+LuUQCBAYGAg4uPjMW/ePMyZMwf+/v5obGxEUVER5HI5mpqaMDg4+JN/ll6vR0lJCYKCgpxmDN/1aGlpwblz5yCRSFi1uU6nw89//nP4+Phgz549DnEWdf78+aipqbF67Ny5c4iJiQEAxMbGIiIiAgcPHmQfNxgMKCoqwrx588b0Wgm5UbQFTBzCl19+iUceeQTbt2/H/PnzsWPHDvz1r39FdXU1oqOj7X15TkWv1+PQoUPIz8/H3r174erqioyMDGRlZUGpVOKPf/wj9u7di5iYGKjVaiiVSnR1dcHPz8+qutVZ8FNXOjs7IZVKHaJNy9XcSHuZgYEByOVyhISEsMKf8aC1tZU1Tee36Pv7+/Hzn/8cHMfh66+/dpifv+LiYsybNw+vv/467r33Xpw6dQpPP/00cnNz8dBDDwEYagOzdetW7Ny5E/Hx8diyZQuOHj1KbWCIw6MASBzCnDlzkJaWhvfff589NmPGDGRmZmLr1q12vDLnZjQaUVRUhN27d+Pvf/87BgYGsHLlSjz66KNYtGgRa3BsNBpZq5POzk54e3uzkXT2aHVyvSwWCyorK6HT6Zyugvla7WVcXFygUCjYFr2jvv43qr29HdXV1UhJSUFoaCiAoV9Y7rvvPvT19WH//v2sEMRRFBYW4je/+Q3Onz+P2NhYrF+/nlUBA/9uBL1jxw6rRtBJSUl2vGpCfhoFQGJ3BoMBPj4++Oqrr5CVlcUef/7551FWVoaioiI7Xp3z4zgO27Ztw5YtW/D73/8edXV12LNnD3Q6HVasWIHMzEzceeedbN6qyWRirU7UajU8PT0hEokgFAoREBDgMGHEbDbj9OnTGBwcRFpamt3Pi43E8PYyHR0dsFgs8Pf3x7Rp0xAUFOQwr/lIKJVKVFVVITk5GWFhYQCGQvBDDz2Ejo4OHDhwYNw0HyfEGVARCLG7jo4OmM3myw5Ni0QitLe32+mqxo/jx4/jrbfewtGjR1mvsj//+c/48ccfsXv3bmzYsAEdHR1YtmwZZDIZli5dioiICERERLBWJ0qlEnK5HO7u7mxlcCz63l0NPwMXAKRSqdO3r3F3d0dkZCQCAgKg0WgQGhoKNzc3lJeX27y9zFhQqVSorKy0Cn9GoxGPP/442tracOjQIQp/hIwxWgEkdtfa2opJkybhxIkTmDt3Lnt88+bN+OSTT3D27Fk7Xt34oNFoEBwcfMWPWSwWlJSUYPfu3SgoKEBrayvuuusuyGQyLF++nG3JWSwWdHZ2sjNsrq6uVsFkrMKgwWBAaWkp3N3dx8UYNJ5Op4NcLsekSZPYvGKLxQKNRsO2isdyJvRoUavVOH36NGbNmgWhUAhgKMA/+eSTqKmpweHDh8fNzGlCnAkFQGJ3tAXsOCwWC8rLy5GXl4f8/HxcvHgRixcvxurVq7Fy5Uq2HckHE77XoEAgQHh4OEQikU1Xqfjehb6+vuOqGbJWq4VcLsfkyZMxderUK4ZpfiY0H8CHjwEMCwtzyFVQfhRfYmIiW+E3m81Yu3YtysrKcOTIEWqXQoidUAAkDmHOnDmQSqXYvn07e2zmzJmQyWRUBGInHMehuroau3fvRn5+Ps6cOYNFixYhMzMTGRkZCA0NZSPpNBqNVRNkfmUwNDR01EJaf38/FAoFgoODMWPGjHET/np7e6FQKBAdHY2pU6de1+fwYwD511yn0yE4OJi97nxxjz11dnaivLwcM2fOZP3yzGYznnvuOZw4cQJHjx61mp5BCBlbFACJQ+DbwHzwwQeYO3cucnNz8eGHH6Kqqor13CL2w3Eczp8/z8JgeXk5brvtNmRmZmLVqlUQiUQsDPb09LCVQZPJhLCwMIhEohFtWep0OigUCohEIiQkJIyLoggA6OnpgUKhQGxsLKZMmXLTf86NtJcZC11dXSgrK8P06dNZyLNYLMjOzsaRI0dw5MgRau9EiJ1RACQOY/v27di2bRva2tqQlJSEt956CwsWLLD3ZZFLcByHuro65OXloaCgAKdOncLcuXMhk8mwevVqTJo0iYVBfstSqVRicHCQnV8LCwuDm9v11aDxK2TX2h51Rnz4mzp16qj+knOt9jJj0dKnu7sbCoUC06ZNw6RJkwAMhb+XX34ZX3/9NY4ePYrY2FibXgMh5KdRACSE3DSO49DU1IT8/HwUFBTg+PHjSE9Ph0wmg0wmQ0xMDAuDOp2OrQwODAwgNDQUQqHwmuPRNBoNysrKRj0k2Vt3dzdKS0sRFxdn05WwS9vLeHp6sjBoiypu/r7i4+MRFRUFYCj8vfLKK9i9ezeOHDmC+Pj4Uf2ahJCbQwGQEDIqOI5DW1sbCgoKkJ+fj2PHjiE5OZmFwVtuuYUFDp1OZ3V+LSQkBCKRCOHh4ayfH19AkJCQwMLEeKDRaFBaWjrm98W39OH7O7q4uIxqexl+RfOWW27B5MmTAQz9TPzhD3/A3/72Nxw5cgTTp08fjVshhIwCCoCEkFHHcRw6OjqwZ88e5OXl4fDhw5g+fTpkMhkyMzOtplv09/ezbWKtVovg4GB4e3ujtbUVSUlJrIBgPODPxg3fHrWH0W4v09vbC7lcbrVSy3Ec/vSnP2HHjh04fPgwTcYgxMFQACTk/2zduhX5+fk4e/YsvL29MW/ePOTk5GDatGnsOfzYp9zcXKuxT4mJiXa8csfGVwnv27cPeXl5OHjwIGJjYyGTyZCVlYXExES2+jQwMICamhqo1WoAQFBQEJtC4kxj3q6Er4odXhjhCK50VvNG2svwLWymTJnCClk4jsNbb72Ft956C4cPH0ZKSsoY3Akh5EZQACTk/yxbtgz3338/Zs+eDZPJhP/6r/9CRUUFqqur4evrC2Bo8PvmzZuxa9cuJCQkYNOmTTh27BgNfr8BPT09KCwsRH5+Pvbv34/IyEi2Mvj111/j+++/x549e+Dj4wO1Wg2lUonu7m5W2SoSidjYOmehVqtRUVGBGTNmIDIy0t6Xc1VXai8TEhLCVgcvbS+j0+lQUlJi1cKG4zi8++67yMnJwYEDB5Cenm6PWyGE/AQKgIRchVqthlAoRFFRERYsWACO4yAWi5GdnY0NGzYAGKq4FIlEyMnJwdq1a+18xc5Hp9Phm2++QV5eHv7xj39AIBDg3nvvxSOPPILZs2ezrUiDwcBCSVdXF/z8/NjKIB/OHZVKpUJFRQWSkpKcrunxtdrLcByHkpISREVFIS4uDsBQ+MvNzcXrr7+O/fv342c/+5ndrn3r1q347W9/i+effx5vv/02uz5awSdkyPjopEqIDfT09AAAQkJCAAB1dXVob2/HkiVL2HM8PT2xcOFCnDhxwi7X6Oz8/PywZs0aiMViBAYGYuvWrTCZTLjnnnswY8YMvPjii/jhhx/g4uKCqKgopKWlYeHChYiOjkZ3dzdOnjyJkydP4sKFC9DpdHC032eVSiUqKiowa9Yspwt/AODt7Y2YmBjMnj0bt99+O8RiMbq6unDixAmcPHkSPj4+CA4OhsViAcdx2LVrF1599VX84x//sGv4Ky4uRm5uLpKTk60e37ZtG9588028++67KC4uRkREBO666y5otVo7XSkh9nN9jbgImWA4jsP69etx2223scPr7e3tAHDZG7lIJEJDQ8OYX+N48emnn2Lv3r04fvw420bU6/U4dOgQ8vLy8NBDD8HNzQ0ZGRnIysrCbbfdBrFYDLFYDJPJxAoZ6uvr4eXlxVYG/f397dozsL29HVVVVUhOTh4Xs249PT0RFRWF0NBQFBcXw9/fHy4uLvjNb36Dw4cPQyKR4PDhwygsLMTtt99ut+vU6XR46KGH8OGHH2LTpk3scY7j8Pbbb+O//uu/cPfddwMAPv74Y4hEInz++ee0gk8mHFoBJOQKnn32WZw+fRp///vfL/vYpaGC47hx05zYHh588EH861//shqD5uXlhZUrV+L//b//h7a2NnzyySdwdXXFk08+ibi4OKxbtw4HDhyAxWJBZGQkUlJSsGjRItxyyy3o7+9HSUkJjh8/jnPnzqG7u3vMVwbb2tpQXV2NlJSUcRH+eAMDAygpKYFIJEJqaipSUlLwxhtvYM2aNaioqICrqysefvhhrFu3DocOHbLLNT7zzDNYuXIlFi9ebPU4reATYo0CICGXeO6557Bv3z4cOXLEqk8b346EXwnkqVQqp9zecxSurq7XDEnu7u646667sGPHDrS0tGD37t3w9fXFM888gylTpuDpp59GYWEhjEYjRCIRkpOTsXDhQiQkJMBgMKC0tBQ//PADzp49C41GY/Mw2NraijNnziAlJQVhYWE2/VpjSa/XQy6XIywszGoc3/fff4+//vWv2L59O7q6uvC3v/0NAoEAubm5Y36NX3zxBRQKxRXnh19rBf/Sv9OETAS0BUzI/+E4Ds899xwKCgquOK4qNjYWEREROHjwICQSCYCh4oSioiLk5OTY45InHDc3NyxatAiLFi3CX/7yF5w8eRJ5eXl4+eWX0dXVhWXLlkEmk2HJkiWsWMFisaCrqwsqlQrl5eUQCASj2gB5uObmZpw7dw6pqans7Oh4wIe/kJAQqx6OhYWFWLt2LT777DOsXLkSALB48eLLVt/GQlNTE55//nkcOHDgmi2DaAWfkCFUBUzI/1m3bh0+//xz7N2716r3X2BgIGs7kpOTg61bt2Lnzp2Ij4/Hli1bcPToUWoDY2cWiwXFxcVsPnFrayuWLFkCmUyG5cuXs++NxWJBd3c3G0nHcRzCw8MhEokQEhIyojDY1NSE8+fPQyKRIDg4eLRuze4GBwchl8sRGBiImTNnsrC0f/9+PProo9i5cyfWrFlj56sE9uzZg6ysLKsm1mazGQKBAC4uLqipqcEtt9wChULBfoEDAJlMhqCgIHz88cf2uGxC7IYCICH/52qrADt37sTjjz8O4N9tJHbs2GHVRoKmHDgOi8WC8vJy7N69G/n5+aivr8edd94JmUyGlStXshm4HMehu7ubNUAeyTSMxsZGXLhwARKJBEFBQba7uTFmMBhQUlICf39/JCUlsb8jhw8fxv3334/c3Fw88MADDrGCptVqLyvGeuKJJzB9+nRs2LABiYmJEIvFeOGFF/Dyyy8DGLo/oVBIbZzIhEQBkBAybnEch6qqKuzevRsFBQU4e/YsFi1ahMzMTGRkZCAkJISFwd7eXrYyaDAYEBYWBpFIhLCwsGuGwYaGBly8eBFpaWkIDAwcw7uzLYPBALlcDl9fXyQlJbHV0WPHjmHNmjV455138NhjjzlE+LuaRYsWITU1lfUBpBV8Qv6NAiAhZELgOA7nzp1DXl4e8vPzUV5ejttvvx2ZmZlYtWoVhEIhC4NarZatDOr1ejYaLTw8HG5u/z46XVdXh4aGBqSlpSEgIMCOdze6jEYj5HI5vL29MWvWLBb+Tpw4gbvvvhv//d//jaefftqhwx9weQCkFXxC/o0CICFkwuE4DnV1dSwMlpSUYO7cuZDJZFi9ejXEYjELg319fWxlsK+vD6GhoRCJROjr60NLSwukUum4Wj0yGo1QKBTw8PBASkoKC3+nTp1CZmYmNm3ahGeeecbhwx8h5NqoDQwhTmjr1q0QCATIzs5mj3Ech9deew1isRje3t5YtGgRqqqq7HeRDkwgEGDq1Kn49a9/jRMnTuDChQu4++67sXfvXsyYMQOLFy/Gn//8ZzQ2NsLX1xdxcXGYO3cu5s6di8DAQJw/fx719fXw8fFBT08PDAaDvW9pVJhMJpSWlsLd3d0q/CkUCmRlZeHVV1+l8EfIOEEBkBAnQ2OuRpdAIEB0dDSys7NRVFSExsZGPPzwwzh48CCSk5OxYMEC/M///A9qa2vh5eWFd999F5WVlZBIJBAKhWhtbcWxY8dQUlKCxsZG6PV6e9/STTGbzSgtLYWrq6tV+Dt9+jRkMhk2btyI7OxsCn+EjBO0BUyIE9HpdEhLS8P27duxadMmdr6J4ziIxWJkZ2djw4YNAIbad4hEIqpwvEkcx6GjowMFBQXIy8vD4cOHERsbi46ODrz//vvIyMhgYUiv17Mzgz09PQgICGAj6fgWQo6MD38AIJFIWNFLdXU1li9fjueeew6/+93vKPwRMo5QACTEiTz22GMICQnBW2+9ZXXA/eLFi4iLi6MeZzZisViwbt06fPXVV7j11ltx5MgRTJ06FTKZDFlZWZg5cyZbMRscHIRarYZSqYRGo4G/vz+EQiFEIhF8fHzsfCeXM5vNKCsrg8ViQVpaGgt/NTU1WL58OZ566ils2rSJwh8h4wxNAiHESfBjroqLiy/72LXGXF3aG43cuJdeegn79+9HSUkJYmNj0dPTg3/84x/Iz8/HHXfcAbFYjMzMTMhkMqSmpiIqKgpRUVEwGAxQq9VQqVS4cOECfH192cqgn5+fvW+L9Uw0m81W4a+2thYZGRl45JFH8Mc//pHCHyHjEAVAQpwAjbmyrxUrVuD5559HTEwMgKHpMA8//DAefvhh6HQ6fPPNN8jLy8Py5csRFhaG1atXIzMzE7Nnz8akSZMwadIkGI1GdHR0QKlUoq6uDt7e3mxl0M/Pb8y/T3z4MxqNSEtLY+1t6uvrkZGRgXvuuQc5OTmjOiqPEOI4aAuYECdAY66cQ39/P7777jvk5eXh66+/hp+fH1atWoXMzEzMnTuXff9MJhM6OjqgUqnQ0dEBDw8PtjIYEBBg8zBosVhQUVGBgYEBSKVSuLu7Axj6RWPZsmVYunQptm/fTuGPkHGMAiAhToDGXDkfvV6P77//Hvn5+di7dy/c3d2xatUqZGVlYf78+Sx0mc1mdHZ2QqlUoqOjA25ubmxlkB9bN5osFgsqKyvR19eH9PR0dh1tbW1YunQpFi5ciNzc3BsahUcIcT4UAAlxUjTmynkYjUYcOXIEeXl52LNnD8xmMzIyMpCZmYlFixbBw8MDwFA46+zshEqlglqthkAgYCuDQUFBI16R4zgOlZWV0Gq1SE9PZ19XqVRi+fLluPXWW7Fz504Kf4RMABQACXFSNObKOZlMJvzwww/YvXs39uzZg/7+fqxcuRKrV6/G4sWL2RlPi8UCjUYDpVIJtVoNjuMgFAohFAoREhJyw2GQn4vc29sLqVQKT09PAEBHRwdWrFiBpKQkfPrpp1aj7ggh4xcFQEIIsROz2YwTJ04gLy8PBQUF6O7uxrJlyyCTybBkyRLWNobjOGg0GqhUKqhUKpjNZoSHh0MkEiE0NPQnwyDHcThz5gw0Gg3S09NZ+Ovq6sLKlSsRFxeHL7/8km0HE0LGPwqAhBDiACwWC4qLi7F7924UFBSgvb0dd911FzIzM7Fs2TK2jc9xHHp6eth8YqPRiPDwcAiFQoSFhV22fctxHM6ePYvOzk6kp6ezFcbu7m6sWrUKYrEYeXl5bDuYEDIxUAAkhBAHY7FYUFZWxsJgfX09Fi9eDJlMhhUrVrDiEI7joNVqoVQqoVQqMTg4iLCwMIhEIhYGa2pqoFarkZ6ezqaS9Pb2IjMzE0FBQdizZ881WwvZwtatW5Gfn4+zZ8/C29sb8+bNQ05ODqZNm8aewx9pyM3NtTrSkJiYOKbXSsh4RTX+hJBR0dLSgocffhihoaHw8fFBamoq5HI5+zjHcXjttdcgFovh7e2NRYsWoaqqyo5X7LhcXFyQlpaGLVu2oLq6GsXFxZBKpfjLX/6C2NhY3HPPPfjb3/6Grq4u+Pv7Iz4+HvPnz8ett94KPz8/XLx4EUVFRTh+/Dja29uRmprKwp9Op8PPf/5z+Pr6oqCgYMzDHwAUFRXhmWeewY8//oiDBw/CZDJhyZIl6OvrY8+h2daE2BatABJCRkyj0UAikeCOO+7Ar371KwiFQly4cAFTpkxBXFwcgKEq5c2bN2PXrl1ISEjApk2bcOzYMapSvgEcx+HcuXPIy8tDXl4eTp8+jQULFkAmk2HVqlUQCoUQCASwWCz45z//CZPJBC8vLzQ1NWHHjh1Yvnw5Dh8+DACsT6EjUKvVEAqFKCoqwoIFC2i2NSFjgAIgIWTENm7ciOPHj+OHH3644sfpDX30cRyHixcvIi8vD/n5+ZDL5Zg7dy5kMhmqqqrw/fff49SpUwgICEBzczM++OADFBQUoKGhAbfffjvuv/9+ZGVlISIiwt63gtraWsTHx6OiogJJSUk025qQMUBbwISQEdu3bx/S09OxZs0aCIVCSCQSfPjhh+zjdXV1aG9vx5IlS9hjnp6eWLhwIU6cOGGPS3Z6AoEAcXFxePnll3Hy5ElcuHABWVlZeOedd/D3v/8dU6dOxa5du9DY2Ijw8HCcPXsW4eHhKC8vR1ZWFj7//HNERUXh9OnTdr0PjuOwfv163Hbbbaxl0bVmW/MfI4SMDDV8IoSM2MWLF/H+++9j/fr1+O1vf4tTp07hP//zP+Hp6YlHH330mm/ol044ITdOIBAgOjoaBoMBfX19KCwsxJkzZ5Cfn49XXnkF/v7+EAqFOHnyJEJCQjBr1ixkZ2ejra3tsu/JWHv22Wdx+vRp/POf/7zsYzTbmhDboRVAQsiIWSwWVrQgkUiwdu1aPP3003j//fetnkdv6LZz/vx5vPXWWzh48CDuvPNOPPvsszh06BBaW1uRmZmJvLw8hISEWH1OZGSkXef9Pvfcc9i3bx+OHDmCqKgo9ji/LX3pap9KpbJ7YCVkvKAASAgZscjISMycOdPqsRkzZqCxsREAvaGPhfj4eNTW1iI1NZU9JhAIIBQKsXPnToeaCMNxHJ599lnk5+fj8OHDiI2Ntfp4bGwsIiIicPDgQfaYwWBAUVER5s2bN9aXS8i4RAGQEDJi8+fPR01NjdVj586dQ0xMDAB6Qx8rjlLV+1OeeeYZfPrpp/j888/h7++P9vZ2tLe3Y2BgAMBQcM3OzsaWLVtQUFCAyspKPP744/Dx8cGDDz5o56snZHygM4CEkBF74YUXMG/ePGzZsgX33nsvTp06hdzcXOTm5gKwfkOPj49HfHw8tmzZQm/oExR/NGDRokVWj+/cuROPP/44AODll1/GwMAA1q1bxxpBHzhwgFoGETJKqA0MIWRUFBYW4je/+Q3Onz+P2NhYrF+/Hk8//TT7OD/ZYceOHVaTHRxpa5IQQiYKCoCEEEIIIRMMnQEkhBBCCJlgKAASQgghhEwwFAAJIYQQQiYYCoCEkAnBZDLhlVdeQWxsLLy9vTF16lT84Q9/gMViYc/hOA6vvfYaxGIxvL29sWjRIlRVVdnxqgkhxDYoABJCJoScnBx88MEHePfdd3HmzBls27YNb7zxBt555x32nG3btuHNN9/Eu+++i+LiYkREROCuu+6CVqu145UTQsjooypgQsiEkJGRAZFIhI8++og9ds8998DHxweffPIJOI6DWCxGdnY2NmzYAAAYHByESCRCTk4O1q5da69LJ4SQUUcrgISQCeG2227DoUOHcO7cOQBAeXk5/vnPf2LFihUAgLq6OrS3t2PJkiXsczw9PbFw4UKcOHHCLtdMCCG2QpNACCETwoYNG9DT04Pp06fD1dUVZrMZmzdvxgMPPADg33OKL51NLBKJ0NDQMObXSwghtkQBkBAyIXz55Zds/mxiYiLKysqQnZ0NsViMxx57jD1PIBBYfR7HcZc9Rgghzo4CICFkQvj1r3+NjRs34v777wcAzJo1Cw0NDdi6dSsee+wxREREABhaCYyMjGSfp1KpLlsVJIQQZ0dnAAkhE0J/fz9cXKz/yXN1dWVtYGJjYxEREYGDBw+yjxsMBhQVFWHevHljeq2EEGJrFAAJIRPCqlWrsHnzZnz99deor69HQUEB3nzzTWRlZQEY2vrNzs7Gli1bUFBQgMrKSjz++OPw8fHBgw8+aOerdyzbt29HbGwsvLy8IJVK8cMPP9j7kgghN4jawBBCJgStVovf/e53KCgogEqlglgsxgMPPIDf//738PDwADB03u/111/Hjh07oNFoMGfOHLz33ntISkqy89U7ji+//BKPPPIItm/fjvnz52PHjh3461//iurqakRHR9v78ggh14kCICGEkOs2Z84cpKWl4f3332ePzZgxA5mZmdi6dasdr4wQciNoC5gQQsh1MRgMkMvlVr0SAWDJkiXUK5EQJ0MBkBBCyHXp6OiA2Wy+Yq9Evo8iIcQ5UAAkhBByQ6hXIiHOjwIgIYTYybFjx7Bq1SqIxWIIBALs2bPH6uMcx+G1116DWCyGt7c3Fi1ahKqqKqvnDA4O4rnnnkNYWBh8fX2xevVqNDc32+R6w8LC4OrqetlqH/VKJMT5UAAkhBA76evrQ0pKCt59990rfnzbtm1488038e6776K4uBgRERG46667oNVq2XOys7NRUFCAL774Av/85z+h0+mQkZEBs9k86tfr4eEBqVRq1SsRAA4ePEi9EglxMlQFTAghDkAgEKCgoACZmZkAhlb/xGIxsrOzsWHDBgBDq30ikQg5OTlYu3Ytenp6EB4ejk8++QT33XcfAKC1tRWTJ0/GN998g6VLl476dfJtYD744APMnTsXubm5+PDDD1FVVYWYmJhR/3qEENugFUBCCHFAdXV1aG9vt6q49fT0xMKFC1nFrVwuh9FotHqOWCxGUlKSzapy77vvPrz99tv4wx/+gNTUVBw7dgzffPMNhT9CnAzNAiaEEAfEn7O7UsVtQ0MDe46HhweCg4Mve44tq3LXrVuHdevW2ezPJ4TYHq0AEkKIA7uZiluqyiWE/BQKgIQQ4oAiIiIA4JoVtxERETAYDNBoNFd9DiGEXAkFQEIIcUCxsbGIiIiwqrg1GAwoKipiFbdSqRTu7u5Wz2lra0NlZSVV5RJCronOABJCiJ3odDrU1tay/6+rq0NZWRlCQkIQHR2N7OxsbNmyBfHx8YiPj8eWLVvg4+ODBx98EAAQGBiIp556Ci+++CJCQ0MREhKCl156CbNmzcLixYvtdVuEECdAAZAQQuykpKQEd9xxB/v/9evXAwAee+wx7Nq1Cy+//DIGBgawbt06aDQazJkzBwcOHIC/vz/7nLfeegtubm649957MTAwgDvvvBO7du2Cq6vrmN8PIcR5UB9AQgghhJAJhs4AEkIIIYRMMBQACSGEEEImGAqAhBBCCCETDAVAQgghhJAJhgIgIYQQQsgEQwGQEEIIIWSCoQBICCGEEDLBUAAkhBBCCJlgKAASQgghhEwwFAAJIYQQQiYYCoCEEEIIIRMMBUBCCCGEkAmGAiAhhBBCyARDAZAQQgghZIKhAEgIIYQQMsFQACSEEEIImWAoABJCCCGETDAUAAkhhBBCJhgKgIQQQgghEwwFQEIIIYSQCYYCICGEEELIBEMBkBBCCCFkgqEASAghhBAywVAAJIQQQgiZYCgAEkIIIYRMMBQACSGEEEImGAqAhBBCCCETDAVAQgghhJAJhgIgIYQQQsgEQwGQEEIIIWSCoQBICCGEEDLBUAAkhBBCCJlgKAASQgghhEwwFAAJIYQQQiYYCoCEEEIIIRMMBUBCCCGEkAmGAiAhhBBCyARDAZAQQgghZIKhAEgIIYQQMsFQACSEEEIImWAoABJCCCGETDAUAAkhhBBCJpj/D0F86kGQwXZGAAAAAElFTkSuQmCC' width=640.0/>\n",
       "            </div>\n",
       "        "
      ],
      "text/plain": [
       "Canvas(toolbar=Toolbar(toolitems=[('Home', 'Reset original view', 'home', 'home'), ('Back', 'Back to previous …"
      ]
     },
     "metadata": {},
     "output_type": "display_data"
    }
   ],
   "source": [
    "%matplotlib widget\n",
    "from scipy.linalg import lstsq\n",
    "\n",
    "# Linear fit of equatorial plane in the form f0*x+f1*y+f2 = z\n",
    "tmp_A = []\n",
    "tmp_b = []\n",
    "pts_x = []\n",
    "pts_y = []\n",
    "pts_z = []\n",
    "\n",
    "for point_idx in points_equatorial_plane:\n",
    "    [x, y, z] = pcd.points[point_idx]\n",
    "    tmp_A.append([x, y, 1])\n",
    "    tmp_b.append(z)    \n",
    "    pts_x.append(x)\n",
    "    pts_y.append(y)\n",
    "    pts_z.append(z)\n",
    "\n",
    "b = np.matrix(tmp_b).T\n",
    "A = np.matrix(tmp_A)\n",
    "\n",
    "# fit the equatorial plane \n",
    "fit_e, residual, rnk, s = lstsq(A, b)\n",
    "\n",
    "e_plane_a = fit_e[0,0]\n",
    "e_plane_b = fit_e[1,0]\n",
    "e_plane_c = fit_e[2,0]\n",
    "\n",
    "# define the meridian plane orthogonal to the equatorial plane\n",
    "# and prepare data for fitting:\n",
    "\n",
    "tmp_A = []\n",
    "tmp_b = []\n",
    "for point_idx in points_meridian_plane:\n",
    "    [x, y, z] = pcd.points[point_idx]\n",
    "    tmp_A.append([(e_plane_a*y-e_plane_b*x), e_plane_a])\n",
    "    tmp_b.append(e_plane_a*z+x)\n",
    "    pts_x.append(x)\n",
    "    pts_y.append(y)\n",
    "    pts_z.append(z)\n",
    "\n",
    "b = np.matrix(tmp_b).T\n",
    "A = np.matrix(tmp_A)\n",
    "\n",
    "fit_m, residual, rnk, s = lstsq(A, b)\n",
    "\n",
    "m_plane_a = -(1+e_plane_b*fit_m[0,0])/e_plane_a\n",
    "m_plane_b = fit_m[0,0]\n",
    "m_plane_c = fit_m[1,0]\n",
    "\n",
    "\n",
    "# plot the result of the fit:\n",
    "plt.figure()\n",
    "ax = plt.subplot(111, projection='3d')\n",
    "ax.scatter(pts_x, pts_y, pts_z, color='b', s = 10)\n",
    "\n",
    "ax.set_xlim([0,100])\n",
    "ax.set_ylim([0,100])\n",
    "ax.set_zlim([0,100])\n",
    "\n",
    "X,Y = np.meshgrid(np.arange(min(pts_x), max(pts_x)),\n",
    "                  np.arange(min(pts_y), max(pts_y)))\n",
    "Z = np.zeros(X.shape)\n",
    "\n",
    "for r in range(X.shape[0]):\n",
    "    for c in range(X.shape[1]):\n",
    "        temp_z = m_plane_a * X[r,c] + m_plane_b * Y[r,c] + m_plane_c\n",
    "        if (temp_z > 0.75*min(pts_z)) & (temp_z < 1.5*max(pts_z)):\n",
    "            Z[r,c] = temp_z\n",
    "        else:\n",
    "            Z[r,c] = np.nan\n",
    "\n",
    "ax.plot_wireframe(X,Y,Z, color='k')\n",
    "\n",
    "for r in range(X.shape[0]):\n",
    "    for c in range(X.shape[1]):\n",
    "        temp_z = e_plane_a * X[r,c] + e_plane_b * Y[r,c] + e_plane_c\n",
    "        if (temp_z > 0.75*min(pts_z)) & (temp_z < 1.5*max(pts_z)):\n",
    "            Z[r,c] = temp_z\n",
    "        else:\n",
    "            Z[r,c] = np.nan\n",
    "            \n",
    "ax.plot_wireframe(X,Y,Z, color='r')"
   ]
  },
  {
   "cell_type": "markdown",
   "id": "2c9ebbff",
   "metadata": {},
   "source": [
    "### Apply an affine transformation to align the axis with the meridian and equatorial planes and center the image around the center of the segmented surface."
   ]
  },
  {
   "cell_type": "code",
   "execution_count": 31,
   "id": "c934ff39",
   "metadata": {},
   "outputs": [],
   "source": [
    "## Change of coordinates:\n",
    "new_z = [[e_plane_a, e_plane_b, -1]]\n",
    "new_z = new_z/np.sum(new_z)\n",
    "new_y = [[m_plane_a, m_plane_b, -1]]\n",
    "new_y = new_y/np.sum(new_y)\n",
    "new_x = np.cross(new_z, new_y)\n",
    "\n",
    "Inv_transf_M = np.hstack((new_z.T, new_y.T, new_x.T))\n",
    "Dir_trans_M = np.linalg.inv(Inv_transf_M)\n",
    "\n",
    "pcd_center = pcd.get_center().T\n",
    "offset = pcd_center-np.matmul(Inv_transf_M,pcd_center)\n",
    "\n",
    "center = np.array(Image_padded.shape)/2\n",
    "Rotated_image = ndimage.affine_transform(Image_padded, Inv_transf_M, offset=offset, order=1)\n",
    "\n",
    "Rotated_thin_mask = ndimage.affine_transform(mask_thin, Inv_transf_M, offset=offset, order=1)>0.1\n",
    "Final_mask = morphology.dilation(Rotated_thin_mask, morphology.ball(segm_pars['dilation_r']))\n",
    "\n",
    "viewer = napari.view_image(Rotated_image*Final_mask)"
   ]
  },
  {
   "cell_type": "markdown",
   "id": "806c853c",
   "metadata": {},
   "source": [
    "## Save the reference image"
   ]
  },
  {
   "cell_type": "code",
   "execution_count": 34,
   "id": "5dc1b1d5",
   "metadata": {},
   "outputs": [],
   "source": [
    "# Save it as reference\n",
    "from tifffile import imsave\n",
    "\n",
    "imsave(\"../test_dataset/References_and_masks/C1_Reference_iso.tiff\", (Rotated_image*Final_mask).astype(np.uint16))\n",
    "imsave(\"../test_dataset/References_and_masks/Reference_mask_iso.tiff\", (Final_mask).astype(np.uint16))"
   ]
  },
  {
   "cell_type": "code",
   "execution_count": null,
   "id": "0b6fbd05",
   "metadata": {},
   "outputs": [],
   "source": []
  }
 ],
 "metadata": {
  "kernelspec": {
   "display_name": "Python 3 (ipykernel)",
   "language": "python",
   "name": "python3"
  },
  "language_info": {
   "codemirror_mode": {
    "name": "ipython",
    "version": 3
   },
   "file_extension": ".py",
   "mimetype": "text/x-python",
   "name": "python",
   "nbconvert_exporter": "python",
   "pygments_lexer": "ipython3",
   "version": "3.8.12"
  }
 },
 "nbformat": 4,
 "nbformat_minor": 5
}
