{
 "cells": [
  {
   "cell_type": "markdown",
   "id": "b3c0da04",
   "metadata": {},
   "source": [
    "# Test Fly Abdomens Segmentation and generate Reference Image\n",
    "\n",
    "This notebook is used to test each step used in the detection and segmentation of the surface of the abdomen in an image stack. Select the segmentation parameters appropriate to your images and save one image as a reference."
   ]
  },
  {
   "cell_type": "code",
   "execution_count": 1,
   "id": "a8b4d220-5903-49e8-8704-d26569a4263c",
   "metadata": {},
   "outputs": [
    {
     "name": "stdout",
     "output_type": "stream",
     "text": [
      "Jupyter environment detected. Enabling Open3D WebVisualizer.\n",
      "[Open3D INFO] WebRTC GUI backend enabled.\n",
      "[Open3D INFO] WebRTCWindowSystem: HTTP handshake server disabled.\n"
     ]
    }
   ],
   "source": [
    "# import packages \n",
    "from skimage import io, transform\n",
    "import numpy as np\n",
    "import open3d as o3d\n",
    "import copy\n",
    "import napari\n",
    "import time\n",
    "import os\n",
    "from skimage import morphology\n",
    "from skimage.measure import label, regionprops, block_reduce\n",
    "from scipy import stats, ndimage\n",
    "import matplotlib.pyplot as plt\n",
    "import sys\n",
    "\n",
    "root_dir = os.path.join(os.getcwd(), '..')\n",
    "sys.path.append(root_dir)\n",
    "\n",
    "from src.preprocess import segmentation_with_optimized_thresh, image_padding, refine_surface_mask, refine_surface_mask_with_mesh_interpolation\n",
    "from src.aux_pcd_functions import pcd_to_image, image_to_pcd\n"
   ]
  },
  {
   "cell_type": "markdown",
   "id": "d15bcd91",
   "metadata": {},
   "source": [
    "### Set parameters:"
   ]
  },
  {
   "cell_type": "code",
   "execution_count": 2,
   "id": "b404e139",
   "metadata": {},
   "outputs": [],
   "source": [
    "# Downscaling of confocal stacks along z,x,y, \n",
    "# pick numbers that make the resolution isotropic:\n",
    "downscaling = (1, 2.5, 2.5) \n",
    "\n",
    "# Bit depth of raw images \n",
    "# (depending on the detector settings this may be 8, 12 or 16)\n",
    "bit_depth = 12\n",
    "\n",
    "# Default values of the parameters used for the segmentation:\n",
    "segm_pars={'threshold': 1.05, 'max_iter': 200,'fraction_range': [0.04, 0.05], \n",
    "           'padding': 20, 'closing_r': 4, 'dilation_r': 4, 'mesh_radius': 10}"
   ]
  },
  {
   "cell_type": "markdown",
   "id": "4ab7a652",
   "metadata": {},
   "source": [
    "### Downscaling and visualization of raw data"
   ]
  },
  {
   "cell_type": "code",
   "execution_count": 3,
   "id": "661869ed-6f47-49af-ab59-a0e1790396a3",
   "metadata": {},
   "outputs": [],
   "source": [
    "# Load the image, only fluorescence channel is required:\n",
    "reference_fly_filename = \"../test_dataset/01_raw/C1-Image1.tif\"\n",
    "image = io.imread(reference_fly_filename)\n",
    "\n",
    "# Apply downscaling and visualize the stack:\n",
    "new_image_shape = [int(image.shape[i]/downscaling[i]) for i in range(3)]\n",
    "image_downscaled = transform.resize(image, new_image_shape, preserve_range = True, anti_aliasing=True)\n",
    "viewer = napari.view_image(image_downscaled)"
   ]
  },
  {
   "cell_type": "markdown",
   "id": "7c088fcb",
   "metadata": {},
   "source": [
    "### Thresholding:"
   ]
  },
  {
   "cell_type": "code",
   "execution_count": 4,
   "id": "952aa3e4-e2db-4b1a-ad04-9f695c0e7652",
   "metadata": {},
   "outputs": [],
   "source": [
    "# Segment:\n",
    "Thresholded_Image = segmentation_with_optimized_thresh(image_downscaled,\n",
    "                                                       segm_pars['threshold'], \n",
    "                                                       segm_pars['max_iter'], \n",
    "                                                       segm_pars['fraction_range'])\n",
    "viewer = napari.view_image(Thresholded_Image)"
   ]
  },
  {
   "cell_type": "markdown",
   "id": "48c89736",
   "metadata": {},
   "source": [
    "## Clean up the segmented volume with morphological transformations:"
   ]
  },
  {
   "cell_type": "code",
   "execution_count": 5,
   "id": "a983d3d8",
   "metadata": {},
   "outputs": [],
   "source": [
    "# Padding:\n",
    "Mask_padded  = image_padding(Thresholded_Image, padding = segm_pars['padding'])\n",
    "Image_padded = image_padding(image_downscaled, padding = segm_pars['padding'])\n",
    "\n",
    "# Clean up the segmentation with morphological transformations:\n",
    "Refined_Mask = refine_surface_mask(Mask_padded, Image_padded, segm_pars['closing_r'], segm_pars['mesh_radius'])\n",
    "\n",
    "# Visualize the result:\n",
    "viewer = napari.view_image(Refined_Mask)"
   ]
  },
  {
   "cell_type": "markdown",
   "id": "c6189a5c",
   "metadata": {},
   "source": [
    "## Transform the segmented volume in a point cloud object and fit a mesh to fill potential holes:"
   ]
  },
  {
   "cell_type": "code",
   "execution_count": 11,
   "id": "70a2dc91-45b8-436c-a13e-4c8893553cd5",
   "metadata": {},
   "outputs": [],
   "source": [
    "# Define functions to visualize the point cloud object:\n",
    "\n",
    "def custom_draw(pcd):\n",
    "    vis = o3d.visualization.Visualizer()\n",
    "    vis.create_window()\n",
    "    opt = vis.get_render_option()\n",
    "    opt.background_color = np.asarray([0, 0, 0])\n",
    "    vis.add_geometry(pcd)\n",
    "    vis.run()\n",
    "    vis.destroy_window()\n",
    "    \n",
    "def custom_draw_w_mesh(pcd, mesh):\n",
    "    vis = o3d.visualization.Visualizer()\n",
    "    vis.create_window()\n",
    "    opt = vis.get_render_option()\n",
    "    opt.background_color = np.asarray([0, 0, 0])\n",
    "    vis.add_geometry(pcd)\n",
    "    vis.add_geometry(mesh)\n",
    "    vis.run()\n",
    "    vis.destroy_window()\n",
    "    \n",
    "def draw_pcd(pcd):\n",
    "    pcd_temp = copy.deepcopy(pcd)\n",
    "    pcd_temp.paint_uniform_color([1, 0.706, 0])\n",
    "    o3d.visualization.draw_geometries([pcd_temp])\n",
    "\n",
    "\n",
    "# Transform the mask surface in a point cloud and interpolate it with a mesh:\n",
    "mesh_pcd, mesh_pcd_values, original_pcd, mesh = refine_surface_mask_with_mesh_interpolation(\n",
    "                                        Refined_Mask, segm_pars['mesh_radius'])\n",
    "\n",
    "custom_draw_w_mesh(original_pcd, mesh)\n",
    "custom_draw(mesh_pcd)"
   ]
  },
  {
   "cell_type": "markdown",
   "id": "8a72eaf7",
   "metadata": {},
   "source": [
    "## Create a mask from the mesh and apply it to the original image stack:"
   ]
  },
  {
   "cell_type": "code",
   "execution_count": 13,
   "id": "edd043b9",
   "metadata": {},
   "outputs": [
    {
     "name": "stderr",
     "output_type": "stream",
     "text": [
      "INFO - 2023-06-21 17:32:08,397 - acceleratesupport - No OpenGL_accelerate module loaded: No module named 'OpenGL_accelerate'\n"
     ]
    }
   ],
   "source": [
    "final_image = pcd_to_image(mesh_pcd, mesh_pcd_values, Refined_Mask.shape)\n",
    "final_image = morphology.dilation(final_image, morphology.ball(segm_pars['dilation_r']))\n",
    "viewer = napari.view_image(final_image*Image_padded)"
   ]
  },
  {
   "cell_type": "markdown",
   "id": "806c853c",
   "metadata": {},
   "source": [
    "## Save the masked image"
   ]
  },
  {
   "cell_type": "code",
   "execution_count": null,
   "id": "5dc1b1d5",
   "metadata": {},
   "outputs": [],
   "source": [
    "# Save it as reference\n",
    "from tifffile import imsave\n",
    "imsave(\"../../data_2/References_and_masks/C1_Reference_iso.tiff\", (final_image*Image_padded).astype(np.uint16))"
   ]
  }
 ],
 "metadata": {
  "kernelspec": {
   "display_name": "Python 3 (ipykernel)",
   "language": "python",
   "name": "python3"
  },
  "language_info": {
   "codemirror_mode": {
    "name": "ipython",
    "version": 3
   },
   "file_extension": ".py",
   "mimetype": "text/x-python",
   "name": "python",
   "nbconvert_exporter": "python",
   "pygments_lexer": "ipython3",
   "version": "3.8.12"
  }
 },
 "nbformat": 4,
 "nbformat_minor": 5
}
