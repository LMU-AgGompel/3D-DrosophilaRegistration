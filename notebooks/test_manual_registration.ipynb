{
 "cells": [
  {
   "cell_type": "code",
   "execution_count": 4,
   "id": "a8b4d220-5903-49e8-8704-d26569a4263c",
   "metadata": {},
   "outputs": [],
   "source": [
    "# import packages \n",
    "import numpy as np\n",
    "import open3d as o3d\n",
    "from io import StringIO\n",
    "import copy\n",
    "from scipy import stats, ndimage\n",
    "import sys\n",
    "import os\n",
    "from skimage import io\n",
    "\n",
    "root_dir = os.path.join(os.getcwd(), '..')\n",
    "sys.path.append(root_dir)\n",
    "\n",
    "from src.aux_pcd_functions  import pcd_to_image, image_to_pcd"
   ]
  },
  {
   "cell_type": "code",
   "execution_count": 5,
   "id": "43a7a6c9-59a7-4f7b-b346-cc1a1e34192b",
   "metadata": {},
   "outputs": [],
   "source": [
    "def draw_registration_result(source, target):\n",
    "    \"\"\"\n",
    "    Draw two point clouds in blue and yellow\n",
    "    \n",
    "    Parameters\n",
    "    ----------\n",
    "    source : point cloud\n",
    "    target : point cloud\n",
    "\n",
    "    Returns\n",
    "    -------\n",
    "    None.\n",
    "\n",
    "    \"\"\"\n",
    "    source_temp = copy.deepcopy(source)\n",
    "    target_temp = copy.deepcopy(target)\n",
    "    source_temp.paint_uniform_color([1, 0.706, 0])\n",
    "    target_temp.paint_uniform_color([0, 0.651, 0.929])\n",
    "    o3d.visualization.draw_geometries([source_temp, target_temp])\n",
    "    \n",
    "    return\n",
    "\n",
    "def _manual_registration(source, source_values, target, target_values):\n",
    "    \"\"\"\n",
    "    Parameters\n",
    "    ----------\n",
    "    source : pcd\n",
    "    source_values : numpy array\n",
    "    target : pcd\n",
    "    target_values : numpy array\n",
    "    \n",
    "    Returns\n",
    "    -------\n",
    "    transformation: open3d transformation\n",
    "    the affine transformation mapping the source points cloud on the target points cloud.\n",
    "\n",
    "    \"\"\"\n",
    "    source_temp = copy.deepcopy(source)\n",
    "    target_temp = copy.deepcopy(target)\n",
    "    \n",
    "    bw_colors = 10*(source_values-np.min(source_values))/np.max(source_values)\n",
    "    source_temp.colors = o3d.utility.Vector3dVector(np.asarray([bw_colors, bw_colors, bw_colors]).T)\n",
    "\n",
    "    bw_colors = 10*(target_values-np.min(target_values))/np.max(target_values)\n",
    "    target_temp.colors = o3d.utility.Vector3dVector(np.asarray([bw_colors, bw_colors, bw_colors]).T)\n",
    "\n",
    "    # pick points from two point clouds and builds correspondences\n",
    "    picked_id_source = pick_points(source_temp)\n",
    "    picked_id_target = pick_points(target_temp)\n",
    "    \n",
    "    assert (len(picked_id_source) >= 3 and len(picked_id_target) >= 3)\n",
    "    assert (len(picked_id_source) == len(picked_id_target))\n",
    "    corr = np.zeros((len(picked_id_source), 2))\n",
    "    corr[:, 0] = picked_id_source\n",
    "    corr[:, 1] = picked_id_target\n",
    "\n",
    "    # estimate transformation:\n",
    "    p2p = o3d.pipelines.registration.TransformationEstimationPointToPoint(with_scaling=True)\n",
    "    transformation = p2p.compute_transformation(source, target, o3d.utility.Vector2iVector(corr))\n",
    "\n",
    "    return transformation\n",
    "\n",
    "\n",
    "def pick_points(pcd):\n",
    "    \"\"\"\n",
    "    Visualize a point cloud object and allows the user to select a series of points\n",
    "    on the object. Returns the coordinates of the selected points.\n",
    "\n",
    "    Parameters\n",
    "    ----------\n",
    "    pcd : point cloud object\n",
    "\n",
    "    Returns\n",
    "    -------\n",
    "    selected points (pcd).\n",
    "\n",
    "    \"\"\"\n",
    "    \n",
    "    # These are used to suppress the printed output from Open3D while picking points:\n",
    "    stdout_old = sys.stdout\n",
    "    sys.stdout = StringIO()\n",
    "    # Create Visualizer with editing:\n",
    "    vis = o3d.visualization.VisualizerWithEditing()\n",
    "    vis.create_window()\n",
    "    vis.add_geometry(pcd)\n",
    "    # user picks points\n",
    "    result = vis.run()  \n",
    "    vis.destroy_window()\n",
    "    # This restores the output:\n",
    "    sys.stdout = stdout_old\n",
    "    return vis.get_picked_points()"
   ]
  },
  {
   "cell_type": "markdown",
   "id": "3136635d",
   "metadata": {},
   "source": [
    "### test registration without color:"
   ]
  },
  {
   "cell_type": "code",
   "execution_count": 8,
   "id": "eafbfa44",
   "metadata": {},
   "outputs": [],
   "source": [
    "# Test registration:\n",
    "\n",
    "# Read files and create point clouds\n",
    "reference_fly_filename = \"../../data_2/References_and_masks/C1_Reference_iso.tif\"\n",
    "abdomen_mask_file = \"../../data_2/References_and_masks/Reference_abdomen_mask_iso.tif\"\n",
    "\n",
    "source_file_name = \"../../data_2/02_preprocessed/Preprocessed_C2-D0_En_pn_male_01_20220704.tif\"\n",
    "\n",
    "Reference_Image = io.imread(reference_fly_filename)\n",
    "Abdomen_Mask = io.imread(abdomen_mask_file)\n",
    "Source_Image = io.imread(source_file_name)\n",
    "\n",
    "source, source_values = image_to_pcd(Source_Image)\n",
    "target, target_values = image_to_pcd(Reference_Image)\n",
    "\n",
    "transformation = _manual_registration(source, source_values, target, target_values)\n",
    "source.transform(transformation)\n",
    "draw_registration_result(source, target)\n",
    "\n",
    "registered_source_image = pcd_to_image(source, source_values, Reference_Image.shape)"
   ]
  },
  {
   "cell_type": "code",
   "execution_count": 9,
   "id": "0307fb62",
   "metadata": {},
   "outputs": [
    {
     "name": "stderr",
     "output_type": "stream",
     "text": [
      "INFO - 2023-04-20 18:52:58,507 - acceleratesupport - No OpenGL_accelerate module loaded: No module named 'OpenGL_accelerate'\n"
     ]
    }
   ],
   "source": [
    "import napari\n",
    "viewer = napari.view_image(registered_source_image)"
   ]
  },
  {
   "cell_type": "code",
   "execution_count": 10,
   "id": "d119c18d",
   "metadata": {},
   "outputs": [],
   "source": [
    "viewer = napari.view_image(Source_Image)"
   ]
  },
  {
   "cell_type": "code",
   "execution_count": null,
   "id": "195c4658",
   "metadata": {},
   "outputs": [],
   "source": []
  }
 ],
 "metadata": {
  "kernelspec": {
   "display_name": "Python 3 (ipykernel)",
   "language": "python",
   "name": "python3"
  },
  "language_info": {
   "codemirror_mode": {
    "name": "ipython",
    "version": 3
   },
   "file_extension": ".py",
   "mimetype": "text/x-python",
   "name": "python",
   "nbconvert_exporter": "python",
   "pygments_lexer": "ipython3",
   "version": "3.8.12"
  }
 },
 "nbformat": 4,
 "nbformat_minor": 5
}
